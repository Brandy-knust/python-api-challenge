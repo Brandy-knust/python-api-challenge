{
 "cells": [
  {
   "cell_type": "code",
   "execution_count": 7,
   "id": "bacterial-recall",
   "metadata": {},
   "outputs": [
    {
     "data": {
      "text/plain": [
       "<module 'citipy' from 'C:\\\\Users\\\\brand\\\\.conda\\\\envs\\\\pythonData\\\\lib\\\\site-packages\\\\citipy\\\\__init__.py'>"
      ]
     },
     "execution_count": 7,
     "metadata": {},
     "output_type": "execute_result"
    }
   ],
   "source": [
    "import requests\n",
    "from pprint import pprint\n",
    "from config import api_keys\n",
    "import citipy\n",
    "\n",
    "url = \"https://openweathermap.org/api.json\"\n",
    "\n"
   ]
  }
 ],
 "metadata": {
  "kernelspec": {
   "display_name": "Python 3",
   "language": "python",
   "name": "python3"
  },
  "language_info": {
   "codemirror_mode": {
    "name": "ipython",
    "version": 3
   },
   "file_extension": ".py",
   "mimetype": "text/x-python",
   "name": "python",
   "nbconvert_exporter": "python",
   "pygments_lexer": "ipython3",
   "version": "3.6.10"
  }
 },
 "nbformat": 4,
 "nbformat_minor": 5
}
