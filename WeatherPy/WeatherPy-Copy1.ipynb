{
 "cells": [
  {
   "cell_type": "markdown",
   "metadata": {},
   "source": [
    "# WeatherPy\n",
    "----\n",
    "\n",
    "#### Note\n",
    "* Instructions have been included for each segment. You do not have to follow them exactly, but they are included to help you think through the steps."
   ]
  },
  {
   "cell_type": "code",
   "execution_count": 1,
   "metadata": {
    "scrolled": true
   },
   "outputs": [],
   "source": [
    "# Dependencies and Setup\n",
    "import matplotlib.pyplot as plt\n",
    "import pandas as pd\n",
    "import numpy as np\n",
    "import requests\n",
    "import time\n",
    "from scipy.stats import linregress\n",
    "import json\n",
    "\n",
    "\n",
    "# Import API key\n",
    "from api_keys import weather_api_key\n",
    "\n",
    "# Incorporated citipy to determine city based on latitude and longitude\n",
    "from citipy import citipy\n",
    "\n",
    "# Output File (CSV)\n",
    "output_data_file = \"output_data/cities.csv\"\n",
    "\n",
    "# Range of latitudes and longitudes\n",
    "lat_range = (-90, 90)\n",
    "lng_range = (-180, 180)"
   ]
  },
  {
   "cell_type": "markdown",
   "metadata": {},
   "source": [
    "## Generate Cities List"
   ]
  },
  {
   "cell_type": "code",
   "execution_count": 2,
   "metadata": {},
   "outputs": [
    {
     "data": {
      "text/plain": [
       "621"
      ]
     },
     "execution_count": 2,
     "metadata": {},
     "output_type": "execute_result"
    }
   ],
   "source": [
    "# List for holding lat_lngs and cities\n",
    "lat_lngs = []\n",
    "cities = []\n",
    "\n",
    "# Create a set of random lat and lng combinations\n",
    "lats = np.random.uniform(lat_range[0], lat_range[1], size=1500)\n",
    "lngs = np.random.uniform(lng_range[0], lng_range[1], size=1500)\n",
    "lat_lngs = zip(lats, lngs)\n",
    "\n",
    "# Identify nearest city for each lat, lng combination\n",
    "for lat_lng in lat_lngs:\n",
    "    city = citipy.nearest_city(lat_lng[0], lat_lng[1]).city_name\n",
    "    \n",
    "    # If the city is unique, then add it to a our cities list\n",
    "    if city not in cities:\n",
    "        cities.append(city)\n",
    "for city in cities:\n",
    "    city_name = city.replace(\" \", \"%20\")\n",
    "\n",
    "# Print the city count to confirm sufficient count\n",
    "len(cities)\n"
   ]
  },
  {
   "cell_type": "markdown",
   "metadata": {},
   "source": [
    "### Perform API Calls\n",
    "* Perform a weather check on each city using a series of successive API calls.\n",
    "* Include a print log of each city as it'sbeing processed (with the city number and city name).\n"
   ]
  },
  {
   "cell_type": "code",
   "execution_count": 3,
   "metadata": {
    "scrolled": true
   },
   "outputs": [
    {
     "name": "stdout",
     "output_type": "stream",
     "text": [
      "no taolanaro data is available\n",
      "Name: Oloron-Sainte-Marie ID: 2989569\n",
      "Name: Ambulu ID: 1621313\n",
      "Name: Port Elizabeth ID: 964420\n",
      "Name: Saint-Philippe ID: 935215\n",
      "Name: Kontagora ID: 2334008\n",
      "Name: Punta Arenas ID: 3874787\n",
      "Name: Luga ID: 533690\n",
      "Name: Kapaa ID: 5848280\n",
      "Name: Kaitangata ID: 2208248\n",
      "Name: Nehe ID: 2035610\n",
      "Name: Ushuaia ID: 3833367\n",
      "Name: Itarana ID: 3460623\n",
      "Name: Arraial do Cabo ID: 3471451\n",
      "Name: Tasiilaq ID: 3424607\n",
      "Name: Ţahţā ID: 347634\n",
      "Name: Khatanga ID: 2022572\n",
      "Name: Tongzi ID: 1799686\n",
      "Name: Castro ID: 3466704\n",
      "Name: Siteki ID: 934851\n",
      "Name: Oranjemund ID: 3354071\n",
      "Name: Awjilah ID: 88533\n",
      "Name: San Ramon ID: 5392593\n",
      "Name: Albany ID: 5106841\n",
      "Name: Sawākin ID: 367544\n",
      "Name: Alofi ID: 4036284\n",
      "Name: Khadro ID: 1174408\n",
      "Name: Mataura ID: 6201424\n",
      "Name: Baykit ID: 1510689\n",
      "no sentyabrskiy data is available\n",
      "Name: Porto-Novo ID: 2392087\n",
      "no grand river south east data is available\n",
      "no attawapiskat data is available\n",
      "Name: Busselton ID: 2075265\n",
      "Name: Vaini ID: 4032243\n",
      "Name: Tuktoyaktuk ID: 6170031\n",
      "Name: Hobart ID: 2163355\n",
      "no rungata data is available\n",
      "Name: Āsmār ID: 1148205\n",
      "Name: Rikitea ID: 4030556\n",
      "Name: Broome ID: 5110365\n",
      "Name: Jamestown ID: 5122534\n",
      "Name: Pinerolo ID: 3170694\n",
      "Name: Esperance ID: 2071860\n",
      "Name: Puerto Ayora ID: 3652764\n",
      "Name: Kargasok ID: 1504382\n",
      "Name: Cidreira ID: 3466165\n",
      "Name: Marawi ID: 1701054\n",
      "Name: Upernavik ID: 3418910\n",
      "no samusu data is available\n",
      "Name: Ribeira Grande ID: 3372707\n",
      "Name: Severo-Kuril'sk ID: 2121385\n",
      "Name: Korsakov ID: 2124286\n",
      "Name: Bredasdorp ID: 1015776\n",
      "Name: Ilulissat ID: 3423146\n",
      "no umzimvubu data is available\n",
      "Name: Mafinga ID: 155405\n",
      "Name: George Town ID: 1735106\n",
      "Name: Provideniya ID: 4031574\n",
      "Name: Vardø ID: 777019\n",
      "Name: Zhuhai ID: 1790437\n",
      "Name: Aykino ID: 580182\n",
      "Name: Lagan ID: 551846\n",
      "Name: Coquimbo ID: 3893629\n",
      "Name: Dikson ID: 1507390\n",
      "Name: Namatanai ID: 2090021\n",
      "Name: Barra de Tecoanapa ID: 3516171\n",
      "Name: Yellowknife ID: 6185377\n",
      "Name: Airai ID: 1651810\n",
      "Name: Lompoc ID: 5367788\n",
      "Name: Hilo ID: 5855927\n",
      "Name: Conceição do Araguaia ID: 3401845\n",
      "Name: Aklavik ID: 5882953\n",
      "Name: Borogontsy ID: 2026160\n",
      "Name: Tateyama ID: 1850523\n",
      "Name: Iwanai ID: 2129868\n",
      "Name: Butaritari ID: 2110227\n",
      "Name: Olafsvik ID: 3414079\n",
      "Name: Bluff ID: 2206939\n",
      "Name: Ceuta ID: 2519582\n",
      "Name: Belaya Gora ID: 2126785\n",
      "Name: Barrow ID: 5880054\n",
      "Name: Sola ID: 2134814\n",
      "Name: East London ID: 1006984\n",
      "Name: Santo Amaro da Imperatriz ID: 3449711\n",
      "Name: Progreso ID: 3521108\n",
      "Name: Evensk ID: 2125693\n",
      "Name: Te Anau ID: 2181625\n",
      "no palabuhanratu data is available\n",
      "Name: Hualmay ID: 3939761\n",
      "Name: Bilma ID: 2446796\n",
      "Name: Saint-Pierre ID: 935214\n",
      "Name: Key West ID: 4160812\n",
      "Name: Comodoro Rivadavia ID: 3860443\n",
      "Name: Torbay ID: 6167817\n",
      "Name: Marabá ID: 3395503\n",
      "no tasbuget data is available\n",
      "Name: Cape Town ID: 3369157\n",
      "Name: Liaocheng ID: 1803834\n",
      "Name: Floriano ID: 3399506\n",
      "Name: Polson ID: 5671996\n",
      "Name: Antofagasta ID: 3899539\n",
      "Name: Woodward ID: 4556050\n",
      "Name: Kumul ID: 1529484\n",
      "Name: San Quintín ID: 3984997\n",
      "Name: Norman Wells ID: 6089245\n",
      "Name: Kingaroy ID: 2161376\n",
      "Name: Qasigiannguit ID: 3420768\n",
      "Name: Kashgar ID: 1280849\n",
      "Name: Kingsville ID: 4703384\n",
      "Name: Novoagansk ID: 1497210\n",
      "Name: Junction City ID: 4273680\n",
      "Name: Flinders ID: 6255012\n",
      "Name: Ulaanbaatar ID: 2028462\n",
      "Name: Iqaluit ID: 5983720\n",
      "Name: Chokurdakh ID: 2126123\n",
      "Name: Saskylakh ID: 2017155\n",
      "Name: Ankang ID: 1789065\n",
      "Name: Hermanus ID: 3366880\n",
      "no mullaitivu data is available\n",
      "Name: Totness ID: 3382867\n",
      "Name: Coyhaique ID: 3894426\n",
      "Name: Kazachinskoye ID: 1504075\n",
      "Name: Nizhniy Odes ID: 520552\n",
      "Name: Samarai ID: 2132606\n",
      "Name: Chernyshevskiy ID: 2025456\n",
      "Name: Kruisfontein ID: 986717\n",
      "Name: Jianning ID: 1783763\n",
      "Name: Třinec ID: 3064000\n",
      "Name: Amalāpuram ID: 1278935\n",
      "Name: Thompson ID: 6165406\n",
      "Name: São Filipe ID: 3374210\n",
      "Name: Garoua Boulaï ID: 2231319\n",
      "no halalo data is available\n",
      "Name: Plouzané ID: 2986626\n",
      "Name: Nikolskoye ID: 546105\n",
      "Name: La Santisima Trinidad ID: 3902377\n",
      "Name: Faanui ID: 4034551\n",
      "Name: Tàrrega ID: 3108285\n",
      "Name: Rapu-Rapu ID: 1691862\n",
      "Name: Mehamn ID: 778707\n",
      "Name: Qinggang ID: 2035325\n",
      "Name: Qaanaaq ID: 3831208\n",
      "no illoqqortoormiut data is available\n",
      "Name: Tautira ID: 4033557\n",
      "Name: Puerto Escondido ID: 3520994\n",
      "Name: Carnarvon ID: 2074865\n",
      "Name: Plettenberg Bay ID: 964712\n",
      "no bababe data is available\n",
      "Name: Los Llanos de Aridane ID: 2514651\n",
      "Name: Hithadhoo ID: 1282256\n",
      "Name: Tandil ID: 3427833\n",
      "Name: San Jerónimo ID: 3929611\n",
      "no bargal data is available\n",
      "Name: Oliveira dos Brejinhos ID: 3455903\n",
      "Name: Cabo San Lucas ID: 3985710\n",
      "Name: Vostok ID: 2013279\n",
      "Name: Umluj ID: 100926\n",
      "Name: Vanavara ID: 2013727\n",
      "Name: Yerbogachën ID: 2012956\n",
      "Name: Aitape ID: 2101169\n",
      "Name: Touros ID: 3386213\n",
      "Name: North Bend ID: 5742974\n",
      "Name: La Sarre ID: 6050194\n",
      "Name: Manavālakurichi ID: 1263942\n",
      "Name: Atambua ID: 1651103\n",
      "Name: Puerto Nariño ID: 3671387\n",
      "Name: Qinzhou ID: 1797551\n",
      "Name: Cabedelo ID: 3404558\n",
      "Name: Ust'-Uda ID: 2013865\n",
      "Name: Saint George ID: 5546220\n",
      "Name: Gampola ID: 1246000\n",
      "Name: Port Augusta ID: 2063056\n",
      "Name: Karakol ID: 1528121\n",
      "Name: Mihăeşti ID: 673417\n",
      "Name: Salalah ID: 286621\n",
      "Name: Ichinohe ID: 2129961\n",
      "Name: Srednekolymsk ID: 2121025\n",
      "Name: Carutapera ID: 3402648\n",
      "Name: Baracoa ID: 3567834\n",
      "Name: Kiunga ID: 2093846\n",
      "Name: Merritt ID: 6072350\n",
      "Name: Mercedes ID: 3430708\n",
      "Name: Kahului ID: 5847411\n",
      "Name: San Cristobal ID: 3628473\n",
      "Name: Jumla ID: 1283285\n",
      "Name: Shingū ID: 1847947\n",
      "Name: Lavrentiya ID: 4031637\n",
      "Name: Najrān ID: 103630\n",
      "Name: Meulaboh ID: 1214488\n",
      "Name: Constitución ID: 3893726\n",
      "Name: Kavieng ID: 2094342\n",
      "Name: La Palma ID: 5364022\n",
      "Name: Paraná ID: 3841956\n",
      "Name: Atuona ID: 4020109\n",
      "Name: Parit Raja ID: 1732698\n",
      "Name: Tānsen ID: 1282714\n",
      "Name: King City ID: 5363208\n",
      "Name: Ponta do Sol ID: 2264557\n",
      "Name: Chanika ID: 160592\n",
      "no nizhneyansk data is available\n",
      "Name: Byron Bay ID: 2172880\n",
      "Name: Bilibino ID: 2126682\n",
      "Name: New Norfolk ID: 2155415\n",
      "Name: Sivas Province ID: 300617\n",
      "Name: Alice Springs ID: 2077895\n",
      "Name: Gladstone ID: 2165478\n",
      "Name: Korla ID: 1529376\n",
      "no vaitupu data is available\n",
      "Name: Solnechnyy ID: 2016307\n",
      "Name: Cherskiy ID: 2126199\n",
      "Name: Imbituba ID: 3461370\n",
      "Name: Lorengau ID: 2092164\n",
      "no kamenskoye data is available\n",
      "Name: Kangaatsiaq ID: 3422683\n",
      "Name: Tambopata ID: 3927942\n",
      "Name: Longyearbyen ID: 2729907\n",
      "Name: Maceió ID: 3395981\n",
      "Name: Maniitsoq ID: 3421982\n",
      "Name: Corumbá ID: 3465342\n",
      "Name: Edd ID: 338345\n",
      "Name: Port Huron ID: 5006233\n",
      "Name: Harper ID: 2276492\n",
      "Name: Avera ID: 4231997\n",
      "Name: Opuwo ID: 3354077\n",
      "Name: Chumikan ID: 2025256\n",
      "no bobonong data is available\n",
      "Name: Tamandaré ID: 3386931\n",
      "Name: Bethel ID: 5282297\n",
      "Name: Preobrazheniye ID: 2017658\n",
      "Name: Haines Junction ID: 5969025\n",
      "no burica data is available\n",
      "Name: Moose Factory ID: 6078372\n",
      "Name: Mastung ID: 1170706\n",
      "Name: Quelimane ID: 1028434\n",
      "no marcona data is available\n",
      "Name: Sakakah ID: 102527\n",
      "Name: Pevek ID: 2122090\n",
      "Name: Bhuj ID: 1275812\n",
      "Name: Coolum Beach ID: 2170581\n",
      "Name: Pisco ID: 3932145\n",
      "Name: Katsuura ID: 2112309\n",
      "Name: Souillac ID: 933995\n",
      "Name: Mount Isa ID: 2065594\n",
      "Name: Asilah ID: 2557055\n",
      "no mutsamudu data is available\n",
      "no louisbourg data is available\n",
      "Name: Mackay ID: 2159220\n",
      "Name: Pokosnoye ID: 2017842\n",
      "Name: Aktash ID: 1511997\n",
      "Name: General Roca ID: 3855065\n",
      "no barawe data is available\n",
      "Name: Vila Franca do Campo ID: 3372472\n",
      "Name: Cap Malheureux ID: 934649\n",
      "Name: Viranşehir ID: 298033\n",
      "no vestbygda data is available\n",
      "Name: São José da Coroa Grande ID: 3388456\n",
      "Name: Port Alfred ID: 964432\n",
      "Name: Tual ID: 1623197\n",
      "Name: San Juan ID: 3837213\n",
      "Name: Lebu ID: 3883457\n",
      "Name: Pompéia ID: 3453242\n",
      "Name: Nev'yansk ID: 1497795\n",
      "Name: Port Macquarie ID: 2152659\n",
      "Name: Lashio ID: 1314759\n",
      "Name: Thunder Bay ID: 6166142\n",
      "Name: Yeppoon ID: 2142316\n",
      "Name: Naze ID: 1855540\n",
      "no tsihombe data is available\n",
      "Name: Arman' ID: 2127060\n",
      "Name: Sayyan ID: 70979\n",
      "Name: Mounana ID: 2397978\n",
      "Name: Avarua ID: 4035715\n",
      "Name: Sumbe ID: 3346015\n",
      "Name: St. George's ID: 3579925\n",
      "Name: Dunedin ID: 2191562\n",
      "Name: Cabras ID: 2525478\n",
      "Name: Bom Jesus ID: 3405304\n",
      "Name: Bambous Virieux ID: 1106677\n",
      "Name: Mar del Plata ID: 3430863\n",
      "Name: Lüderitz ID: 3355672\n",
      "Name: Arlit ID: 2447513\n",
      "Name: Sal Rei ID: 3374235\n",
      "Name: Marsabit ID: 187585\n",
      "Name: Mt. Pleasant ID: 4588165\n",
      "Name: Nevşehir ID: 303830\n",
      "Name: Coahuayana Viejo ID: 4013679\n",
      "Name: Salinópolis ID: 3389822\n",
      "Name: Grindavik ID: 3416888\n",
      "Name: Orange Walk District ID: 3581511\n",
      "Name: Narsaq ID: 3421719\n",
      "Name: Chui ID: 3443061\n",
      "Name: Daru ID: 2098329\n",
      "Name: Buala ID: 2109528\n",
      "Name: Vila Velha ID: 3445026\n",
      "Name: Wągrowiec ID: 3082712\n",
      "Name: Diapaga ID: 2361373\n",
      "Name: Tiksi ID: 2015306\n",
      "Name: Bad Wildbad ID: 2809025\n",
      "Name: Kaoma ID: 913323\n",
      "Name: Hirara ID: 1862505\n",
      "Name: Caconda ID: 3351380\n",
      "no meyungs data is available\n",
      "Name: Puerto Baquerizo Moreno ID: 3652758\n",
      "Name: Tocuila ID: 3515326\n",
      "Name: Sahuaripa ID: 3988265\n",
      "Name: Westport ID: 4845585\n",
      "Name: Būrewāla ID: 1182092\n",
      "Name: Hargeisa ID: 57289\n",
      "Name: Pambuhan ID: 1695893\n",
      "Name: Usinsk ID: 863061\n",
      "Name: Abadan ID: 162099\n",
      "Name: Pangnirtung ID: 6096551\n",
      "Name: Niquelândia ID: 3456285\n",
      "Name: Kholtoson ID: 2022369\n",
      "Name: Shenkursk ID: 494884\n",
      "Name: Mana ID: 3381041\n",
      "Name: Balezino ID: 579432\n",
      "Name: Pimentel ID: 3693584\n",
      "Name: Vilyuysk ID: 2013392\n",
      "Name: Ulaangom ID: 1515029\n",
      "Name: Imeni Poliny Osipenko ID: 2023584\n",
      "Name: Zhezkazgan ID: 1516589\n",
      "Name: Porto-Vecchio ID: 2985947\n",
      "Name: Vikulovo ID: 1487112\n",
      "Name: Rome ID: 5134295\n",
      "Name: Ostrovnoy ID: 556268\n",
      "Name: Gafanha da Encarnação ID: 2739153\n",
      "Name: Coron ID: 1716834\n",
      "Name: Berlevåg ID: 780687\n",
      "Name: Chapais ID: 5919850\n",
      "Name: College ID: 5859699\n",
      "Name: Atasū ID: 1526041\n",
      "Name: Auki ID: 2109701\n",
      "no saleaula data is available\n",
      "Name: Liku ID: 1633034\n",
      "Name: Mahébourg ID: 934322\n",
      "Name: Barcelos ID: 2742416\n",
      "Name: Concordia ID: 3435261\n",
      "Name: Sergeevka ID: 1519385\n",
      "Name: Luau ID: 876177\n",
      "Name: San Vicente ID: 3428068\n",
      "Name: Povenets ID: 505820\n",
      "Name: Fairbanks ID: 5861897\n",
      "Name: Robertsport ID: 2274275\n",
      "Name: Saldanha ID: 3361934\n",
      "Name: Aranos ID: 3358666\n",
      "no kuche data is available\n",
      "no barentsburg data is available\n",
      "Name: Kondinskoye ID: 1502697\n",
      "Name: Bridlington ID: 2654728\n",
      "Name: Nome ID: 5870133\n",
      "Name: Dmitrov ID: 565955\n",
      "Name: Saint Paul Harbor ID: 5866583\n",
      "Name: Manoharpur ID: 1263649\n",
      "Name: Kerman ID: 128234\n",
      "Name: Padilla ID: 3673407\n",
      "Name: Tambura ID: 366444\n",
      "Name: Xining ID: 1788852\n",
      "Name: Logroño ID: 3118150\n",
      "Name: Shimoda ID: 1852357\n",
      "no belushya guba data is available\n",
      "Name: Kiama ID: 2161515\n",
      "Name: Bathsheba ID: 3374083\n",
      "Name: Hamilton ID: 4513583\n",
      "Name: Oistins ID: 3373652\n",
      "Name: Juigalpa ID: 3618908\n",
      "no suao data is available\n",
      "no amderma data is available\n",
      "Name: Dukat ID: 2125906\n",
      "Name: Tuatapere ID: 2180815\n",
      "Name: Walvis Bay ID: 3359638\n",
      "no tabiauea data is available\n",
      "no guelengdeng data is available\n",
      "Name: Codrington ID: 2171099\n",
      "Name: Eaglesfield ID: 2634096\n",
      "no tumannyy data is available\n",
      "Name: Nouadhibou ID: 2377457\n",
      "Name: Fort Nelson ID: 5955902\n",
      "Name: Moramanga ID: 1058532\n",
      "Name: Helena ID: 5656882\n",
      "Name: Acapulco de Juárez ID: 3533462\n",
      "Name: Santa Rosa ID: 1687894\n",
      "Name: Ancud ID: 3899695\n",
      "Name: Kibala ID: 2425791\n",
      "no lolua data is available\n",
      "Name: Kupang ID: 2057087\n",
      "Name: Turinskaya Sloboda ID: 1488931\n",
      "Name: Griffith ID: 4920986\n",
      "Name: Flin Flon ID: 5954718\n",
      "Name: Nuuk ID: 3421319\n",
      "Name: Husavik ID: 2629833\n",
      "no nguiu data is available\n",
      "Name: Bourail ID: 2141714\n",
      "Name: Maţāy ID: 352628\n",
      "Name: Sabang ID: 1214026\n",
      "Name: Noumea ID: 2139521\n",
      "Name: Rocky Mountain House ID: 6126749\n",
      "Name: Ust-Tsilma ID: 477940\n",
      "Name: Pemba ID: 1028918\n",
      "Name: Lagoa ID: 3372964\n",
      "Name: Grand Bank ID: 5964230\n",
      "Name: Lagoa Santa ID: 3459138\n",
      "Name: Valleyview ID: 6173220\n",
      "Name: Banda Aceh ID: 1215502\n",
      "Name: Río Gallegos ID: 3838859\n",
      "Name: Mayo ID: 4362001\n",
      "Name: Almeirim ID: 3407903\n",
      "Name: Yulara ID: 6355222\n",
      "Name: Bengkulu ID: 1649150\n",
      "Name: Broken Hill ID: 2173911\n",
      "Name: Dalvik ID: 2632287\n",
      "Name: Sitka ID: 5557293\n",
      "no sataua data is available\n",
      "Name: Mandera ID: 187896\n",
      "Name: Punta de Bombón ID: 3931255\n",
      "Name: Bac Lieu ID: 1591474\n",
      "Name: Necochea ID: 3430443\n",
      "Name: Nanfeng ID: 1800088\n",
      "no palkaka data is available\n",
      "Name: Huambo ID: 3348313\n",
      "Name: Fortuna ID: 5563839\n",
      "no inderborskiy data is available\n",
      "Name: Rurrenabaque ID: 3906209\n",
      "Name: Thinadhoo ID: 1337610\n",
      "Name: Sisimiut ID: 3419842\n",
      "Name: Seymchan ID: 2121373\n",
      "Name: Alihe ID: 2038665\n",
      "Name: Santa Maria ID: 3450083\n",
      "Name: Sambava ID: 1056899\n",
      "Name: Fukuechō ID: 1863997\n",
      "Name: Kenai ID: 5866063\n",
      "Name: Birao ID: 240210\n",
      "Name: Copala ID: 3530264\n",
      "Name: Richards Bay ID: 962367\n",
      "Name: Auriflama ID: 3471309\n",
      "no mys shmidta data is available\n",
      "Name: Mogadishu ID: 53654\n",
      "Name: Shahr-e Kord ID: 115770\n",
      "Name: Clyde River ID: 5924351\n",
      "Name: Payo ID: 1638775\n",
      "no mahadday weyne data is available\n",
      "Name: Kamaishi ID: 2112444\n",
      "Name: Bulawayo ID: 894701\n",
      "Name: Tilichiki ID: 2120591\n",
      "no hvammstangi data is available\n",
      "Name: Praia da Vitória ID: 3372760\n",
      "no skagastrond data is available\n",
      "no hendijan data is available\n",
      "Name: Aurillac ID: 3036016\n",
      "Name: Padang ID: 1633419\n",
      "Name: La Paz ID: 3911925\n",
      "Name: Nokaneng ID: 933211\n",
      "Name: Quatre Cocos ID: 1106643\n",
      "Name: Pacific Grove ID: 5380437\n",
      "Name: Hasaki ID: 2112802\n",
      "Name: Zheleznodorozhnyy ID: 463355\n",
      "Name: Zhigansk ID: 2012530\n",
      "Name: Gaziantep ID: 314830\n",
      "Name: Yozgat Province ID: 296560\n",
      "Name: Hofn ID: 2630299\n",
      "Name: Gayny ID: 561698\n",
      "Name: Prince Rupert ID: 6113406\n",
      "Name: Praia ID: 3374333\n",
      "Name: Spittal ID: 2637218\n",
      "Name: Harar ID: 335035\n",
      "Name: La Ronge ID: 6050066\n",
      "Name: Bandarbeyla ID: 64814\n",
      "Name: Mindelo ID: 3374462\n",
      "Name: Hambantota ID: 1244926\n",
      "Name: Lincoln ID: 5072006\n",
      "Name: Banjar ID: 1650232\n",
      "Name: Isiolo ID: 196231\n",
      "Name: Sémbé ID: 2255304\n",
      "Name: Praia ID: 3374333\n",
      "Name: Talnakh ID: 1490256\n",
      "Name: Mogok ID: 1308937\n",
      "Name: Zhangye ID: 1785036\n",
      "no baboua data is available\n",
      "Name: Arkhara ID: 2027487\n",
      "Name: San Andrés ID: 3670218\n",
      "Name: Agadez ID: 2448083\n",
      "no yeltsovka data is available\n",
      "Name: Itatskiy ID: 1505383\n",
      "no khonuu data is available\n",
      "Name: Diamantino ID: 3464724\n",
      "Name: Resistencia ID: 3429577\n",
      "Name: Joshīmath ID: 1268814\n",
      "Name: Vanimo ID: 2084442\n",
      "Name: Cabinda ID: 2243271\n",
      "Name: Margate ID: 2643044\n",
      "Name: Villamontes ID: 3901547\n",
      "no kadykchan data is available\n",
      "Name: Portland ID: 5746545\n",
      "Name: Puerto Madryn ID: 3840092\n",
      "Name: Abashiri ID: 2130741\n",
      "Name: Morón ID: 3430545\n",
      "Name: Departamento de Maldonado ID: 3441890\n",
      "no rawannawi data is available\n",
      "Name: Huarmey ID: 3939168\n",
      "Name: Houma ID: 4328010\n",
      "Name: Kiryat Gat ID: 293842\n",
      "no ketchenery data is available\n",
      "Name: Victoria Point ID: 2145214\n",
      "Name: Ngunguru ID: 2186111\n",
      "Name: Rock Sound ID: 3571592\n",
      "Name: Saint-Augustin ID: 6137462\n",
      "Name: Santiago ID: 3871336\n",
      "Name: Mossamedes ID: 3347019\n",
      "Name: Isangel ID: 2136825\n",
      "Name: Chara ID: 2025630\n",
      "Name: ‘Ewa Beach ID: 5855051\n",
      "Name: San Felipe ID: 3628423\n",
      "Name: Aldama ID: 3533079\n",
      "Name: Mabaruma ID: 3377301\n",
      "Name: Sept-Îles ID: 6144312\n",
      "Name: Eišiškės ID: 599614\n",
      "Name: Tabriz ID: 113646\n",
      "Name: Tanete ID: 1629965\n",
      "Name: Sungai Raya ID: 1625908\n",
      "Name: Ketchikan ID: 5554428\n",
      "Name: Kutum ID: 371745\n",
      "Name: Phonhong ID: 1655124\n",
      "Name: Bonfim ID: 3405215\n",
      "Name: Sulangan ID: 1685422\n",
      "Name: Jingdezhen ID: 1805680\n",
      "Name: Kishtwār ID: 1266475\n",
      "no hihifo data is available\n",
      "Name: Alcamo ID: 2525755\n",
      "Name: Nicoya ID: 3622716\n",
      "Name: Nanortalik ID: 3421765\n",
      "Name: Hudiksvall ID: 2704613\n",
      "no rolim de moura data is available\n",
      "Name: Iralaya ID: 3608828\n",
      "Name: Dom Pedrito ID: 3464547\n",
      "Name: Texarkana ID: 4736096\n",
      "Name: Karratha ID: 6620339\n",
      "Name: Ixtapa ID: 4004293\n",
      "Name: Geraldton ID: 2070998\n",
      "Name: Kamenka ID: 553766\n",
      "no taburao data is available\n",
      "Name: Saint-Joseph ID: 6690296\n",
      "Name: Albanel ID: 5883074\n",
      "no blonduos data is available\n",
      "Name: Am Timan ID: 245338\n",
      "Name: Dingle ID: 1714733\n",
      "Name: Port Hawkesbury ID: 6111867\n",
      "Name: Basi ID: 1276767\n",
      "Name: Onga ID: 716799\n",
      "Name: Bada ID: 2027275\n",
      "Name: Rawson ID: 3839307\n",
      "Name: Araouane ID: 2460954\n",
      "Name: Port Hardy ID: 6111862\n",
      "Name: Egvekinot ID: 4031742\n",
      "Name: Kununurra ID: 2068110\n",
      "no gorno-chuyskiy data is available\n",
      "Name: Bambanglipuro ID: 1650434\n",
      "Name: Nacogdoches ID: 4713738\n",
      "Name: Ponte de Sôr ID: 2264538\n",
      "Name: Lake Havasu City ID: 5301388\n",
      "no kachikau data is available\n",
      "Name: Oyo ID: 2325200\n",
      "Name: Martinsville ID: 4771808\n",
      "Name: Andenes ID: 3163146\n",
      "Name: Panguna ID: 2088659\n",
      "Name: Kanniyākumāri ID: 1268008\n",
      "Name: Inírida ID: 3671450\n",
      "Name: Vestmannaeyjar ID: 3412093\n",
      "Name: Gua Musang ID: 1734651\n",
      "Name: Batemans Bay ID: 2176639\n",
      "Name: Allāpalli ID: 1278987\n",
      "Name: Cambridge ID: 5913695\n",
      "Name: Natal ID: 3394023\n",
      "Name: Turbat ID: 1163054\n",
      "Name: Madawaska ID: 4970938\n",
      "Name: Chute-aux-Outardes ID: 5922281\n",
      "Name: Aykhal ID: 2027296\n",
      "Name: Biloela ID: 2175819\n",
      "Name: Chifeng ID: 2038067\n",
      "Name: Lillooet ID: 6945979\n",
      "Name: Oodweyne ID: 53372\n",
      "Name: Sorrento ID: 3166350\n",
      "Name: Makakilo City ID: 5850554\n",
      "Name: Les Cayes ID: 3728097\n",
      "Name: Tricase ID: 2522857\n",
      "no eldikan data is available\n",
      "Name: Marfino ID: 529368\n",
      "Name: Oktyabr'skoye ID: 515805\n",
      "Name: Bonthe ID: 2409914\n",
      "Name: Oussouye ID: 2246901\n",
      "Name: Boyuibe ID: 3923015\n",
      "Name: Half Moon Bay ID: 5354943\n",
      "Name: Maltahöhe ID: 3355624\n",
      "Name: Sunderland ID: 2636531\n",
      "Name: Kristianstad ID: 2699310\n",
      "Name: San Luis ID: 3837056\n",
      "Name: Brae ID: 2654970\n",
      "Name: Inongo ID: 2315417\n",
      "Name: Kotli Loharan ID: 1173025\n",
      "Name: Qaqortoq ID: 3420846\n",
      "Name: Chinhoyi ID: 893697\n",
      "Name: Lata ID: 2738381\n",
      "Name: Klaksvík ID: 2618795\n",
      "Name: Kieta ID: 2094027\n",
      "Name: Kenitra ID: 2544571\n",
      "Name: Manicoré ID: 3663503\n",
      "Name: Moindou ID: 2140466\n",
      "Name: Peace River ID: 6100069\n",
      "Name: Bitung ID: 1648636\n",
      "Name: Dubovyy Umët ID: 564579\n",
      "Name: Tura ID: 1254046\n",
      "Name: Sangar ID: 2017215\n",
      "Name: Mozarlândia ID: 3456642\n",
      "Name: Terrace ID: 6162949\n",
      "Name: Gigmoto ID: 1712961\n",
      "Name: Fort Frances ID: 5955826\n",
      "Name: Plesetsk ID: 509026\n",
      "Name: Cervo ID: 3125287\n",
      "Name: Kavaratti ID: 1267390\n",
      "Name: Ulladulla ID: 2145554\n",
      "Name: Davila ID: 1715335\n"
     ]
    }
   ],
   "source": [
    "url = \"http://api.openweathermap.org/data/2.5/weather?q=\"\n",
    "url\n",
    "#print(requests.get(url))\n",
    "units = \"imperial\"\n",
    "city_no = []\n",
    "temp = []\n",
    "lat = []\n",
    "long = []\n",
    "humidity = []\n",
    "cloud = []\n",
    "wind = []\n",
    "country = []\n",
    "date_time = []\n",
    "weather_json = []\n",
    "weather_city = []\n",
    "city_check = []\n",
    "import time\n",
    "page=0\n",
    "\n",
    "#for a in cities:\n",
    "    #b=a.replace(\" \",\"%20\")\n",
    "    #city_check.append(b)\n",
    "\n",
    "for city in cities:\n",
    "    \n",
    "    #while True:\n",
    "        #query_url = f\"{url}{city}&appid={weather_api_key}&units={units}\"\n",
    "        #weather_response = requests.get(query_url).json()\n",
    "        #if weather_response.get('fault'):\n",
    "            #print(weather_response,page)\n",
    "            #time.sleep(100)\n",
    "            #weather_response = requests.get(f\"{query_url}&page={page}\").json()\n",
    "        \n",
    "            #weather_city.extend(weather_response['main']['temp'])\n",
    "            #page += 1\n",
    "        #if len(weather_city) >= int(weather_response['main']['temp']):\n",
    "            #break\n",
    "    \n",
    "    #len(weather_city) \n",
    "   \n",
    "    query_url = f\"{url}{city}&appid={weather_api_key}&units={units}\"\n",
    "    #print(query_url)\n",
    "    weather_response = requests.get(query_url).json()\n",
    "    try:\n",
    "        weather_response[\"weather\"]\n",
    "    except KeyError:\n",
    "        print(f'no {city} data is available')\n",
    "        continue\n",
    "    \n",
    "    lat.append(weather_response['coord']['lat'])\n",
    "    long.append(weather_response['coord']['lon'])\n",
    "    temp.append(weather_response['main']['temp'])\n",
    "    humidity.append(weather_response['main']['humidity'])\n",
    "    cloud.append(weather_response['clouds']['all'])\n",
    "    wind.append(weather_response['wind']['speed'])\n",
    "    country.append(weather_response['sys']['country'])\n",
    "    date_time.append(weather_response['dt'])\n",
    "    weather_city.append(city)\n",
    "\n",
    "    print(f'Name: {weather_response[\"name\"]} ID: {weather_response[\"id\"]}')\n",
    "        "
   ]
  },
  {
   "cell_type": "code",
   "execution_count": null,
   "metadata": {},
   "outputs": [],
   "source": []
  },
  {
   "cell_type": "code",
   "execution_count": 4,
   "metadata": {},
   "outputs": [],
   "source": [
    "#for city in city_check:\n",
    "\n",
    "        #lat.append(weather_json['coord']['lat'])\n",
    "        #temp.append(weather_json['main']['temp'])\n",
    "        #humidity.append(weather_json['main']['humidity'])\n",
    "        #cloud.append(weather_json['clouds']['all'])\n",
    "        #wind.append(weather_json['wind']['speed'])\n",
    "        #weather_city.append(city)\n",
    "\n",
    "        #print(f'not enough data for {city}.')\n"
   ]
  },
  {
   "cell_type": "code",
   "execution_count": 5,
   "metadata": {},
   "outputs": [],
   "source": [
    "weather_dict = {\n",
    "    \"city\": weather_city,\n",
    "    \"lat\": lat,\n",
    "    \"long\": long,\n",
    "    \"temp\": temp,\n",
    "    \"humidity\": humidity,\n",
    "    \"cloud\": cloud,\n",
    "    \"wind\": wind,\n",
    "    \"country\":country,\n",
    "    \"date and time\":date_time\n",
    "}\n",
    "\n"
   ]
  },
  {
   "cell_type": "code",
   "execution_count": 6,
   "metadata": {},
   "outputs": [
    {
     "name": "stdout",
     "output_type": "stream",
     "text": [
      "563\n",
      "563\n",
      "563\n",
      "563\n",
      "563\n",
      "563\n"
     ]
    }
   ],
   "source": [
    "print(len(weather_city))\n",
    "print(len(lat))\n",
    "print(len(temp))\n",
    "print(len(humidity))\n",
    "print(len(cloud))\n",
    "print(len(wind))"
   ]
  },
  {
   "cell_type": "markdown",
   "metadata": {},
   "source": [
    "### Convert Raw Data to DataFrame\n",
    "* Export the city data into a .csv.\n",
    "* Display the DataFrame"
   ]
  },
  {
   "cell_type": "code",
   "execution_count": 8,
   "metadata": {},
   "outputs": [
    {
     "data": {
      "text/html": [
       "<div>\n",
       "<style scoped>\n",
       "    .dataframe tbody tr th:only-of-type {\n",
       "        vertical-align: middle;\n",
       "    }\n",
       "\n",
       "    .dataframe tbody tr th {\n",
       "        vertical-align: top;\n",
       "    }\n",
       "\n",
       "    .dataframe thead th {\n",
       "        text-align: right;\n",
       "    }\n",
       "</style>\n",
       "<table border=\"1\" class=\"dataframe\">\n",
       "  <thead>\n",
       "    <tr style=\"text-align: right;\">\n",
       "      <th></th>\n",
       "      <th>city</th>\n",
       "      <th>lat</th>\n",
       "      <th>long</th>\n",
       "      <th>temp</th>\n",
       "      <th>humidity</th>\n",
       "      <th>cloud</th>\n",
       "      <th>wind</th>\n",
       "      <th>country</th>\n",
       "      <th>date and time</th>\n",
       "    </tr>\n",
       "  </thead>\n",
       "  <tbody>\n",
       "    <tr>\n",
       "      <th>0</th>\n",
       "      <td>oloron-sainte-marie</td>\n",
       "      <td>43.1944</td>\n",
       "      <td>-0.6107</td>\n",
       "      <td>49.14</td>\n",
       "      <td>71</td>\n",
       "      <td>90</td>\n",
       "      <td>6.91</td>\n",
       "      <td>FR</td>\n",
       "      <td>1615044880</td>\n",
       "    </tr>\n",
       "    <tr>\n",
       "      <th>1</th>\n",
       "      <td>ambulu</td>\n",
       "      <td>-8.3450</td>\n",
       "      <td>113.6058</td>\n",
       "      <td>76.50</td>\n",
       "      <td>86</td>\n",
       "      <td>99</td>\n",
       "      <td>3.22</td>\n",
       "      <td>ID</td>\n",
       "      <td>1615044881</td>\n",
       "    </tr>\n",
       "    <tr>\n",
       "      <th>2</th>\n",
       "      <td>port elizabeth</td>\n",
       "      <td>-33.9180</td>\n",
       "      <td>25.5701</td>\n",
       "      <td>75.20</td>\n",
       "      <td>69</td>\n",
       "      <td>0</td>\n",
       "      <td>17.27</td>\n",
       "      <td>ZA</td>\n",
       "      <td>1615044693</td>\n",
       "    </tr>\n",
       "    <tr>\n",
       "      <th>3</th>\n",
       "      <td>saint-philippe</td>\n",
       "      <td>-21.3585</td>\n",
       "      <td>55.7679</td>\n",
       "      <td>77.00</td>\n",
       "      <td>89</td>\n",
       "      <td>75</td>\n",
       "      <td>3.44</td>\n",
       "      <td>RE</td>\n",
       "      <td>1615044690</td>\n",
       "    </tr>\n",
       "    <tr>\n",
       "      <th>4</th>\n",
       "      <td>kontagora</td>\n",
       "      <td>10.3999</td>\n",
       "      <td>5.4695</td>\n",
       "      <td>102.40</td>\n",
       "      <td>8</td>\n",
       "      <td>83</td>\n",
       "      <td>5.19</td>\n",
       "      <td>NG</td>\n",
       "      <td>1615044881</td>\n",
       "    </tr>\n",
       "    <tr>\n",
       "      <th>...</th>\n",
       "      <td>...</td>\n",
       "      <td>...</td>\n",
       "      <td>...</td>\n",
       "      <td>...</td>\n",
       "      <td>...</td>\n",
       "      <td>...</td>\n",
       "      <td>...</td>\n",
       "      <td>...</td>\n",
       "      <td>...</td>\n",
       "    </tr>\n",
       "    <tr>\n",
       "      <th>558</th>\n",
       "      <td>plesetsk</td>\n",
       "      <td>62.7080</td>\n",
       "      <td>40.2916</td>\n",
       "      <td>11.68</td>\n",
       "      <td>97</td>\n",
       "      <td>99</td>\n",
       "      <td>6.96</td>\n",
       "      <td>RU</td>\n",
       "      <td>1615044995</td>\n",
       "    </tr>\n",
       "    <tr>\n",
       "      <th>559</th>\n",
       "      <td>cervo</td>\n",
       "      <td>43.6702</td>\n",
       "      <td>-7.4101</td>\n",
       "      <td>51.01</td>\n",
       "      <td>79</td>\n",
       "      <td>52</td>\n",
       "      <td>3.00</td>\n",
       "      <td>ES</td>\n",
       "      <td>1615044995</td>\n",
       "    </tr>\n",
       "    <tr>\n",
       "      <th>560</th>\n",
       "      <td>kavaratti</td>\n",
       "      <td>10.5669</td>\n",
       "      <td>72.6420</td>\n",
       "      <td>82.69</td>\n",
       "      <td>67</td>\n",
       "      <td>100</td>\n",
       "      <td>9.57</td>\n",
       "      <td>IN</td>\n",
       "      <td>1615044996</td>\n",
       "    </tr>\n",
       "    <tr>\n",
       "      <th>561</th>\n",
       "      <td>ulladulla</td>\n",
       "      <td>-35.3500</td>\n",
       "      <td>150.4667</td>\n",
       "      <td>58.19</td>\n",
       "      <td>82</td>\n",
       "      <td>90</td>\n",
       "      <td>2.21</td>\n",
       "      <td>AU</td>\n",
       "      <td>1615044731</td>\n",
       "    </tr>\n",
       "    <tr>\n",
       "      <th>562</th>\n",
       "      <td>davila</td>\n",
       "      <td>18.4726</td>\n",
       "      <td>120.5763</td>\n",
       "      <td>78.80</td>\n",
       "      <td>89</td>\n",
       "      <td>20</td>\n",
       "      <td>2.30</td>\n",
       "      <td>PH</td>\n",
       "      <td>1615044996</td>\n",
       "    </tr>\n",
       "  </tbody>\n",
       "</table>\n",
       "<p>563 rows × 9 columns</p>\n",
       "</div>"
      ],
      "text/plain": [
       "                    city      lat      long    temp  humidity  cloud   wind  \\\n",
       "0    oloron-sainte-marie  43.1944   -0.6107   49.14        71     90   6.91   \n",
       "1                 ambulu  -8.3450  113.6058   76.50        86     99   3.22   \n",
       "2         port elizabeth -33.9180   25.5701   75.20        69      0  17.27   \n",
       "3         saint-philippe -21.3585   55.7679   77.00        89     75   3.44   \n",
       "4              kontagora  10.3999    5.4695  102.40         8     83   5.19   \n",
       "..                   ...      ...       ...     ...       ...    ...    ...   \n",
       "558             plesetsk  62.7080   40.2916   11.68        97     99   6.96   \n",
       "559                cervo  43.6702   -7.4101   51.01        79     52   3.00   \n",
       "560            kavaratti  10.5669   72.6420   82.69        67    100   9.57   \n",
       "561            ulladulla -35.3500  150.4667   58.19        82     90   2.21   \n",
       "562               davila  18.4726  120.5763   78.80        89     20   2.30   \n",
       "\n",
       "    country  date and time  \n",
       "0        FR     1615044880  \n",
       "1        ID     1615044881  \n",
       "2        ZA     1615044693  \n",
       "3        RE     1615044690  \n",
       "4        NG     1615044881  \n",
       "..      ...            ...  \n",
       "558      RU     1615044995  \n",
       "559      ES     1615044995  \n",
       "560      IN     1615044996  \n",
       "561      AU     1615044731  \n",
       "562      PH     1615044996  \n",
       "\n",
       "[563 rows x 9 columns]"
      ]
     },
     "execution_count": 8,
     "metadata": {},
     "output_type": "execute_result"
    }
   ],
   "source": [
    "weather_data_df = pd.DataFrame(data=weather_dict)\n",
    "\n",
    "weather_data_df.to_csv('output.csv', index=False)\n",
    "weather_data_df"
   ]
  },
  {
   "cell_type": "code",
   "execution_count": null,
   "metadata": {},
   "outputs": [],
   "source": []
  },
  {
   "cell_type": "markdown",
   "metadata": {},
   "source": [
    "## Inspect the data and remove the cities where the humidity > 100%.\n",
    "----\n",
    "Skip this step if there are no cities that have humidity > 100%. "
   ]
  },
  {
   "cell_type": "code",
   "execution_count": null,
   "metadata": {},
   "outputs": [],
   "source": []
  },
  {
   "cell_type": "code",
   "execution_count": 10,
   "metadata": {},
   "outputs": [
    {
     "data": {
      "text/html": [
       "<div>\n",
       "<style scoped>\n",
       "    .dataframe tbody tr th:only-of-type {\n",
       "        vertical-align: middle;\n",
       "    }\n",
       "\n",
       "    .dataframe tbody tr th {\n",
       "        vertical-align: top;\n",
       "    }\n",
       "\n",
       "    .dataframe thead th {\n",
       "        text-align: right;\n",
       "    }\n",
       "</style>\n",
       "<table border=\"1\" class=\"dataframe\">\n",
       "  <thead>\n",
       "    <tr style=\"text-align: right;\">\n",
       "      <th></th>\n",
       "      <th>city</th>\n",
       "      <th>lat</th>\n",
       "      <th>long</th>\n",
       "      <th>temp</th>\n",
       "      <th>humidity</th>\n",
       "      <th>cloud</th>\n",
       "      <th>wind</th>\n",
       "      <th>country</th>\n",
       "      <th>date and time</th>\n",
       "    </tr>\n",
       "  </thead>\n",
       "  <tbody>\n",
       "  </tbody>\n",
       "</table>\n",
       "</div>"
      ],
      "text/plain": [
       "Empty DataFrame\n",
       "Columns: [city, lat, long, temp, humidity, cloud, wind, country, date and time]\n",
       "Index: []"
      ]
     },
     "execution_count": 10,
     "metadata": {},
     "output_type": "execute_result"
    }
   ],
   "source": [
    "weather_data_df.loc[weather_data_df['humidity']>100]\n",
    "\n",
    "#fig1, ax1 = plt.subplots()\n",
    "#ax1.set_title('City')\n",
    "#ax1.set_ylabel('Humidity')\n",
    "#ax1.boxplot(humidity)\n",
    "#plt.show()"
   ]
  },
  {
   "cell_type": "code",
   "execution_count": null,
   "metadata": {},
   "outputs": [],
   "source": [
    "# Make a new DataFrame equal to the city data to drop all humidity outliers by index.\n",
    "# Passing \"inplace=False\" will make a copy of the city_data DataFrame, which we call \"clean_city_data\".\n"
   ]
  },
  {
   "cell_type": "code",
   "execution_count": null,
   "metadata": {},
   "outputs": [],
   "source": [
    "\n"
   ]
  },
  {
   "cell_type": "markdown",
   "metadata": {},
   "source": [
    "## Plotting the Data\n",
    "* Use proper labeling of the plots using plot titles (including date of analysis) and axes labels.\n",
    "* Save the plotted figures as .pngs."
   ]
  },
  {
   "cell_type": "markdown",
   "metadata": {},
   "source": [
    "## Latitude vs. Temperature Plot"
   ]
  },
  {
   "cell_type": "code",
   "execution_count": 11,
   "metadata": {
    "scrolled": true
   },
   "outputs": [
    {
     "data": {
      "image/png": "[encoded data removed]",
      "text/plain": [
       "<Figure size 432x288 with 1 Axes>"
      ]
     },
     "metadata": {
      "needs_background": "light"
     },
     "output_type": "display_data"
    }
   ],
   "source": [
    "import scipy.stats as st\n",
    "plt.scatter(lat,temp)\n",
    "plt.xlabel('Lattitude')\n",
    "plt.ylabel('Temperature (F)')\n",
    "\n",
    "plt.show()"
   ]
  },
  {
   "cell_type": "markdown",
   "metadata": {},
   "source": [
    "## Latitude vs. Humidity Plot"
   ]
  },
  {
   "cell_type": "code",
   "execution_count": 12,
   "metadata": {},
   "outputs": [
    {
     "data": {
      "image/png": "[encoded data removed]",
      "text/plain": [
       "<Figure size 432x288 with 1 Axes>"
      ]
     },
     "metadata": {
      "needs_background": "light"
     },
     "output_type": "display_data"
    }
   ],
   "source": [
    "plt.scatter(lat,humidity)\n",
    "plt.xlabel('Lattitude')\n",
    "plt.ylabel('Humidity')\n",
    "\n",
    "plt.show()"
   ]
  },
  {
   "cell_type": "markdown",
   "metadata": {},
   "source": [
    "## Latitude vs. Cloudiness Plot"
   ]
  },
  {
   "cell_type": "code",
   "execution_count": 13,
   "metadata": {},
   "outputs": [
    {
     "data": {
      "image/png": "[encoded data removed]",
      "text/plain": [
       "<Figure size 432x288 with 1 Axes>"
      ]
     },
     "metadata": {
      "needs_background": "light"
     },
     "output_type": "display_data"
    }
   ],
   "source": [
    "plt.scatter(lat, cloud)\n",
    "plt.xlabel('Lattitude')\n",
    "plt.ylabel('Cloudiness')\n",
    "\n",
    "plt.show()"
   ]
  },
  {
   "cell_type": "markdown",
   "metadata": {},
   "source": [
    "## Latitude vs. Wind Speed Plot"
   ]
  },
  {
   "cell_type": "code",
   "execution_count": 14,
   "metadata": {},
   "outputs": [
    {
     "data": {
      "image/png": "[encoded data removed]",
      "text/plain": [
       "<Figure size 432x288 with 1 Axes>"
      ]
     },
     "metadata": {
      "needs_background": "light"
     },
     "output_type": "display_data"
    }
   ],
   "source": [
    "plt.scatter(lat,wind)\n",
    "plt.xlabel('Lattitude')\n",
    "plt.ylabel('Wind Speed (mph)')\n",
    "\n",
    "plt.show()"
   ]
  },
  {
   "cell_type": "markdown",
   "metadata": {},
   "source": [
    "## Linear Regression"
   ]
  },
  {
   "cell_type": "code",
   "execution_count": null,
   "metadata": {},
   "outputs": [],
   "source": []
  },
  {
   "cell_type": "markdown",
   "metadata": {},
   "source": [
    "####  Northern Hemisphere - Max Temp vs. Latitude Linear Regression"
   ]
  },
  {
   "cell_type": "code",
   "execution_count": 15,
   "metadata": {},
   "outputs": [
    {
     "data": {
      "image/png": "[encoded data removed]",
      "text/plain": [
       "<Figure size 432x288 with 1 Axes>"
      ]
     },
     "metadata": {
      "needs_background": "light"
     },
     "output_type": "display_data"
    }
   ],
   "source": [
    "northern_hem_df = weather_data_df.loc[weather_data_df['lat']>0]\n",
    "x_values =northern_hem_df['lat']\n",
    "y_values = northern_hem_df['temp']\n",
    "(slope, intercept, rvalue, pvalue, stderr) = linregress(x_values, y_values)\n",
    "regress_values = x_values * slope + intercept\n",
    "# line_eq = \"y = \" + str(round(slope,2)) + \"x + \" + str(round(intercept,2))\n",
    "line_eq = f\"y= {slope:.2f}x {'+' if intercept > 0 else ''} {intercept:.2f}\"\n",
    "plt.scatter(x_values,y_values)\n",
    "plt.plot(x_values,regress_values,\"r-\")\n",
    "plt.annotate(line_eq,(4,-20),fontsize=15,color=\"red\")\n",
    "plt.xlabel('Northern Hemisphere Lattitude')\n",
    "plt.ylabel('Maximum Temperature')\n",
    "plt.show()"
   ]
  },
  {
   "cell_type": "markdown",
   "metadata": {},
   "source": [
    "####  Southern Hemisphere - Max Temp vs. Latitude Linear Regression"
   ]
  },
  {
   "cell_type": "code",
   "execution_count": 16,
   "metadata": {},
   "outputs": [
    {
     "data": {
      "image/png": "[encoded data removed]",
      "text/plain": [
       "<Figure size 432x288 with 1 Axes>"
      ]
     },
     "metadata": {
      "needs_background": "light"
     },
     "output_type": "display_data"
    }
   ],
   "source": [
    "southern_hem_df = weather_data_df.loc[weather_data_df['lat']<0]\n",
    "x_values =southern_hem_df['lat']\n",
    "y_values = southern_hem_df['temp']\n",
    "(slope, intercept, rvalue, pvalue, stderr) = linregress(x_values, y_values)\n",
    "regress_values = x_values * slope + intercept\n",
    "# line_eq = \"y = \" + str(round(slope,2)) + \"x + \" + str(round(intercept,2))\n",
    "line_eq = f\"y= {slope:.2f}x {'+' if intercept > 0 else ''} {intercept:.2f}\"\n",
    "plt.scatter(x_values,y_values)\n",
    "plt.plot(x_values,regress_values,\"r-\")\n",
    "plt.annotate(line_eq,(-55,87),fontsize=15,color=\"red\")\n",
    "plt.xlabel('Southern Hemisphere Lattitude')\n",
    "plt.ylabel('Maximum Temperature')\n",
    "plt.show()"
   ]
  },
  {
   "cell_type": "markdown",
   "metadata": {},
   "source": [
    "####  Northern Hemisphere - Humidity (%) vs. Latitude Linear Regression"
   ]
  },
  {
   "cell_type": "code",
   "execution_count": 17,
   "metadata": {},
   "outputs": [
    {
     "data": {
      "image/png": "[encoded data removed]",
      "text/plain": [
       "<Figure size 432x288 with 1 Axes>"
      ]
     },
     "metadata": {
      "needs_background": "light"
     },
     "output_type": "display_data"
    }
   ],
   "source": [
    "northern_hem_df = weather_data_df.loc[weather_data_df['lat']>0]\n",
    "x_values =northern_hem_df['lat']\n",
    "y_values = northern_hem_df['humidity']\n",
    "(slope, intercept, rvalue, pvalue, stderr) = linregress(x_values, y_values)\n",
    "regress_values = x_values * slope + intercept\n",
    "# line_eq = \"y = \" + str(round(slope,2)) + \"x + \" + str(round(intercept,2))\n",
    "line_eq = f\"y= {slope:.2f}x {'+' if intercept > 0 else ''} {intercept:.2f}\"\n",
    "plt.scatter(x_values,y_values)\n",
    "plt.plot(x_values,regress_values,\"r-\")\n",
    "plt.annotate(line_eq,(50,10),fontsize=10,color=\"red\")\n",
    "plt.xlabel('Northern Hemisphere Lattitude')\n",
    "plt.ylabel('Humidity')\n",
    "plt.show()"
   ]
  },
  {
   "cell_type": "markdown",
   "metadata": {},
   "source": [
    "####  Southern Hemisphere - Humidity (%) vs. Latitude Linear Regression"
   ]
  },
  {
   "cell_type": "code",
   "execution_count": 18,
   "metadata": {},
   "outputs": [
    {
     "data": {
      "image/png": "[encoded data removed]",
      "text/plain": [
       "<Figure size 432x288 with 1 Axes>"
      ]
     },
     "metadata": {
      "needs_background": "light"
     },
     "output_type": "display_data"
    }
   ],
   "source": [
    "southern_hem_df = weather_data_df.loc[weather_data_df['lat']<0]\n",
    "x_values =southern_hem_df['lat']\n",
    "y_values = southern_hem_df['humidity']\n",
    "(slope, intercept, rvalue, pvalue, stderr) = linregress(x_values, y_values)\n",
    "regress_values = x_values * slope + intercept\n",
    "# line_eq = \"y = \" + str(round(slope,2)) + \"x + \" + str(round(intercept,2))\n",
    "line_eq = f\"y= {slope:.2f}x {'+' if intercept > 0 else ''} {intercept:.2f}\"\n",
    "plt.scatter(x_values,y_values)\n",
    "plt.plot(x_values,regress_values,\"r-\")\n",
    "plt.annotate(line_eq,(-55,25),fontsize=15,color=\"red\")\n",
    "plt.xlabel('Southern Hemisphere Lattitude')\n",
    "plt.ylabel('Humidity')\n",
    "plt.show()"
   ]
  },
  {
   "cell_type": "markdown",
   "metadata": {},
   "source": [
    "####  Northern Hemisphere - Cloudiness (%) vs. Latitude Linear Regression"
   ]
  },
  {
   "cell_type": "code",
   "execution_count": 19,
   "metadata": {},
   "outputs": [
    {
     "data": {
      "image/png": "[encoded data removed]",
      "text/plain": [
       "<Figure size 432x288 with 1 Axes>"
      ]
     },
     "metadata": {
      "needs_background": "light"
     },
     "output_type": "display_data"
    }
   ],
   "source": [
    "northern_hem_df = weather_data_df.loc[weather_data_df['lat']>0]\n",
    "x_values =northern_hem_df['lat']\n",
    "y_values = northern_hem_df['cloud']\n",
    "(slope, intercept, rvalue, pvalue, stderr) = linregress(x_values, y_values)\n",
    "regress_values = x_values * slope + intercept\n",
    "# line_eq = \"y = \" + str(round(slope,2)) + \"x + \" + str(round(intercept,2))\n",
    "line_eq = f\"y= {slope:.2f}x {'+' if intercept > 0 else ''} {intercept:.2f}\"\n",
    "plt.scatter(x_values,y_values)\n",
    "plt.plot(x_values,regress_values,\"r-\")\n",
    "plt.annotate(line_eq,(55, 25),fontsize=10,color=\"red\")\n",
    "plt.xlabel('Northern Hemisphere Lattitude')\n",
    "plt.ylabel('Cloudiness (%)')\n",
    "plt.show()"
   ]
  },
  {
   "cell_type": "markdown",
   "metadata": {},
   "source": [
    "####  Southern Hemisphere - Cloudiness (%) vs. Latitude Linear Regression"
   ]
  },
  {
   "cell_type": "code",
   "execution_count": 20,
   "metadata": {},
   "outputs": [
    {
     "data": {
      "image/png": "[encoded data removed]",
      "text/plain": [
       "<Figure size 432x288 with 1 Axes>"
      ]
     },
     "metadata": {
      "needs_background": "light"
     },
     "output_type": "display_data"
    }
   ],
   "source": [
    "southern_hem_df = weather_data_df.loc[weather_data_df['lat']<0]\n",
    "x_values =southern_hem_df['lat']\n",
    "y_values = southern_hem_df['cloud']\n",
    "(slope, intercept, rvalue, pvalue, stderr) = linregress(x_values, y_values)\n",
    "regress_values = x_values * slope + intercept\n",
    "# line_eq = \"y = \" + str(round(slope,2)) + \"x + \" + str(round(intercept,2))\n",
    "line_eq = f\"y= {slope:.2f}x {'+' if intercept > 0 else ''} {intercept:.2f}\"\n",
    "plt.scatter(x_values,y_values)\n",
    "plt.plot(x_values,regress_values,\"r-\")\n",
    "plt.annotate(line_eq,(-55,60),fontsize=10,color=\"red\")\n",
    "plt.xlabel('Southern Hemisphere Lattitude')\n",
    "plt.ylabel('Cloudiness (%)')\n",
    "plt.show()"
   ]
  },
  {
   "cell_type": "markdown",
   "metadata": {},
   "source": [
    "####  Northern Hemisphere - Wind Speed (mph) vs. Latitude Linear Regression"
   ]
  },
  {
   "cell_type": "code",
   "execution_count": 21,
   "metadata": {},
   "outputs": [
    {
     "data": {
      "image/png": "[encoded data removed]",
      "text/plain": [
       "<Figure size 432x288 with 1 Axes>"
      ]
     },
     "metadata": {
      "needs_background": "light"
     },
     "output_type": "display_data"
    }
   ],
   "source": [
    "northern_hem_df = weather_data_df.loc[weather_data_df['lat']>0]\n",
    "x_values =northern_hem_df['lat']\n",
    "y_values = northern_hem_df['wind']\n",
    "(slope, intercept, rvalue, pvalue, stderr) = linregress(x_values, y_values)\n",
    "regress_values = x_values * slope + intercept\n",
    "# line_eq = \"y = \" + str(round(slope,2)) + \"x + \" + str(round(intercept,2))\n",
    "line_eq = f\"y= {slope:.2f}x {'+' if intercept > 0 else ''} {intercept:.2f}\"\n",
    "plt.scatter(x_values,y_values)\n",
    "plt.plot(x_values,regress_values,\"r-\")\n",
    "plt.annotate(line_eq,(4,40),fontsize=15,color=\"red\")\n",
    "plt.xlabel('Northern Hemisphere Lattitude')\n",
    "plt.ylabel('Wind Speed (mph)')\n",
    "plt.show()"
   ]
  },
  {
   "cell_type": "markdown",
   "metadata": {},
   "source": [
    "####  Southern Hemisphere - Wind Speed (mph) vs. Latitude Linear Regression"
   ]
  },
  {
   "cell_type": "code",
   "execution_count": 22,
   "metadata": {},
   "outputs": [
    {
     "data": {
      "image/png": "[encoded data removed]",
      "text/plain": [
       "<Figure size 432x288 with 1 Axes>"
      ]
     },
     "metadata": {
      "needs_background": "light"
     },
     "output_type": "display_data"
    }
   ],
   "source": [
    "southern_hem_df = weather_data_df.loc[weather_data_df['lat']<0]\n",
    "x_values =southern_hem_df['lat']\n",
    "y_values = southern_hem_df['wind']\n",
    "(slope, intercept, rvalue, pvalue, stderr) = linregress(x_values, y_values)\n",
    "regress_values = x_values * slope + intercept\n",
    "# line_eq = \"y = \" + str(round(slope,2)) + \"x + \" + str(round(intercept,2))\n",
    "line_eq = f\"y= {slope:.2f}x {'+' if intercept > 0 else ''} {intercept:.2f}\"\n",
    "plt.scatter(x_values,y_values)\n",
    "plt.plot(x_values,regress_values,\"r-\")\n",
    "plt.annotate(line_eq,(-55,18),fontsize=15,color=\"red\")\n",
    "plt.xlabel('Southern Hemisphere Lattitude')\n",
    "plt.ylabel('Wind Speed (mph)')\n",
    "plt.show()"
   ]
  },
  {
   "cell_type": "code",
   "execution_count": null,
   "metadata": {},
   "outputs": [],
   "source": []
  }
 ],
 "metadata": {
  "anaconda-cloud": {},
  "kernel_info": {
   "name": "python3"
  },
  "kernelspec": {
   "display_name": "Python 3",
   "language": "python",
   "name": "python3"
  },
  "language_info": {
   "codemirror_mode": {
    "name": "ipython",
    "version": 3
   },
   "file_extension": ".py",
   "mimetype": "text/x-python",
   "name": "python",
   "nbconvert_exporter": "python",
   "pygments_lexer": "ipython3",
   "version": "3.6.10"
  },
  "latex_envs": {
   "LaTeX_envs_menu_present": true,
   "autoclose": false,
   "autocomplete": true,
   "bibliofile": "biblio.bib",
   "cite_by": "apalike",
   "current_citInitial": 1,
   "eqLabelWithNumbers": true,
   "eqNumInitial": 1,
   "hotkeys": {
    "equation": "Ctrl-E",
    "itemize": "Ctrl-I"
   },
   "labels_anchors": false,
   "latex_user_defs": false,
   "report_style_numbering": false,
   "user_envs_cfg": false
  },
  "nteract": {
   "version": "0.12.3"
  }
 },
 "nbformat": 4,
 "nbformat_minor": 4
}
