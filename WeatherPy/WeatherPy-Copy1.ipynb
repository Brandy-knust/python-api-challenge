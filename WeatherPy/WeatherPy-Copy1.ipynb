{
 "cells": [
  {
   "cell_type": "markdown",
   "metadata": {},
   "source": [
    "# WeatherPy\n",
    "----\n",
    "\n",
    "#### Note\n",
    "* Instructions have been included for each segment. You do not have to follow them exactly, but they are included to help you think through the steps."
   ]
  },
  {
   "cell_type": "code",
   "execution_count": null,
   "metadata": {},
   "outputs": [],
   "source": []
  },
  {
   "cell_type": "code",
   "execution_count": 1,
   "metadata": {
    "scrolled": true
   },
   "outputs": [],
   "source": [
    "# Dependencies and Setup\n",
    "import matplotlib.pyplot as plt\n",
    "import pandas as pd\n",
    "import numpy as np\n",
    "import requests\n",
    "import time\n",
    "from scipy.stats import linregress\n",
    "import json\n",
    "\n",
    "\n",
    "# Import API key\n",
    "from api_keys import weather_api_key\n",
    "\n",
    "# Incorporated citipy to determine city based on latitude and longitude\n",
    "from citipy import citipy\n",
    "\n",
    "# Output File (CSV)\n",
    "output_data_file = \"output_data/cities.csv\"\n",
    "\n",
    "# Range of latitudes and longitudes\n",
    "lat_range = (-90, 90)\n",
    "lng_range = (-180, 180)"
   ]
  },
  {
   "cell_type": "markdown",
   "metadata": {},
   "source": [
    "## Generate Cities List"
   ]
  },
  {
   "cell_type": "code",
   "execution_count": 2,
   "metadata": {},
   "outputs": [
    {
     "data": {
      "text/plain": [
       "622"
      ]
     },
     "execution_count": 2,
     "metadata": {},
     "output_type": "execute_result"
    }
   ],
   "source": [
    "# List for holding lat_lngs and cities\n",
    "lat_lngs = []\n",
    "cities = []\n",
    "\n",
    "# Create a set of random lat and lng combinations\n",
    "lats = np.random.uniform(lat_range[0], lat_range[1], size=1500)\n",
    "lngs = np.random.uniform(lng_range[0], lng_range[1], size=1500)\n",
    "lat_lngs = zip(lats, lngs)\n",
    "\n",
    "# Identify nearest city for each lat, lng combination\n",
    "for lat_lng in lat_lngs:\n",
    "    city = citipy.nearest_city(lat_lng[0], lat_lng[1]).city_name\n",
    "    \n",
    "    # If the city is unique, then add it to a our cities list\n",
    "    if city not in cities:\n",
    "        cities.append(city)\n",
    "#for city in cities:\n",
    "#    city_name = city.replace(\" \", \"%20\")\n",
    "\n",
    "# Print the city count to confirm sufficient count\n",
    "len(cities)\n"
   ]
  },
  {
   "cell_type": "markdown",
   "metadata": {},
   "source": [
    "### Perform API Calls\n",
    "* Perform a weather check on each city using a series of successive API calls.\n",
    "* Include a print log of each city as it'sbeing processed (with the city number and city name).\n"
   ]
  },
  {
   "cell_type": "code",
   "execution_count": 3,
   "metadata": {
    "scrolled": true
   },
   "outputs": [
    {
     "name": "stdout",
     "output_type": "stream",
     "text": [
      "Name: Butaritari ID: 2110227\n",
      "Name: Aklavik ID: 5882953\n",
      "Name: Cayenne ID: 3382160\n",
      "Name: Galveston ID: 4692856\n",
      "Name: Kavieng ID: 2094342\n",
      "Name: Chui ID: 3443061\n",
      "Name: Nyimba ID: 900056\n",
      "no hunza data is available\n",
      "Name: Clyde River ID: 5924351\n",
      "Name: Phanom Sarakham ID: 1607801\n",
      "Name: Fort Payne ID: 4062861\n",
      "no saleilua data is available\n",
      "Name: Okha ID: 2122614\n",
      "Name: Jamestown ID: 5122534\n",
      "Name: Vyartsilya ID: 470762\n",
      "Name: Hilo ID: 5855927\n",
      "Name: Killybegs ID: 2963295\n",
      "Name: Cherskiy ID: 2126199\n",
      "Name: Castro ID: 3466704\n",
      "Name: Samfya ID: 899274\n",
      "Name: Carnarvon ID: 2074865\n",
      "Name: Tasiilaq ID: 3424607\n",
      "Name: Alamogordo ID: 5454627\n",
      "Name: Tuktoyaktuk ID: 6170031\n",
      "Name: Ostrovnoy ID: 556268\n",
      "Name: Balsas ID: 3406545\n",
      "Name: Kudahuvadhoo ID: 1337607\n",
      "Name: Padang ID: 1633419\n",
      "Name: Bredasdorp ID: 1015776\n",
      "Name: Rikitea ID: 4030556\n",
      "Name: Qui Nhon ID: 1568574\n",
      "Name: Youghal ID: 2960869\n",
      "Name: Galle ID: 1246294\n",
      "no bolungarvik data is available\n",
      "Name: Srednekolymsk ID: 2121025\n",
      "Name: Salalah ID: 286621\n",
      "no grand river south east data is available\n",
      "Name: Mocuba ID: 1024312\n",
      "Name: Punta Arenas ID: 3874787\n",
      "Name: Boende ID: 218680\n",
      "Name: Faya ID: 110690\n",
      "Name: Bathsheba ID: 3374083\n",
      "Name: Vaini ID: 4032243\n",
      "Name: Uvira ID: 204405\n",
      "Name: Saint Paul Harbor ID: 5866583\n",
      "no lolua data is available\n",
      "Name: Saint George ID: 5546220\n",
      "Name: Pangai ID: 4032369\n",
      "Name: Santa Vitória do Palmar ID: 3449747\n",
      "Name: Yantal' ID: 2055868\n",
      "Name: Mahébourg ID: 934322\n",
      "no taolanaro data is available\n",
      "Name: San Quintín ID: 3984997\n",
      "Name: Provideniya ID: 4031574\n",
      "Name: Barrow ID: 5880054\n",
      "no illoqqortoormiut data is available\n",
      "Name: Porvoo ID: 660561\n",
      "Name: Dikson ID: 1507390\n",
      "no belushya guba data is available\n",
      "no karkaralinsk data is available\n",
      "Name: Albany ID: 5106841\n",
      "Name: Esperance ID: 2071860\n",
      "Name: Ushuaia ID: 3833367\n",
      "Name: Adrar ID: 2381972\n",
      "Name: Ilhéus ID: 3461408\n",
      "Name: Atuona ID: 4020109\n",
      "Name: Busselton ID: 2075265\n",
      "Name: Faanui ID: 4034551\n",
      "Name: Moerai ID: 4034188\n",
      "Name: Lompoc ID: 5367788\n",
      "Name: Thinadhoo ID: 1337610\n",
      "Name: Taganak ID: 1684606\n",
      "Name: City of San Pedro ID: 1688781\n",
      "no ljubimec data is available\n",
      "no barentsburg data is available\n",
      "Name: Puerto Ayora ID: 3652764\n",
      "Name: São João da Barra ID: 3448903\n",
      "Name: Mataura ID: 6201424\n",
      "Name: Nhamundá ID: 3393929\n",
      "Name: Cabo San Lucas ID: 3985710\n",
      "no amderma data is available\n",
      "Name: ‘Ewa Beach ID: 5855051\n",
      "Name: Mayumba ID: 2399001\n",
      "Name: Nauta ID: 3692020\n",
      "Name: Seddon ID: 7281807\n",
      "Name: Yellowknife ID: 6185377\n",
      "Name: Kaitangata ID: 2208248\n",
      "Name: Ribeira Grande ID: 3372707\n",
      "Name: Litovko ID: 2020738\n",
      "Name: Ada ID: 5583739\n",
      "Name: Avarua ID: 4035715\n",
      "Name: Tura ID: 1254046\n",
      "Name: Iranshahr ID: 1160939\n",
      "Name: Mount Gambier ID: 2156643\n",
      "Name: Henderson ID: 5505411\n",
      "Name: La Ronge ID: 6050066\n",
      "Name: Trelew ID: 3833883\n",
      "Name: Plettenberg Bay ID: 964712\n",
      "Name: George Town ID: 1735106\n",
      "Name: Maceió ID: 3395981\n",
      "Name: Bluefield ID: 4799622\n",
      "Name: Rawson ID: 3839307\n",
      "Name: Caravelas ID: 3466980\n",
      "Name: Kavaratti ID: 1267390\n",
      "Name: New Norfolk ID: 2155415\n",
      "Name: Bilma ID: 2446796\n",
      "Name: Ugento ID: 2522833\n",
      "Name: Bluff ID: 2206939\n",
      "Name: Port Alfred ID: 964432\n",
      "Name: Bethel ID: 5282297\n",
      "Name: Mar del Plata ID: 3430863\n",
      "Name: Thompson ID: 6165406\n",
      "Name: Guerrero Negro ID: 4021858\n",
      "no mergui data is available\n",
      "no nizhneyansk data is available\n",
      "Name: Esmeraldas ID: 3464008\n",
      "Name: Kiryat Gat ID: 293842\n",
      "Name: Batesville ID: 4100525\n",
      "Name: Morondava ID: 1058381\n",
      "Name: North Bend ID: 5742974\n",
      "Name: Camacha ID: 2270385\n",
      "no meyungs data is available\n",
      "Name: Narsaq ID: 3421719\n",
      "no westpunt data is available\n",
      "Name: Cape Town ID: 3369157\n",
      "Name: Severo-Kuril'sk ID: 2121385\n",
      "Name: Yefremov ID: 468390\n",
      "Name: Tucumã ID: 3385980\n",
      "Name: Northam ID: 2641434\n",
      "Name: Hobart ID: 2163355\n",
      "Name: Solton ID: 1491428\n",
      "Name: San Luis ID: 3837056\n",
      "Name: Laas ID: 3175096\n",
      "Name: Port Elizabeth ID: 964420\n",
      "Name: Katsuura ID: 2112309\n",
      "Name: Khatanga ID: 2022572\n",
      "Name: Rio Grande ID: 3451138\n",
      "Name: Cochrane ID: 5924618\n",
      "Name: Palmer ID: 4946620\n",
      "Name: Angoche ID: 1052944\n",
      "Name: Zapolyarnyy ID: 464790\n",
      "Name: Alexandria ID: 361058\n",
      "Name: Biu ID: 2346995\n",
      "Name: Lebu ID: 3883457\n",
      "Name: Chicama ID: 3698359\n",
      "Name: Nyahururu ID: 183027\n",
      "Name: Tiksi ID: 2015306\n",
      "Name: Ondjiva ID: 3346821\n",
      "Name: Tuatapere ID: 2180815\n",
      "Name: Airai ID: 1651810\n",
      "Name: Prabumulih ID: 1631393\n",
      "Name: Shelburne ID: 6145890\n",
      "Name: Cidreira ID: 3466165\n",
      "Name: Rincon ID: 4218882\n",
      "Name: North Platte ID: 5697939\n",
      "Name: Flin Flon ID: 5954718\n",
      "no naftah data is available\n",
      "Name: Longyearbyen ID: 2729907\n",
      "Name: Lodja ID: 211647\n",
      "Name: Bunia ID: 217695\n",
      "Name: Borogontsy ID: 2026160\n",
      "Name: Mariental ID: 3355595\n",
      "Name: Riyadh ID: 108410\n",
      "Name: Mamakan ID: 2020311\n",
      "Name: Kapaa ID: 5848280\n",
      "Name: Huarmey ID: 3939168\n",
      "Name: Port Blair ID: 1259385\n",
      "Name: Hermanus ID: 3366880\n",
      "Name: Riberalta ID: 3906466\n",
      "Name: Formosa do Rio Preto ID: 3463124\n",
      "Name: Oyem ID: 2396646\n",
      "Name: Saskylakh ID: 2017155\n",
      "Name: Jarosław ID: 770380\n",
      "Name: Marawi ID: 1701054\n",
      "Name: Naze ID: 1855540\n",
      "Name: Pevek ID: 2122090\n",
      "Name: Rocha ID: 3440777\n",
      "no keshan data is available\n",
      "Name: Ahipara ID: 2194098\n",
      "no louisbourg data is available\n",
      "Name: Pitimbu ID: 3391889\n",
      "Name: Tarifa ID: 2510599\n",
      "Name: Lorengau ID: 2092164\n",
      "Name: Nikolskoye ID: 546105\n",
      "no attawapiskat data is available\n",
      "Name: Hasaki ID: 2112802\n",
      "Name: Xingyi ID: 1787599\n",
      "Name: Igarka ID: 1505991\n",
      "Name: Flinders ID: 6255012\n",
      "no gangotri data is available\n",
      "Name: Khingansk ID: 2022454\n",
      "Name: Hong Kong ID: 1819729\n",
      "Name: Lerici ID: 3174856\n",
      "Name: Saint-Joseph ID: 6690296\n",
      "Name: Tambovka ID: 2015608\n",
      "Name: Villa Carlos Paz ID: 3832791\n",
      "Name: Ténenkou ID: 2449938\n",
      "no vaitupu data is available\n",
      "Name: Tautira ID: 4033557\n",
      "Name: College ID: 5859699\n",
      "Name: Le Port ID: 935616\n",
      "no sentyabrskiy data is available\n",
      "Name: Hithadhoo ID: 1282256\n",
      "Name: Vigrestad ID: 3131824\n",
      "Name: Santa Cruz de la Sierra ID: 3904906\n",
      "Name: Maralal ID: 187725\n",
      "Name: Władysławowo ID: 3081752\n",
      "Name: Sembakung ID: 1627877\n",
      "no homei data is available\n",
      "no mys shmidta data is available\n",
      "Name: Arlit ID: 2447513\n",
      "Name: Basoko ID: 219414\n",
      "Name: Dicabisagan ID: 1715015\n",
      "Name: Doka ID: 376332\n",
      "Name: Jumla ID: 1283285\n",
      "Name: Staryy Nadym ID: 1490918\n",
      "Name: Hamilton ID: 4513583\n",
      "Name: Arraial do Cabo ID: 3471451\n",
      "Name: Ustyuzhna ID: 477795\n",
      "Name: Turukhansk ID: 1488903\n",
      "no tsihombe data is available\n",
      "Name: Aleksandrov Gay ID: 583345\n",
      "Name: Morros ID: 3394372\n",
      "Name: Nyurba ID: 2018735\n",
      "no bababe data is available\n",
      "Name: Norman Wells ID: 6089245\n",
      "Name: Vestmanna ID: 2610343\n",
      "Name: Muravlenko ID: 1540711\n",
      "Name: Le Pont-de-Claix ID: 3002585\n",
      "Name: Ketchikan ID: 5554428\n",
      "Name: Westport ID: 4845585\n",
      "Name: Mwene-Ditu ID: 207570\n",
      "Name: East London ID: 1006984\n",
      "Name: Wanaka ID: 2184707\n",
      "Name: Dakar ID: 2253354\n",
      "Name: Mahajanga ID: 1062663\n",
      "Name: Linxia Chengguanzhen ID: 1803331\n",
      "Name: Umm Kaddadah ID: 364933\n",
      "Name: Bengkulu ID: 1649150\n",
      "Name: Pucara ID: 3931656\n",
      "Name: Puchezh ID: 504294\n",
      "Name: Bandarbeyla ID: 64814\n",
      "Name: Sitka ID: 5557293\n",
      "Name: Ponta do Sol ID: 2264557\n",
      "no eskasem data is available\n",
      "Name: Belmonte ID: 3470137\n",
      "no saleaula data is available\n",
      "Name: Amapá ID: 3407762\n",
      "Name: Talnakh ID: 1490256\n",
      "Name: Isangel ID: 2136825\n",
      "Name: Sulangan ID: 1685422\n",
      "Name: Tilichiki ID: 2120591\n",
      "Name: Barkly West ID: 1021040\n",
      "Name: Olafsvik ID: 3414079\n",
      "Name: Priargunsk ID: 2017646\n",
      "Name: Tessalit ID: 2449893\n",
      "Name: Grindavik ID: 3416888\n",
      "Name: Torbay ID: 6167817\n",
      "Name: Tomatlán ID: 3981391\n",
      "Name: Havelock ID: 4470244\n",
      "Name: Ucluelet ID: 6171633\n",
      "Name: Nanortalik ID: 3421765\n",
      "Name: Souillac ID: 933995\n",
      "Name: Chokurdakh ID: 2126123\n",
      "Name: Kanniyākumāri ID: 1268008\n",
      "Name: Constitución ID: 3893726\n",
      "Name: Ust-Nera ID: 2120048\n",
      "Name: Camocim ID: 3403687\n",
      "Name: Fairbanks ID: 5861897\n",
      "Name: Nîmes ID: 2990363\n",
      "Name: Porlamar ID: 3629965\n",
      "Name: Saint-Philippe ID: 935215\n",
      "no samalaeulu data is available\n",
      "Name: Puncan ID: 1692475\n",
      "Name: Qaanaaq ID: 3831208\n",
      "Name: Moranbah ID: 6533368\n",
      "Name: Nome ID: 5870133\n",
      "Name: Codrington ID: 2171099\n",
      "Name: Lethem ID: 3379316\n",
      "no tumannyy data is available\n",
      "Name: Kovdor ID: 543508\n",
      "Name: Comodoro Rivadavia ID: 3860443\n",
      "Name: Cap-Chat ID: 5915359\n",
      "Name: Mossamedes ID: 3347019\n",
      "Name: Sioux Lookout ID: 6148373\n",
      "Name: Vanimo ID: 2084442\n",
      "Name: Ishigaki ID: 1861416\n",
      "Name: Alta Floresta ID: 6316343\n",
      "Name: Abu Dhabi ID: 292968\n",
      "Name: Kayes ID: 2455517\n",
      "Name: Monrovia ID: 2274895\n",
      "Name: La Palma ID: 5364022\n",
      "Name: Kargil ID: 1267776\n",
      "Name: Mistelbach ID: 2771557\n",
      "Name: Beringovskiy ID: 2126710\n"
     ]
    },
    {
     "name": "stdout",
     "output_type": "stream",
     "text": [
      "Name: Qian’an ID: 2035410\n",
      "Name: Gamboula ID: 2386756\n",
      "no umzimvubu data is available\n",
      "Name: Lagoa ID: 3372964\n",
      "no doctor pedro p. pena data is available\n",
      "Name: Fortuna ID: 5563839\n",
      "no safwah data is available\n",
      "Name: Buala ID: 2109528\n",
      "Name: Griffith ID: 4920986\n",
      "Name: Saint-Paul ID: 935221\n",
      "Name: Coquimbo ID: 3893629\n",
      "Name: Lazarev ID: 2123836\n",
      "Name: Rafrāf ID: 2467813\n",
      "Name: Sergiyevsk ID: 486626\n",
      "no zhanatas data is available\n",
      "Name: Longhua ID: 1802618\n",
      "Name: Kodinsk ID: 1503037\n",
      "Name: Illapel ID: 3887344\n",
      "Name: Poltavka ID: 1494500\n",
      "Name: Aykhal ID: 2027296\n",
      "Name: Kushiro ID: 2129376\n",
      "Name: Kamaishi ID: 2112444\n",
      "Name: Necochea ID: 3430443\n",
      "Name: Niquero ID: 3545981\n",
      "Name: Goma ID: 216281\n",
      "Name: Ipixuna ID: 3408424\n",
      "Name: Ardakān ID: 143073\n",
      "Name: Bilibino ID: 2126682\n",
      "Name: Kembaran ID: 1621395\n",
      "Name: Bambous Virieux ID: 1106677\n",
      "Name: Auki ID: 2109701\n",
      "Name: Nuuk ID: 3421319\n",
      "Name: Upernavik ID: 3418910\n",
      "Name: Bahile ID: 1696177\n",
      "Name: Qaqortoq ID: 3420846\n",
      "Name: Sambava ID: 1056899\n",
      "Name: Odienné ID: 2283016\n",
      "Name: Severnyy-Kospashskiy ID: 496307\n",
      "Name: Kongolo ID: 212360\n",
      "Name: Ruwi ID: 287286\n",
      "Name: Meadow Lake ID: 5478673\n",
      "Name: Ambon City ID: 1651531\n",
      "Name: Pamyat' Parizhskoy Kommuny ID: 512947\n",
      "Name: Manavālakurichi ID: 1263942\n",
      "Name: Eldersburg ID: 4354163\n",
      "no satitoa data is available\n",
      "Name: Narrabri ID: 2155742\n",
      "Name: Charyshskoye ID: 1508427\n",
      "Name: Kirakira ID: 2178753\n",
      "Name: Raseiniai ID: 595378\n",
      "Name: Atasū ID: 1526041\n",
      "Name: Serenje ID: 898912\n",
      "Name: Nisibis ID: 303750\n",
      "Name: Dingle ID: 1714733\n",
      "Name: Ust-Tsilma ID: 477940\n",
      "Name: Reconquista ID: 3429594\n",
      "Name: Poum ID: 2138555\n",
      "no marcona data is available\n",
      "no mahaicony data is available\n",
      "Name: Itarema ID: 3393692\n",
      "Name: Baruun-Urt ID: 2032614\n",
      "no bossembele data is available\n",
      "Name: Zhigansk ID: 2012530\n",
      "Name: Oistins ID: 3373652\n",
      "Name: Yumen ID: 1528998\n",
      "Name: Segezha ID: 497927\n",
      "Name: Dunedin ID: 2191562\n",
      "Name: Jalu ID: 86049\n",
      "Name: Makakilo City ID: 5850554\n",
      "Name: Corrente ID: 3409644\n",
      "Name: Hudson Bay ID: 5978133\n",
      "Name: Sibolga ID: 1213855\n",
      "Name: San Patricio ID: 4726521\n",
      "Name: Puerto Baquerizo Moreno ID: 3652758\n",
      "Name: Waingapu ID: 1622318\n",
      "Name: Santo Domingo ID: 3492908\n",
      "Name: Pitelino ID: 509273\n",
      "Name: Hirara ID: 1862505\n",
      "Name: Tayu ID: 1624545\n",
      "Name: Mariinsk ID: 1499350\n",
      "Name: Mackay ID: 2159220\n",
      "Name: Iqaluit ID: 5983720\n",
      "Name: Kochubey ID: 868355\n",
      "Name: Portland ID: 5746545\n",
      "Name: Puerto Madero ID: 3520989\n",
      "Name: Haines Junction ID: 5969025\n",
      "Name: Serebryansk ID: 1519395\n",
      "no kamenskoye data is available\n",
      "Name: Bemidji ID: 5017822\n",
      "Name: Karpogory ID: 552256\n",
      "Name: Nizhneangarsk ID: 2019199\n",
      "Name: Izberbash ID: 554894\n",
      "Name: Nouadhibou ID: 2377457\n",
      "Name: Kohlu ID: 1173464\n",
      "Name: Lavrentiya ID: 4031637\n",
      "Name: Lüderitz ID: 3355672\n",
      "Name: Mutoko ID: 884927\n",
      "Name: Praia ID: 3374333\n",
      "no ngukurr data is available\n",
      "Name: Sept-Îles ID: 6144312\n",
      "Name: Laguna ID: 5364271\n",
      "Name: Kuril'sk ID: 2123979\n",
      "Name: Najrān ID: 103630\n",
      "Name: Staronizhestebliyevskaya ID: 488713\n",
      "Name: Khovd ID: 1516048\n",
      "Name: Gatton ID: 2165828\n",
      "Name: Aksu ID: 1529660\n",
      "Name: Honiara ID: 2108502\n",
      "Name: Mustvee ID: 590067\n",
      "Name: Businga ID: 217637\n",
      "Name: Burlington ID: 4500994\n",
      "Name: Osorno ID: 3877949\n",
      "Name: Vila Velha ID: 3445026\n",
      "Name: Ilulissat ID: 3423146\n",
      "Name: Resistencia ID: 3429577\n",
      "Name: Vestmannaeyjar ID: 3412093\n",
      "Name: Warren ID: 4527624\n",
      "Name: Khanbari ID: 1283217\n",
      "Name: Puerto del Rosario ID: 2512186\n",
      "Name: Oussouye ID: 2246901\n",
      "Name: Sychëvka ID: 485280\n",
      "Name: Samaná ID: 3492997\n",
      "Name: Thaton ID: 1292288\n",
      "Name: Oberá ID: 3430340\n",
      "Name: Centralia ID: 5789683\n",
      "Name: Elk Grove ID: 5346111\n",
      "Name: São José da Coroa Grande ID: 3388456\n",
      "Name: Girona ID: 3121456\n",
      "Name: Wanning ID: 1791779\n",
      "Name: Garden City ID: 4993659\n",
      "Name: Inta ID: 1505579\n",
      "Name: Ancud ID: 3899695\n",
      "Name: Bonnyville ID: 5905616\n",
      "Name: Springbok ID: 3361142\n",
      "Name: Myanaung ID: 1308204\n",
      "Name: Kieta ID: 2094027\n",
      "Name: Almonte ID: 2521857\n",
      "Name: Pacific Grove ID: 5380437\n",
      "Name: Hambantota ID: 1244926\n",
      "Name: Luziânia ID: 3458329\n",
      "Name: Geraldton ID: 2070998\n",
      "Name: Cosalá ID: 4012707\n",
      "Name: Pran Buri ID: 1151063\n",
      "Name: Am Timan ID: 245338\n",
      "Name: Jingdezhen ID: 1805680\n",
      "Name: Ransang ID: 1691872\n",
      "Name: Stepnyak ID: 1518768\n",
      "Name: Jinchang ID: 1805733\n",
      "Name: Yangi Marg`ilon ID: 1513491\n",
      "Name: Manggar ID: 1636426\n",
      "Name: Teruel ID: 3108125\n",
      "Name: Lata ID: 2738381\n",
      "Name: Porto-Novo ID: 2392087\n",
      "Name: Regina ID: 6119109\n",
      "Name: Maragogi ID: 3395458\n",
      "Name: Bambanglipuro ID: 1650434\n",
      "Name: Ulagan ID: 1488048\n",
      "Name: Tonj ID: 365763\n",
      "Name: Safi ID: 2537881\n",
      "no viligili data is available\n",
      "Name: Areosa ID: 2742765\n",
      "Name: Plouzané ID: 2986626\n",
      "Name: Baraboo ID: 5244638\n",
      "Name: Buraidah ID: 107304\n",
      "Name: Inhambane ID: 1045114\n",
      "Name: Villa Sandino ID: 3615813\n",
      "Name: Koslan ID: 544084\n",
      "Name: Batagay-Alyta ID: 2027042\n",
      "Name: San Cristobal ID: 3628473\n",
      "Name: Lakatoro ID: 2136697\n",
      "Name: Touros ID: 3386213\n",
      "Name: Hardenberg ID: 2754861\n",
      "Name: Horadiz ID: 148003\n",
      "Name: Kawalu ID: 1640902\n",
      "Name: Leningradskiy ID: 2123814\n",
      "Name: Tiarei ID: 4033356\n",
      "Name: Sola ID: 2134814\n",
      "Name: Grand Gaube ID: 934479\n",
      "Name: Te Anau ID: 2181625\n",
      "Name: Krasnyy Chikoy ID: 2012349\n",
      "Name: Kpandae ID: 2299236\n",
      "Name: Tateyama ID: 1850523\n",
      "Name: Noumea ID: 2139521\n",
      "Name: Iaciara ID: 3461641\n",
      "Name: Punta Alta ID: 3839982\n",
      "Name: Xaltianguis ID: 3514583\n",
      "no paradwip data is available\n",
      "Name: Vilcún ID: 3868210\n",
      "Name: Pochutla ID: 3517970\n",
      "Name: Kruisfontein ID: 986717\n",
      "no urdzhar data is available\n",
      "Name: Pangody ID: 1495626\n",
      "Name: Pemangkat ID: 1631637\n",
      "Name: Taitung City ID: 6949678\n",
      "Name: Lázaro Cárdenas ID: 4026082\n",
      "Name: Sawtell ID: 2150163\n",
      "Name: Vilhena ID: 3924679\n",
      "Name: Māngrol ID: 1263752\n",
      "Name: Bonthe ID: 2409914\n",
      "Name: Macenta ID: 2417988\n",
      "Name: Santana ID: 3391360\n",
      "Name: Goderich ID: 5962442\n",
      "Name: Pāvilosta ID: 456827\n",
      "no kadykchan data is available\n",
      "Name: Buta ID: 217570\n",
      "Name: Bichena ID: 342190\n",
      "Name: Karachi ID: 1174872\n",
      "Name: Mount Isa ID: 2065594\n",
      "no fevralsk data is available\n",
      "Name: Mūl ID: 1262574\n",
      "Name: Follonica ID: 6541106\n",
      "Name: Husavik ID: 2629833\n",
      "Name: El Alto ID: 3697441\n",
      "Name: Samarai ID: 2132606\n",
      "Name: Bhatkal ID: 1276067\n",
      "Name: Imeni Babushkina ID: 556858\n",
      "no obluche data is available\n",
      "Name: Nantucket ID: 4944903\n",
      "Name: Boyuibe ID: 3923015\n",
      "Name: Oriximiná ID: 3393471\n",
      "Name: Kachīry ID: 1523662\n",
      "no samusu data is available\n",
      "Name: Fairhope ID: 4061234\n",
      "Name: Mahibadhoo ID: 1337605\n",
      "Name: Junnar ID: 1268761\n",
      "Name: Carmen de Carupa ID: 3687321\n",
      "Name: Eureka ID: 5563397\n",
      "no toulepleu data is available\n",
      "Name: Giyani ID: 1001860\n",
      "Name: Kozhva ID: 543246\n",
      "Name: Kamogawa ID: 2112297\n",
      "Name: Cockburn Town ID: 3576994\n",
      "Name: Sal Rei ID: 3374235\n",
      "no malwan data is available\n",
      "no jiddah data is available\n",
      "Name: Prado ID: 3452483\n",
      "Name: Ca Mau ID: 1586443\n",
      "Name: Dhārchula ID: 1272864\n",
      "Name: Turbat ID: 1163054\n",
      "Name: Mamlyutka ID: 1521153\n",
      "no barbar data is available\n",
      "Name: Araouane ID: 2460954\n",
      "Name: Acapulco de Juárez ID: 3533462\n",
      "Name: Riachão das Neves ID: 3451478\n",
      "Name: Benghazi ID: 88319\n",
      "Name: Arman' ID: 2127060\n",
      "Name: Quatre Cocos ID: 1106643\n",
      "Name: Kota Kinabalu ID: 1733432\n",
      "Name: Görele ID: 746565\n",
      "Name: Broken Hill ID: 2173911\n",
      "Name: Toyo ID: 1732313\n",
      "Name: Zhezkazgan ID: 1516589\n",
      "Name: Sørland ID: 3137469\n",
      "Name: Carutapera ID: 3402648\n",
      "Name: Boyle ID: 4285317\n",
      "Name: Tazovsky ID: 1489853\n",
      "Name: Coyhaique ID: 3894426\n",
      "Name: Chernyshevskiy ID: 2025456\n",
      "Name: Soe ID: 1626703\n",
      "Name: Chapada dos Guimarães ID: 3466307\n",
      "Name: Oktyabr'skoye ID: 515805\n",
      "no maykain data is available\n",
      "Name: Gazojak ID: 1514792\n",
      "Name: Myitkyina ID: 1307741\n",
      "Name: Lillooet ID: 6945979\n",
      "Name: Little Current ID: 6055388\n",
      "Name: Luga ID: 533690\n",
      "Name: Denpasar ID: 1645528\n",
      "Name: Wewak ID: 2083537\n",
      "Name: Broome ID: 5110365\n",
      "Name: Hecun ID: 1808747\n",
      "Name: Manokwari ID: 1636308\n",
      "Name: Gachsaran ID: 136014\n",
      "Name: Jutaí ID: 3663693\n",
      "Name: Mâncio Lima ID: 3663516\n",
      "Name: Boueni ID: 1090467\n",
      "Name: Beïnamar ID: 2435708\n",
      "Name: Yar-Sale ID: 1486321\n",
      "no banmo data is available\n",
      "Name: Muromtsevo ID: 1498205\n",
      "Name: Holme ID: 2624652\n",
      "Name: Harbin ID: 2037013\n",
      "Name: Peru ID: 4924733\n",
      "Name: Los Llanos de Aridane ID: 2514651\n",
      "Name: Buy ID: 570508\n",
      "Name: Cabedelo ID: 3404558\n",
      "Name: Worland ID: 5843495\n",
      "Name: Otradnoye ID: 513898\n",
      "Name: Khanpur ID: 1174167\n",
      "Name: Korla ID: 1529376\n",
      "Name: Udachny ID: 2014624\n",
      "Name: Black River ID: 3491355\n",
      "Name: Labuhan ID: 8079926\n",
      "Name: Vytegra ID: 469960\n",
      "Name: Lüchow ID: 2875542\n",
      "Name: Alofi ID: 4036284\n",
      "Name: Masalli ID: 1832663\n",
      "Name: Vostok ID: 2013279\n",
      "Name: Capinópolis ID: 3467263\n"
     ]
    },
    {
     "name": "stdout",
     "output_type": "stream",
     "text": [
      "Name: Umeå ID: 602150\n",
      "Name: Lixouri ID: 258175\n",
      "Name: Pinhão ID: 3453777\n",
      "Name: Turaif ID: 101312\n",
      "Name: Esso ID: 2125711\n",
      "Name: Hurghada ID: 361291\n",
      "Name: Pangkalanbuun ID: 1632694\n",
      "Name: Tavda ID: 1489962\n",
      "Name: Guarapari ID: 3461888\n",
      "Name: Mount Darwin ID: 885800\n",
      "Name: Shediac ID: 6145668\n",
      "Name: Puerto Escondido ID: 3520994\n",
      "Name: Fort-Shevchenko ID: 609906\n",
      "Name: Trofors ID: 3133983\n",
      "Name: Lahaina ID: 5849996\n",
      "Name: Ulladulla ID: 2145554\n",
      "Name: Pisco ID: 3932145\n",
      "Name: Buk ID: 3102138\n",
      "Name: Troitsko-Pechorsk ID: 481548\n",
      "Name: Beşikdüzü ID: 750735\n",
      "Name: ‘Āhuimanu ID: 5856516\n",
      "Name: Charagua ID: 3921141\n",
      "Name: Paamiut ID: 3421193\n",
      "Name: Lerwick ID: 2644605\n",
      "Name: Ruteng ID: 1629380\n",
      "Name: Taunggyi ID: 1293960\n",
      "Name: Presidencia Roque Sáenz Peña ID: 3840300\n",
      "Name: Phanat Nikhom ID: 1607838\n"
     ]
    }
   ],
   "source": [
    "#set up variables to be needed later\n",
    "url = \"http://api.openweathermap.org/data/2.5/weather?q=\"\n",
    "url\n",
    "#print(requests.get(url))\n",
    "units = \"imperial\"\n",
    "city_no = []\n",
    "temp = []\n",
    "lat = []\n",
    "long = []\n",
    "humidity = []\n",
    "cloud = []\n",
    "wind = []\n",
    "country = []\n",
    "date_time = []\n",
    "weather_json = []\n",
    "weather_city = []\n",
    "city_check = []\n",
    "import time\n",
    "page=0\n",
    "\n",
    "\n",
    "#find all necessary data for each city in the cities list\n",
    "for city in cities:\n",
    "   \n",
    "    query_url = f\"{url}{city}&appid={weather_api_key}&units={units}\"\n",
    "    #print(query_url)\n",
    "    weather_response = requests.get(query_url).json()\n",
    "    #handle exceptions/errors\n",
    "    try:\n",
    "        weather_response[\"weather\"]\n",
    "    except KeyError:\n",
    "        print(f'no {city} data is available')\n",
    "        continue\n",
    "    #append lists with new data\n",
    "    lat.append(weather_response['coord']['lat'])\n",
    "    long.append(weather_response['coord']['lon'])\n",
    "    temp.append(weather_response['main']['temp'])\n",
    "    humidity.append(weather_response['main']['humidity'])\n",
    "    cloud.append(weather_response['clouds']['all'])\n",
    "    wind.append(weather_response['wind']['speed'])\n",
    "    country.append(weather_response['sys']['country'])\n",
    "    date_time.append(weather_response['dt'])\n",
    "    weather_city.append(city)\n",
    "\n",
    "    print(f'Name: {weather_response[\"name\"]} ID: {weather_response[\"id\"]}')\n",
    "        "
   ]
  },
  {
   "cell_type": "code",
   "execution_count": 4,
   "metadata": {},
   "outputs": [],
   "source": [
    "#create dictionary to use for later tasks\n",
    "weather_dict = {\n",
    "    \"city\": weather_city,\n",
    "    \"lat\": lat,\n",
    "    \"long\": long,\n",
    "    \"temp\": temp,\n",
    "    \"humidity\": humidity,\n",
    "    \"cloud\": cloud,\n",
    "    \"wind\": wind,\n",
    "    \"country\":country,\n",
    "    \"date and time\":date_time\n",
    "}\n",
    "\n"
   ]
  },
  {
   "cell_type": "code",
   "execution_count": 5,
   "metadata": {},
   "outputs": [
    {
     "name": "stdout",
     "output_type": "stream",
     "text": [
      "568\n",
      "568\n",
      "568\n",
      "568\n",
      "568\n",
      "568\n"
     ]
    }
   ],
   "source": [
    "#check lengths of each dictionary\n",
    "print(len(weather_city))\n",
    "print(len(lat))\n",
    "print(len(temp))\n",
    "print(len(humidity))\n",
    "print(len(cloud))\n",
    "print(len(wind))"
   ]
  },
  {
   "cell_type": "markdown",
   "metadata": {},
   "source": [
    "### Convert Raw Data to DataFrame\n",
    "* Export the city data into a .csv.\n",
    "* Display the DataFrame"
   ]
  },
  {
   "cell_type": "code",
   "execution_count": 6,
   "metadata": {},
   "outputs": [
    {
     "data": {
      "text/html": [
       "<div>\n",
       "<style scoped>\n",
       "    .dataframe tbody tr th:only-of-type {\n",
       "        vertical-align: middle;\n",
       "    }\n",
       "\n",
       "    .dataframe tbody tr th {\n",
       "        vertical-align: top;\n",
       "    }\n",
       "\n",
       "    .dataframe thead th {\n",
       "        text-align: right;\n",
       "    }\n",
       "</style>\n",
       "<table border=\"1\" class=\"dataframe\">\n",
       "  <thead>\n",
       "    <tr style=\"text-align: right;\">\n",
       "      <th></th>\n",
       "      <th>city</th>\n",
       "      <th>lat</th>\n",
       "      <th>long</th>\n",
       "      <th>temp</th>\n",
       "      <th>humidity</th>\n",
       "      <th>cloud</th>\n",
       "      <th>wind</th>\n",
       "      <th>country</th>\n",
       "      <th>date and time</th>\n",
       "    </tr>\n",
       "  </thead>\n",
       "  <tbody>\n",
       "    <tr>\n",
       "      <th>0</th>\n",
       "      <td>butaritari</td>\n",
       "      <td>3.0707</td>\n",
       "      <td>172.7902</td>\n",
       "      <td>80.76</td>\n",
       "      <td>81</td>\n",
       "      <td>72</td>\n",
       "      <td>12.37</td>\n",
       "      <td>KI</td>\n",
       "      <td>1615657191</td>\n",
       "    </tr>\n",
       "    <tr>\n",
       "      <th>1</th>\n",
       "      <td>aklavik</td>\n",
       "      <td>68.2191</td>\n",
       "      <td>-135.0107</td>\n",
       "      <td>-22.00</td>\n",
       "      <td>76</td>\n",
       "      <td>20</td>\n",
       "      <td>3.44</td>\n",
       "      <td>CA</td>\n",
       "      <td>1615657442</td>\n",
       "    </tr>\n",
       "    <tr>\n",
       "      <th>2</th>\n",
       "      <td>cayenne</td>\n",
       "      <td>4.9333</td>\n",
       "      <td>-52.3333</td>\n",
       "      <td>84.27</td>\n",
       "      <td>62</td>\n",
       "      <td>40</td>\n",
       "      <td>11.50</td>\n",
       "      <td>GF</td>\n",
       "      <td>1615657196</td>\n",
       "    </tr>\n",
       "    <tr>\n",
       "      <th>3</th>\n",
       "      <td>galveston</td>\n",
       "      <td>29.3669</td>\n",
       "      <td>-94.9669</td>\n",
       "      <td>72.28</td>\n",
       "      <td>78</td>\n",
       "      <td>75</td>\n",
       "      <td>11.50</td>\n",
       "      <td>US</td>\n",
       "      <td>1615657443</td>\n",
       "    </tr>\n",
       "    <tr>\n",
       "      <th>4</th>\n",
       "      <td>kavieng</td>\n",
       "      <td>-2.5744</td>\n",
       "      <td>150.7967</td>\n",
       "      <td>81.30</td>\n",
       "      <td>65</td>\n",
       "      <td>0</td>\n",
       "      <td>4.81</td>\n",
       "      <td>PG</td>\n",
       "      <td>1615657443</td>\n",
       "    </tr>\n",
       "    <tr>\n",
       "      <th>...</th>\n",
       "      <td>...</td>\n",
       "      <td>...</td>\n",
       "      <td>...</td>\n",
       "      <td>...</td>\n",
       "      <td>...</td>\n",
       "      <td>...</td>\n",
       "      <td>...</td>\n",
       "      <td>...</td>\n",
       "      <td>...</td>\n",
       "    </tr>\n",
       "    <tr>\n",
       "      <th>563</th>\n",
       "      <td>lerwick</td>\n",
       "      <td>60.1545</td>\n",
       "      <td>-1.1494</td>\n",
       "      <td>42.80</td>\n",
       "      <td>87</td>\n",
       "      <td>75</td>\n",
       "      <td>17.27</td>\n",
       "      <td>GB</td>\n",
       "      <td>1615657630</td>\n",
       "    </tr>\n",
       "    <tr>\n",
       "      <th>564</th>\n",
       "      <td>ruteng</td>\n",
       "      <td>-8.6136</td>\n",
       "      <td>120.4721</td>\n",
       "      <td>62.40</td>\n",
       "      <td>91</td>\n",
       "      <td>95</td>\n",
       "      <td>0.31</td>\n",
       "      <td>ID</td>\n",
       "      <td>1615657631</td>\n",
       "    </tr>\n",
       "    <tr>\n",
       "      <th>565</th>\n",
       "      <td>taunggyi</td>\n",
       "      <td>20.7833</td>\n",
       "      <td>97.0333</td>\n",
       "      <td>61.09</td>\n",
       "      <td>35</td>\n",
       "      <td>0</td>\n",
       "      <td>1.59</td>\n",
       "      <td>MM</td>\n",
       "      <td>1615657631</td>\n",
       "    </tr>\n",
       "    <tr>\n",
       "      <th>566</th>\n",
       "      <td>presidencia roque saenz pena</td>\n",
       "      <td>-26.7852</td>\n",
       "      <td>-60.4388</td>\n",
       "      <td>103.35</td>\n",
       "      <td>16</td>\n",
       "      <td>80</td>\n",
       "      <td>2.30</td>\n",
       "      <td>AR</td>\n",
       "      <td>1615657631</td>\n",
       "    </tr>\n",
       "    <tr>\n",
       "      <th>567</th>\n",
       "      <td>phanat nikhom</td>\n",
       "      <td>13.4458</td>\n",
       "      <td>101.1844</td>\n",
       "      <td>84.40</td>\n",
       "      <td>83</td>\n",
       "      <td>0</td>\n",
       "      <td>5.12</td>\n",
       "      <td>TH</td>\n",
       "      <td>1615657632</td>\n",
       "    </tr>\n",
       "  </tbody>\n",
       "</table>\n",
       "<p>568 rows × 9 columns</p>\n",
       "</div>"
      ],
      "text/plain": [
       "                             city      lat      long    temp  humidity  cloud  \\\n",
       "0                      butaritari   3.0707  172.7902   80.76        81     72   \n",
       "1                         aklavik  68.2191 -135.0107  -22.00        76     20   \n",
       "2                         cayenne   4.9333  -52.3333   84.27        62     40   \n",
       "3                       galveston  29.3669  -94.9669   72.28        78     75   \n",
       "4                         kavieng  -2.5744  150.7967   81.30        65      0   \n",
       "..                            ...      ...       ...     ...       ...    ...   \n",
       "563                       lerwick  60.1545   -1.1494   42.80        87     75   \n",
       "564                        ruteng  -8.6136  120.4721   62.40        91     95   \n",
       "565                      taunggyi  20.7833   97.0333   61.09        35      0   \n",
       "566  presidencia roque saenz pena -26.7852  -60.4388  103.35        16     80   \n",
       "567                 phanat nikhom  13.4458  101.1844   84.40        83      0   \n",
       "\n",
       "      wind country  date and time  \n",
       "0    12.37      KI     1615657191  \n",
       "1     3.44      CA     1615657442  \n",
       "2    11.50      GF     1615657196  \n",
       "3    11.50      US     1615657443  \n",
       "4     4.81      PG     1615657443  \n",
       "..     ...     ...            ...  \n",
       "563  17.27      GB     1615657630  \n",
       "564   0.31      ID     1615657631  \n",
       "565   1.59      MM     1615657631  \n",
       "566   2.30      AR     1615657631  \n",
       "567   5.12      TH     1615657632  \n",
       "\n",
       "[568 rows x 9 columns]"
      ]
     },
     "execution_count": 6,
     "metadata": {},
     "output_type": "execute_result"
    }
   ],
   "source": [
    "weather_data_df = pd.DataFrame(data=weather_dict)\n",
    "\n",
    "weather_data_df.to_csv('output.csv', index=False)\n",
    "weather_data_df"
   ]
  },
  {
   "cell_type": "markdown",
   "metadata": {},
   "source": [
    "## Inspect the data and remove the cities where the humidity > 100%.\n",
    "----\n",
    "Skip this step if there are no cities that have humidity > 100%. "
   ]
  },
  {
   "cell_type": "code",
   "execution_count": 7,
   "metadata": {},
   "outputs": [
    {
     "data": {
      "text/html": [
       "<div>\n",
       "<style scoped>\n",
       "    .dataframe tbody tr th:only-of-type {\n",
       "        vertical-align: middle;\n",
       "    }\n",
       "\n",
       "    .dataframe tbody tr th {\n",
       "        vertical-align: top;\n",
       "    }\n",
       "\n",
       "    .dataframe thead th {\n",
       "        text-align: right;\n",
       "    }\n",
       "</style>\n",
       "<table border=\"1\" class=\"dataframe\">\n",
       "  <thead>\n",
       "    <tr style=\"text-align: right;\">\n",
       "      <th></th>\n",
       "      <th>city</th>\n",
       "      <th>lat</th>\n",
       "      <th>long</th>\n",
       "      <th>temp</th>\n",
       "      <th>humidity</th>\n",
       "      <th>cloud</th>\n",
       "      <th>wind</th>\n",
       "      <th>country</th>\n",
       "      <th>date and time</th>\n",
       "    </tr>\n",
       "  </thead>\n",
       "  <tbody>\n",
       "  </tbody>\n",
       "</table>\n",
       "</div>"
      ],
      "text/plain": [
       "Empty DataFrame\n",
       "Columns: [city, lat, long, temp, humidity, cloud, wind, country, date and time]\n",
       "Index: []"
      ]
     },
     "execution_count": 7,
     "metadata": {},
     "output_type": "execute_result"
    }
   ],
   "source": [
    "#look for cities that have humidity of more than 100%\n",
    "weather_data_df.loc[weather_data_df['humidity']>100]\n",
    "\n",
    "#originally looked at box and whisker plot to see data, then checked a different way\n",
    "#fig1, ax1 = plt.subplots()\n",
    "#ax1.set_title('City')\n",
    "#ax1.set_ylabel('Humidity')\n",
    "#ax1.boxplot(humidity)\n",
    "#plt.show()"
   ]
  },
  {
   "cell_type": "code",
   "execution_count": 8,
   "metadata": {},
   "outputs": [],
   "source": [
    "# Make a new DataFrame equal to the city data to drop all humidity outliers by index.\n",
    "# Passing \"inplace=False\" will make a copy of the city_data DataFrame, which we call \"clean_city_data\".\n"
   ]
  },
  {
   "cell_type": "code",
   "execution_count": null,
   "metadata": {},
   "outputs": [],
   "source": [
    "\n"
   ]
  },
  {
   "cell_type": "markdown",
   "metadata": {},
   "source": [
    "## Plotting the Data\n",
    "* Use proper labeling of the plots using plot titles (including date of analysis) and axes labels.\n",
    "* Save the plotted figures as .pngs."
   ]
  },
  {
   "cell_type": "markdown",
   "metadata": {},
   "source": [
    "## Latitude vs. Temperature Plot"
   ]
  },
  {
   "cell_type": "code",
   "execution_count": 9,
   "metadata": {
    "scrolled": true
   },
   "outputs": [
    {
     "data": {
      "image/png": "[encoded data removed]",
      "text/plain": [
       "<Figure size 432x288 with 1 Axes>"
      ]
     },
     "metadata": {
      "needs_background": "light"
     },
     "output_type": "display_data"
    },
    {
     "name": "stdout",
     "output_type": "stream",
     "text": [
      "This graph shows how the temperature is related to the lattitude. In the both hemispheres,\n",
      "the closer you are to the equator (lattitude 0), the higher your temperature. In the Northern hemisphere,\n",
      "since it is winter, it gets much colder as you go closer to the North pole, while in the Southern hemisphere\n",
      "since it is summer, the change is not as drastic. Also, there are not any cities that could be pulled close\n",
      "to the South Pole since there are no cities in Antarctica.\n"
     ]
    }
   ],
   "source": [
    "import scipy.stats as st\n",
    "plt.scatter(lat,temp)\n",
    "plt.xlabel('Lattitude')\n",
    "plt.ylabel('Temperature (F)')\n",
    "\n",
    "plt.savefig(\"latvtemp.png\")\n",
    "\n",
    "plt.show()\n",
    "print(f'This graph shows how the temperature is related to the lattitude. In the both hemispheres,')\n",
    "print(f'the closer you are to the equator (lattitude 0), the higher your temperature. In the Northern hemisphere,')\n",
    "print(f'since it is winter, it gets much colder as you go closer to the North pole, while in the Southern hemisphere')\n",
    "print(f'since it is summer, the change is not as drastic. Also, there are not any cities that could be pulled close')\n",
    "print('to the South Pole since there are no cities in Antarctica.')"
   ]
  },
  {
   "cell_type": "markdown",
   "metadata": {},
   "source": [
    "## Latitude vs. Humidity Plot"
   ]
  },
  {
   "cell_type": "code",
   "execution_count": 10,
   "metadata": {},
   "outputs": [
    {
     "data": {
      "image/png": "[encoded data removed]",
      "text/plain": [
       "<Figure size 432x288 with 1 Axes>"
      ]
     },
     "metadata": {
      "needs_background": "light"
     },
     "output_type": "display_data"
    },
    {
     "name": "stdout",
     "output_type": "stream",
     "text": [
      "This graph shows that the humidity and lattitude of each city that was analyzed. Since humidity typically\n",
      "deals with one of two things, how close you are to the coast or what your daily weather is, more than lattitude,\n",
      "this variabilty is not surprising.\n"
     ]
    }
   ],
   "source": [
    "plt.scatter(lat,humidity)\n",
    "plt.xlabel('Lattitude')\n",
    "plt.ylabel('Humidity')\n",
    "\n",
    "plt.savefig(\"latvhum.png\")\n",
    "\n",
    "plt.show()\n",
    "\n",
    "print(f'This graph shows that the humidity and lattitude of each city that was analyzed. Since humidity typically')\n",
    "print(f'deals with one of two things, how close you are to the coast or what your daily weather is, more than lattitude,')\n",
    "print(f'this variabilty is not surprising.')"
   ]
  },
  {
   "cell_type": "markdown",
   "metadata": {},
   "source": [
    "## Latitude vs. Cloudiness Plot"
   ]
  },
  {
   "cell_type": "code",
   "execution_count": 11,
   "metadata": {},
   "outputs": [
    {
     "data": {
      "image/png": "[encoded data removed]",
      "text/plain": [
       "<Figure size 432x288 with 1 Axes>"
      ]
     },
     "metadata": {
      "needs_background": "light"
     },
     "output_type": "display_data"
    },
    {
     "name": "stdout",
     "output_type": "stream",
     "text": [
      "This plot analyzes cloudiness and lattitude. It seems to imply that most of the cloudiness is measure by percent\n",
      "cloud cover which is why there are lines at each of the multiples of 20 or 25. It is easy to measure by saying 20\n",
      "or 25 percent cloud cover.\n"
     ]
    }
   ],
   "source": [
    "plt.scatter(lat, cloud)\n",
    "plt.xlabel('Lattitude')\n",
    "plt.ylabel('Cloudiness')\n",
    "\n",
    "plt.savefig(\"latvcloud.png\")\n",
    "\n",
    "plt.show()\n",
    "\n",
    "print(f'This plot analyzes cloudiness and lattitude. It seems to imply that most of the cloudiness is measure by percent')\n",
    "print(f'cloud cover which is why there are lines at each of the multiples of 20 or 25. It is easy to measure by saying 20')\n",
    "print(f'or 25 percent cloud cover.')"
   ]
  },
  {
   "cell_type": "markdown",
   "metadata": {},
   "source": [
    "## Latitude vs. Wind Speed Plot"
   ]
  },
  {
   "cell_type": "code",
   "execution_count": 21,
   "metadata": {},
   "outputs": [
    {
     "data": {
      "image/png": "[encoded data removed]",
      "text/plain": [
       "<Figure size 432x288 with 1 Axes>"
      ]
     },
     "metadata": {
      "needs_background": "light"
     },
     "output_type": "display_data"
    },
    {
     "name": "stdout",
     "output_type": "stream",
     "text": [
      "This plot shows wind speeds as it correlates to lattitude. While there are some interesting standouts, this will not\n",
      "show the typical correlation most people will look for. Winds tend to be stronger along certain latitude lines, but\n",
      "since they are also a factor of day to day weather, they do not tend to stand out the way people look for them.\n",
      "You can see some groupings and some higher winds along those lattitude lines where the winds are usually stronger,\n",
      "such as between the 35 and 55 degree lines, and lighter winds near the equator, but so many other factors are at play\n",
      "it is hard to really tell what is going on.\n"
     ]
    }
   ],
   "source": [
    "plt.scatter(lat,wind)\n",
    "plt.xlabel('Lattitude')\n",
    "plt.ylabel('Wind Speed (mph)')\n",
    "\n",
    "plt.savefig(\"latvwind.png\")\n",
    "\n",
    "plt.show()\n",
    "\n",
    "print(f'This plot shows wind speeds as it correlates to lattitude. While there are some interesting standouts, this will not')\n",
    "print(f'show the typical correlation most people will look for. Winds tend to be stronger along certain latitude lines, but')\n",
    "print(f'since they are also a factor of day to day weather, they do not tend to stand out the way people look for them.')\n",
    "print(f'You can see some groupings and some higher winds along those lattitude lines where the winds are usually stronger,')\n",
    "print(f'such as between the 35 and 55 degree lines, and lighter winds near the equator, but so many other factors are at play')\n",
    "print(f'it is hard to really tell what is going on.')"
   ]
  },
  {
   "cell_type": "markdown",
   "metadata": {},
   "source": [
    "## Linear Regression"
   ]
  },
  {
   "cell_type": "markdown",
   "metadata": {},
   "source": [
    "####  Northern Hemisphere - Max Temp vs. Latitude Linear Regression"
   ]
  },
  {
   "cell_type": "code",
   "execution_count": 13,
   "metadata": {},
   "outputs": [
    {
     "data": {
      "image/png": "[encoded data removed]",
      "text/plain": [
       "<Figure size 432x288 with 1 Axes>"
      ]
     },
     "metadata": {
      "needs_background": "light"
     },
     "output_type": "display_data"
    },
    {
     "name": "stdout",
     "output_type": "stream",
     "text": [
      "This graph shows a negative correlation between temperature and lattitude. As you move further away from the\n",
      "equator, the temperature goes down. As it is winter in the Northern Hemisphere, this is to be expected.\n"
     ]
    }
   ],
   "source": [
    "northern_hem_df = weather_data_df.loc[weather_data_df['lat']>0]\n",
    "x_values =northern_hem_df['lat']\n",
    "y_values = northern_hem_df['temp']\n",
    "(slope, intercept, rvalue, pvalue, stderr) = linregress(x_values, y_values)\n",
    "regress_values = x_values * slope + intercept\n",
    "# line_eq = \"y = \" + str(round(slope,2)) + \"x + \" + str(round(intercept,2))\n",
    "line_eq = f\"y= {slope:.2f}x {'+' if intercept > 0 else ''} {intercept:.2f}\"\n",
    "plt.scatter(x_values,y_values)\n",
    "plt.plot(x_values,regress_values,\"r-\")\n",
    "plt.annotate(line_eq,(4,-20),fontsize=15,color=\"red\")\n",
    "plt.xlabel('Northern Hemisphere Lattitude')\n",
    "plt.ylabel('Maximum Temperature')\n",
    "\n",
    "plt.savefig(\"NH_tempvlat.png\")\n",
    "\n",
    "plt.show()\n",
    "\n",
    "print(f'This graph shows a negative correlation between temperature and lattitude. As you move further away from the')\n",
    "print(f'equator, the temperature goes down. As it is winter in the Northern Hemisphere, this is to be expected.')"
   ]
  },
  {
   "cell_type": "markdown",
   "metadata": {},
   "source": [
    "####  Southern Hemisphere - Max Temp vs. Latitude Linear Regression"
   ]
  },
  {
   "cell_type": "code",
   "execution_count": 14,
   "metadata": {},
   "outputs": [
    {
     "data": {
      "image/png": "[encoded data removed]",
      "text/plain": [
       "<Figure size 432x288 with 1 Axes>"
      ]
     },
     "metadata": {
      "needs_background": "light"
     },
     "output_type": "display_data"
    },
    {
     "name": "stdout",
     "output_type": "stream",
     "text": [
      "This graph does not show as much of a correlation as the one for the Northern Hemisphere, which also makes sense,\n",
      "considering it is summer in the Southern Hemisphere. For Earth, the Sun is directly overhead at 23.5 degrees South\n",
      "of the equator, which is why the temperatures go up from the more negative (closer to the poles) lattitudes towards\n",
      "the 23.5 degrees, and then some of the temperatures start to decrease slightly.\n"
     ]
    }
   ],
   "source": [
    "southern_hem_df = weather_data_df.loc[weather_data_df['lat']<0]\n",
    "x_values =southern_hem_df['lat']\n",
    "y_values = southern_hem_df['temp']\n",
    "(slope, intercept, rvalue, pvalue, stderr) = linregress(x_values, y_values)\n",
    "regress_values = x_values * slope + intercept\n",
    "# line_eq = \"y = \" + str(round(slope,2)) + \"x + \" + str(round(intercept,2))\n",
    "line_eq = f\"y= {slope:.2f}x {'+' if intercept > 0 else ''} {intercept:.2f}\"\n",
    "plt.scatter(x_values,y_values)\n",
    "plt.plot(x_values,regress_values,\"r-\")\n",
    "plt.annotate(line_eq,(-55,87),fontsize=15,color=\"red\")\n",
    "plt.xlabel('Southern Hemisphere Lattitude')\n",
    "plt.ylabel('Maximum Temperature')\n",
    "\n",
    "plt.savefig(\"SH_tempvlat.png\")\n",
    "\n",
    "plt.show()\n",
    "\n",
    "print(f'This graph does not show as much of a correlation as the one for the Northern Hemisphere, which also makes sense,')\n",
    "print(f'considering it is summer in the Southern Hemisphere. For Earth, the Sun is directly overhead at 23.5 degrees South')\n",
    "print(f'of the equator, which is why the temperatures go up from the more negative (closer to the poles) lattitudes towards')\n",
    "print(f'the 23.5 degrees, and then some of the temperatures start to decrease slightly.')"
   ]
  },
  {
   "cell_type": "markdown",
   "metadata": {},
   "source": [
    "####  Northern Hemisphere - Humidity (%) vs. Latitude Linear Regression"
   ]
  },
  {
   "cell_type": "code",
   "execution_count": 15,
   "metadata": {},
   "outputs": [
    {
     "data": {
      "image/png": "[encoded data removed]",
      "text/plain": [
       "<Figure size 432x288 with 1 Axes>"
      ]
     },
     "metadata": {
      "needs_background": "light"
     },
     "output_type": "display_data"
    },
    {
     "name": "stdout",
     "output_type": "stream",
     "text": [
      "This graph shows a correlation between humidity and the distance from the equator. Since warm air can hold more\n",
      "moisture, there is a much wider variety of humidities near the equator than closer to the poles. Since other variables\n",
      "also affect humidity, how close you are to the coast or if you have rain that day because of a storm, the range in\n",
      "humidity near the equator can be expected.\n"
     ]
    }
   ],
   "source": [
    "northern_hem_df = weather_data_df.loc[weather_data_df['lat']>0]\n",
    "x_values =northern_hem_df['lat']\n",
    "y_values = northern_hem_df['humidity']\n",
    "(slope, intercept, rvalue, pvalue, stderr) = linregress(x_values, y_values)\n",
    "regress_values = x_values * slope + intercept\n",
    "# line_eq = \"y = \" + str(round(slope,2)) + \"x + \" + str(round(intercept,2))\n",
    "line_eq = f\"y= {slope:.2f}x {'+' if intercept > 0 else ''} {intercept:.2f}\"\n",
    "plt.scatter(x_values,y_values)\n",
    "plt.plot(x_values,regress_values,\"r-\")\n",
    "plt.annotate(line_eq,(50,10),fontsize=10,color=\"red\")\n",
    "plt.xlabel('Northern Hemisphere Lattitude')\n",
    "plt.ylabel('Humidity')\n",
    "\n",
    "plt.savefig(\"NH_Humvlat.png\")\n",
    "\n",
    "plt.show()\n",
    "\n",
    "print(f'This graph shows a correlation between humidity and the distance from the equator. Since warm air can hold more')\n",
    "print(f'moisture, there is a much wider variety of humidities near the equator than closer to the poles. Since other variables')\n",
    "print(f'also affect humidity, how close you are to the coast or if you have rain that day because of a storm, the range in')\n",
    "print(f'humidity near the equator can be expected.')"
   ]
  },
  {
   "cell_type": "markdown",
   "metadata": {},
   "source": [
    "####  Southern Hemisphere - Humidity (%) vs. Latitude Linear Regression"
   ]
  },
  {
   "cell_type": "code",
   "execution_count": 16,
   "metadata": {},
   "outputs": [
    {
     "data": {
      "image/png": "[encoded data removed]",
      "text/plain": [
       "<Figure size 432x288 with 1 Axes>"
      ]
     },
     "metadata": {
      "needs_background": "light"
     },
     "output_type": "display_data"
    },
    {
     "name": "stdout",
     "output_type": "stream",
     "text": [
      "This graph shows less correlation between humidity and lattitude than the Northern Hemisphere, although the humidity\n",
      "is much higher near the equator overall since the warmer air can hold more moisture.\n"
     ]
    }
   ],
   "source": [
    "southern_hem_df = weather_data_df.loc[weather_data_df['lat']<0]\n",
    "x_values =southern_hem_df['lat']\n",
    "y_values = southern_hem_df['humidity']\n",
    "(slope, intercept, rvalue, pvalue, stderr) = linregress(x_values, y_values)\n",
    "regress_values = x_values * slope + intercept\n",
    "# line_eq = \"y = \" + str(round(slope,2)) + \"x + \" + str(round(intercept,2))\n",
    "line_eq = f\"y= {slope:.2f}x {'+' if intercept > 0 else ''} {intercept:.2f}\"\n",
    "plt.scatter(x_values,y_values)\n",
    "plt.plot(x_values,regress_values,\"r-\")\n",
    "plt.annotate(line_eq,(-55,25),fontsize=15,color=\"red\")\n",
    "plt.xlabel('Southern Hemisphere Lattitude')\n",
    "plt.ylabel('Humidity')\n",
    "\n",
    "plt.savefig(\"SH_Humvlat.png\")\n",
    "\n",
    "plt.show()\n",
    "\n",
    "print(f'This graph shows less correlation between humidity and lattitude than the Northern Hemisphere, although the humidity')\n",
    "print(f'is much higher near the equator overall since the warmer air can hold more moisture.')"
   ]
  },
  {
   "cell_type": "markdown",
   "metadata": {},
   "source": [
    "####  Northern Hemisphere - Cloudiness (%) vs. Latitude Linear Regression"
   ]
  },
  {
   "cell_type": "code",
   "execution_count": 17,
   "metadata": {},
   "outputs": [
    {
     "data": {
      "image/png": "[encoded data removed]",
      "text/plain": [
       "<Figure size 432x288 with 1 Axes>"
      ]
     },
     "metadata": {
      "needs_background": "light"
     },
     "output_type": "display_data"
    },
    {
     "name": "stdout",
     "output_type": "stream",
     "text": [
      "This graph shows little correlation between cloud cover and lattitude. There seems to be mostly just 100 percent,\n",
      "75, 40, 20, or 0 percent cloud cover\n"
     ]
    }
   ],
   "source": [
    "northern_hem_df = weather_data_df.loc[weather_data_df['lat']>0]\n",
    "x_values =northern_hem_df['lat']\n",
    "y_values = northern_hem_df['cloud']\n",
    "(slope, intercept, rvalue, pvalue, stderr) = linregress(x_values, y_values)\n",
    "regress_values = x_values * slope + intercept\n",
    "# line_eq = \"y = \" + str(round(slope,2)) + \"x + \" + str(round(intercept,2))\n",
    "line_eq = f\"y= {slope:.2f}x {'+' if intercept > 0 else ''} {intercept:.2f}\"\n",
    "plt.scatter(x_values,y_values)\n",
    "plt.plot(x_values,regress_values,\"r-\")\n",
    "plt.annotate(line_eq,(55, 25),fontsize=10,color=\"red\")\n",
    "plt.xlabel('Northern Hemisphere Lattitude')\n",
    "plt.ylabel('Cloudiness (%)')\n",
    "\n",
    "plt.savefig(\"NH_Cloudvlat.png\")\n",
    "\n",
    "plt.show()\n",
    "\n",
    "print(f'This graph shows little correlation between cloud cover and lattitude. There seems to be mostly just 100 percent,')\n",
    "print(f'75, 40, 20, or 0 percent cloud cover')"
   ]
  },
  {
   "cell_type": "markdown",
   "metadata": {},
   "source": [
    "####  Southern Hemisphere - Cloudiness (%) vs. Latitude Linear Regression"
   ]
  },
  {
   "cell_type": "code",
   "execution_count": 18,
   "metadata": {},
   "outputs": [
    {
     "data": {
      "image/png": "[encoded data removed]",
      "text/plain": [
       "<Figure size 432x288 with 1 Axes>"
      ]
     },
     "metadata": {
      "needs_background": "light"
     },
     "output_type": "display_data"
    },
    {
     "name": "stdout",
     "output_type": "stream",
     "text": [
      "This graph shows less cloud cover than in the Northern Hemisphere overall. There are not as many places where there\n",
      "are completely cloudless skies, but there is a wide range of various cloud cover in the Southern Hemisphere.\n"
     ]
    }
   ],
   "source": [
    "southern_hem_df = weather_data_df.loc[weather_data_df['lat']<0]\n",
    "x_values =southern_hem_df['lat']\n",
    "y_values = southern_hem_df['cloud']\n",
    "(slope, intercept, rvalue, pvalue, stderr) = linregress(x_values, y_values)\n",
    "regress_values = x_values * slope + intercept\n",
    "# line_eq = \"y = \" + str(round(slope,2)) + \"x + \" + str(round(intercept,2))\n",
    "line_eq = f\"y= {slope:.2f}x {'+' if intercept > 0 else ''} {intercept:.2f}\"\n",
    "plt.scatter(x_values,y_values)\n",
    "plt.plot(x_values,regress_values,\"r-\")\n",
    "plt.annotate(line_eq,(-55,60),fontsize=10,color=\"red\")\n",
    "plt.xlabel('Southern Hemisphere Lattitude')\n",
    "plt.ylabel('Cloudiness (%)')\n",
    "\n",
    "plt.savefig(\"SH_Cloudvlat.png\")\n",
    "\n",
    "plt.show()\n",
    "\n",
    "print(f'This graph shows less cloud cover than in the Northern Hemisphere overall. There are not as many places where there')\n",
    "print(f'are completely cloudless skies, but there is a wide range of various cloud cover in the Southern Hemisphere.')"
   ]
  },
  {
   "cell_type": "markdown",
   "metadata": {},
   "source": [
    "####  Northern Hemisphere - Wind Speed (mph) vs. Latitude Linear Regression"
   ]
  },
  {
   "cell_type": "code",
   "execution_count": 19,
   "metadata": {},
   "outputs": [
    {
     "data": {
      "image/png": "[encoded data removed]",
      "text/plain": [
       "<Figure size 432x288 with 1 Axes>"
      ]
     },
     "metadata": {
      "needs_background": "light"
     },
     "output_type": "display_data"
    },
    {
     "name": "stdout",
     "output_type": "stream",
     "text": [
      "This graph shows that wind speeds are not really changed by distance from the equator for the Northern Hemisphere.\n"
     ]
    }
   ],
   "source": [
    "northern_hem_df = weather_data_df.loc[weather_data_df['lat']>0]\n",
    "x_values =northern_hem_df['lat']\n",
    "y_values = northern_hem_df['wind']\n",
    "(slope, intercept, rvalue, pvalue, stderr) = linregress(x_values, y_values)\n",
    "regress_values = x_values * slope + intercept\n",
    "# line_eq = \"y = \" + str(round(slope,2)) + \"x + \" + str(round(intercept,2))\n",
    "line_eq = f\"y= {slope:.2f}x {'+' if intercept > 0 else ''} {intercept:.2f}\"\n",
    "plt.scatter(x_values,y_values)\n",
    "plt.plot(x_values,regress_values,\"r-\")\n",
    "plt.annotate(line_eq,(4,40),fontsize=15,color=\"red\")\n",
    "plt.xlabel('Northern Hemisphere Lattitude')\n",
    "plt.ylabel('Wind Speed (mph)')\n",
    "\n",
    "plt.savefig(\"NH_Windvlat.png\")\n",
    "\n",
    "plt.show()\n",
    "\n",
    "print(f'This graph shows that wind speeds are not really changed by distance from the equator for the Northern Hemisphere.')"
   ]
  },
  {
   "cell_type": "markdown",
   "metadata": {},
   "source": [
    "####  Southern Hemisphere - Wind Speed (mph) vs. Latitude Linear Regression"
   ]
  },
  {
   "cell_type": "code",
   "execution_count": 20,
   "metadata": {},
   "outputs": [
    {
     "data": {
      "image/png": "[encoded data removed]",
      "text/plain": [
       "<Figure size 432x288 with 1 Axes>"
      ]
     },
     "metadata": {
      "needs_background": "light"
     },
     "output_type": "display_data"
    },
    {
     "name": "stdout",
     "output_type": "stream",
     "text": [
      "This graph shows that the winds in the Southern Hemisphere tend to decrease as you get closer to the equator. Winds\n",
      "at the equator tend to be fairly calm unless there is a storm, so this makes sense.\n"
     ]
    }
   ],
   "source": [
    "southern_hem_df = weather_data_df.loc[weather_data_df['lat']<0]\n",
    "x_values =southern_hem_df['lat']\n",
    "y_values = southern_hem_df['wind']\n",
    "(slope, intercept, rvalue, pvalue, stderr) = linregress(x_values, y_values)\n",
    "regress_values = x_values * slope + intercept\n",
    "# line_eq = \"y = \" + str(round(slope,2)) + \"x + \" + str(round(intercept,2))\n",
    "line_eq = f\"y= {slope:.2f}x {'+' if intercept > 0 else ''} {intercept:.2f}\"\n",
    "plt.scatter(x_values,y_values)\n",
    "plt.plot(x_values,regress_values,\"r-\")\n",
    "plt.annotate(line_eq,(-55,18),fontsize=15,color=\"red\")\n",
    "plt.xlabel('Southern Hemisphere Lattitude')\n",
    "plt.ylabel('Wind Speed (mph)')\n",
    "\n",
    "plt.savefig(\"SH_Windvlat.png\")\n",
    "\n",
    "plt.show()\n",
    "\n",
    "print(f'This graph shows that the winds in the Southern Hemisphere tend to decrease as you get closer to the equator. Winds')\n",
    "print(f'at the equator tend to be fairly calm unless there is a storm, so this makes sense.')"
   ]
  },
  {
   "cell_type": "code",
   "execution_count": null,
   "metadata": {},
   "outputs": [],
   "source": []
  }
 ],
 "metadata": {
  "anaconda-cloud": {},
  "kernel_info": {
   "name": "python3"
  },
  "kernelspec": {
   "display_name": "Python 3",
   "language": "python",
   "name": "python3"
  },
  "language_info": {
   "codemirror_mode": {
    "name": "ipython",
    "version": 3
   },
   "file_extension": ".py",
   "mimetype": "text/x-python",
   "name": "python",
   "nbconvert_exporter": "python",
   "pygments_lexer": "ipython3",
   "version": "3.9.2"
  },
  "latex_envs": {
   "LaTeX_envs_menu_present": true,
   "autoclose": false,
   "autocomplete": true,
   "bibliofile": "biblio.bib",
   "cite_by": "apalike",
   "current_citInitial": 1,
   "eqLabelWithNumbers": true,
   "eqNumInitial": 1,
   "hotkeys": {
    "equation": "Ctrl-E",
    "itemize": "Ctrl-I"
   },
   "labels_anchors": false,
   "latex_user_defs": false,
   "report_style_numbering": false,
   "user_envs_cfg": false
  },
  "nteract": {
   "version": "0.12.3"
  }
 },
 "nbformat": 4,
 "nbformat_minor": 4
}
