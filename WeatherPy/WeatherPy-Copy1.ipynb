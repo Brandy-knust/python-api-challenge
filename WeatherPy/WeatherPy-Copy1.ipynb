{
 "cells": [
  {
   "cell_type": "markdown",
   "metadata": {},
   "source": [
    "# WeatherPy\n",
    "----\n",
    "\n",
    "#### Note\n",
    "* Instructions have been included for each segment. You do not have to follow them exactly, but they are included to help you think through the steps."
   ]
  },
  {
   "cell_type": "code",
   "execution_count": 3,
   "metadata": {},
   "outputs": [
    {
     "name": "stdout",
     "output_type": "stream",
     "text": [
      "Collecting citipy\n",
      "  Using cached citipy-0.0.5.tar.gz (557 kB)\n",
      "Collecting kdtree>=0.12\n",
      "  Using cached kdtree-0.16-py2.py3-none-any.whl (7.7 kB)\n",
      "Building wheels for collected packages: citipy\n",
      "  Building wheel for citipy (setup.py): started\n",
      "  Building wheel for citipy (setup.py): finished with status 'done'\n",
      "  Created wheel for citipy: filename=citipy-0.0.5-py3-none-any.whl size=559700 sha256=a8db34bbdfaa89a9f114c11ce184f0174f98345f56a88eea131b5a1b9c7b08e2\n",
      "  Stored in directory: c:\\users\\brand\\appdata\\local\\pip\\cache\\wheels\\d9\\dd\\68\\8cc0be16282b0fcae5acb7280b47d31952f203c401923a8c1e\n",
      "Successfully built citipy\n",
      "Installing collected packages: kdtree, citipy\n",
      "Successfully installed citipy-0.0.5 kdtree-0.16\n"
     ]
    }
   ],
   "source": []
  },
  {
   "cell_type": "code",
   "execution_count": 4,
   "metadata": {
    "scrolled": true
   },
   "outputs": [],
   "source": [
    "# Dependencies and Setup\n",
    "import matplotlib.pyplot as plt\n",
    "import pandas as pd\n",
    "import numpy as np\n",
    "import requests\n",
    "import time\n",
    "from scipy.stats import linregress\n",
    "import json\n",
    "\n",
    "\n",
    "# Import API key\n",
    "from api_keys import weather_api_key\n",
    "\n",
    "# Incorporated citipy to determine city based on latitude and longitude\n",
    "from citipy import citipy\n",
    "\n",
    "# Output File (CSV)\n",
    "output_data_file = \"output_data/cities.csv\"\n",
    "\n",
    "# Range of latitudes and longitudes\n",
    "lat_range = (-90, 90)\n",
    "lng_range = (-180, 180)"
   ]
  },
  {
   "cell_type": "markdown",
   "metadata": {},
   "source": [
    "## Generate Cities List"
   ]
  },
  {
   "cell_type": "code",
   "execution_count": 5,
   "metadata": {},
   "outputs": [
    {
     "data": {
      "text/plain": [
       "626"
      ]
     },
     "execution_count": 5,
     "metadata": {},
     "output_type": "execute_result"
    }
   ],
   "source": [
    "# List for holding lat_lngs and cities\n",
    "lat_lngs = []\n",
    "cities = []\n",
    "\n",
    "# Create a set of random lat and lng combinations\n",
    "lats = np.random.uniform(lat_range[0], lat_range[1], size=1500)\n",
    "lngs = np.random.uniform(lng_range[0], lng_range[1], size=1500)\n",
    "lat_lngs = zip(lats, lngs)\n",
    "\n",
    "# Identify nearest city for each lat, lng combination\n",
    "for lat_lng in lat_lngs:\n",
    "    city = citipy.nearest_city(lat_lng[0], lat_lng[1]).city_name\n",
    "    \n",
    "    # If the city is unique, then add it to a our cities list\n",
    "    if city not in cities:\n",
    "        cities.append(city)\n",
    "#for city in cities:\n",
    "#    city_name = city.replace(\" \", \"%20\")\n",
    "\n",
    "# Print the city count to confirm sufficient count\n",
    "len(cities)\n"
   ]
  },
  {
   "cell_type": "markdown",
   "metadata": {},
   "source": [
    "### Perform API Calls\n",
    "* Perform a weather check on each city using a series of successive API calls.\n",
    "* Include a print log of each city as it'sbeing processed (with the city number and city name).\n"
   ]
  },
  {
   "cell_type": "code",
   "execution_count": 6,
   "metadata": {
    "scrolled": true
   },
   "outputs": [
    {
     "name": "stdout",
     "output_type": "stream",
     "text": [
      "no nizhneyansk data is available\n",
      "Name: Koppa ID: 1266155\n",
      "Name: Upernavik ID: 3418910\n",
      "Name: Dikson ID: 1507390\n",
      "Name: Port Moresby ID: 2088122\n",
      "Name: Lichinga ID: 1043893\n",
      "Name: Albany ID: 5106841\n",
      "Name: Arraial do Cabo ID: 3471451\n",
      "Name: Sault Ste. Marie ID: 6141439\n",
      "Name: Acapulco de Juárez ID: 3533462\n",
      "Name: Punta Arenas ID: 3874787\n",
      "Name: Rūdsar ID: 118191\n",
      "Name: Bāli Chak ID: 1277581\n",
      "no lolua data is available\n",
      "Name: West Point ID: 4450753\n",
      "Name: George Town ID: 1735106\n",
      "Name: Atuona ID: 4020109\n",
      "Name: Strathpeffer ID: 2651245\n",
      "Name: Barrow ID: 5880054\n",
      "Name: Batemans Bay ID: 2176639\n",
      "Name: Busselton ID: 2075265\n",
      "Name: Rikitea ID: 4030556\n",
      "Name: Castro ID: 3466704\n",
      "Name: Vaini ID: 4032243\n",
      "Name: Mae Sai ID: 1152194\n",
      "Name: Bredasdorp ID: 1015776\n",
      "Name: Nanortalik ID: 3421765\n",
      "Name: Binzhou ID: 1816336\n",
      "no rawannawi data is available\n",
      "Name: Waldoboro ID: 4982044\n",
      "Name: Medvezh'yegorsk ID: 527888\n",
      "Name: Atherton ID: 2656847\n",
      "Name: Shingū ID: 1847947\n",
      "Name: Bluff ID: 2206939\n",
      "Name: Hermanus ID: 3366880\n",
      "Name: Cidreira ID: 3466165\n",
      "no saleaula data is available\n",
      "Name: Tuatapere ID: 2180815\n",
      "Name: Chokurdakh ID: 2126123\n",
      "Name: Torbay ID: 6167817\n",
      "Name: Along ID: 1278969\n",
      "Name: Nanpiao ID: 2035644\n",
      "Name: Ţahţā ID: 347634\n",
      "Name: Diffa ID: 2445704\n",
      "Name: Tessalit ID: 2449893\n",
      "Name: Fortuna ID: 5563839\n",
      "Name: Muros ID: 3115824\n",
      "Name: Lüderitz ID: 3355672\n",
      "Name: Ushuaia ID: 3833367\n",
      "Name: Hat Yai ID: 1610780\n",
      "Name: Souillac ID: 933995\n",
      "Name: Abaza ID: 1512205\n",
      "Name: Avarua ID: 4035715\n",
      "Name: Ponta do Sol ID: 2264557\n",
      "Name: Oddur ID: 49747\n",
      "Name: Muroto-misakicho ID: 1856392\n",
      "Name: Jacareacanga ID: 3397763\n",
      "Name: Preobrazheniye ID: 2017658\n",
      "Name: Yellowknife ID: 6185377\n",
      "no mys shmidta data is available\n",
      "Name: Port Keats ID: 2063039\n",
      "Name: Linjiang ID: 2036069\n",
      "Name: Balabac ID: 1728675\n",
      "Name: Port Alfred ID: 964432\n",
      "Name: Khatanga ID: 2022572\n",
      "Name: Yar-Sale ID: 1486321\n",
      "Name: Price ID: 5545269\n",
      "Name: New Norfolk ID: 2155415\n",
      "Name: Jamestown ID: 5122534\n",
      "Name: Round Rock ID: 4724129\n",
      "Name: Shimoda ID: 1852357\n",
      "Name: Poum ID: 2138555\n",
      "Name: East London ID: 1006984\n",
      "Name: Bambous Virieux ID: 1106677\n",
      "Name: Huilong ID: 1806840\n",
      "Name: Tuktoyaktuk ID: 6170031\n",
      "Name: Ust-Kuyga ID: 2013921\n",
      "Name: Cape Town ID: 3369157\n",
      "no belushya guba data is available\n",
      "Name: Havre-St-Pierre ID: 5972291\n",
      "Name: Butaritari ID: 2110227\n",
      "Name: Puerto Ayora ID: 3652764\n",
      "Name: Mamlyutka ID: 1521153\n",
      "Name: Kapaa ID: 5848280\n",
      "Name: Necochea ID: 3430443\n",
      "Name: Coquimbo ID: 3893629\n",
      "Name: Horodnye ID: 708330\n",
      "Name: Mataura ID: 6201424\n",
      "no attawapiskat data is available\n",
      "Name: Vila Franca do Campo ID: 3372472\n",
      "Name: Sola ID: 2134814\n",
      "Name: Olinda ID: 3393536\n",
      "Name: Muttupet ID: 1262346\n",
      "Name: Tynda ID: 2014718\n",
      "Name: Atambua ID: 1651103\n",
      "Name: Thompson ID: 6165406\n",
      "Name: Camacha ID: 2270385\n",
      "Name: Marawi ID: 1701054\n",
      "no cape elizabeth data is available\n",
      "Name: Antalaha ID: 1071296\n",
      "Name: Walvis Bay ID: 3359638\n",
      "Name: Riyadh ID: 108410\n",
      "Name: Athabasca ID: 5887916\n",
      "Name: Mendi ID: 2090990\n",
      "Name: Cabo San Lucas ID: 3985710\n",
      "Name: Vaskút ID: 3043048\n",
      "Name: Stornoway ID: 2636790\n",
      "no amderma data is available\n",
      "Name: Mount Isa ID: 2065594\n",
      "Name: Verkhovazh'ye ID: 474354\n",
      "no barentsburg data is available\n",
      "Name: Airai ID: 1651810\n",
      "Name: Khani ID: 610864\n",
      "Name: Batavia ID: 4884192\n",
      "Name: Pacific Grove ID: 5380437\n",
      "Name: Bagdarin ID: 2027244\n",
      "Name: Saint-Philippe ID: 935215\n",
      "Name: Hong Kong ID: 1819729\n",
      "Name: Bitung ID: 1648636\n",
      "Name: Caruray ID: 1718234\n",
      "Name: Peniche ID: 2264923\n",
      "Name: Pangnirtung ID: 6096551\n",
      "Name: Quang Ngai ID: 1568770\n",
      "Name: Tasiilaq ID: 3424607\n",
      "Name: Ningyang ID: 1799348\n",
      "Name: Alugan ID: 1731248\n",
      "Name: Faya ID: 110690\n",
      "Name: Sørland ID: 3137469\n",
      "Name: Hilo ID: 5855927\n",
      "Name: Ahipara ID: 2194098\n",
      "Name: Hobart ID: 2163355\n",
      "Name: Colares ID: 2269142\n",
      "Name: Codrington ID: 2171099\n",
      "no umzimvubu data is available\n",
      "Name: Mount Gambier ID: 2156643\n",
      "Name: Fukuechō ID: 1863997\n",
      "Name: Assiut ID: 359783\n",
      "Name: Makakilo City ID: 5850554\n",
      "Name: Pundaguitan ID: 1698289\n",
      "Name: Half Moon Bay ID: 5354943\n",
      "Name: Sayyan ID: 70979\n",
      "Name: Kaitangata ID: 2208248\n",
      "Name: Okha ID: 2122614\n",
      "no taolanaro data is available\n",
      "Name: General Pico ID: 3855075\n",
      "no daxian data is available\n",
      "Name: Bykov ID: 2126359\n",
      "Name: Quatre Cocos ID: 1106643\n",
      "Name: Samaná ID: 3492997\n",
      "Name: Seoul ID: 1835848\n",
      "Name: Port Lincoln ID: 2063036\n",
      "Name: Carnarvon ID: 2074865\n",
      "Name: Hofn ID: 2630299\n",
      "Name: Padang ID: 1633419\n",
      "Name: Walker ID: 4739690\n",
      "Name: Matagami ID: 6067747\n",
      "Name: Carauari ID: 3664659\n",
      "Name: Mana ID: 3381041\n",
      "Name: Qaanaaq ID: 3831208\n",
      "no vaitupu data is available\n",
      "Name: Katete ID: 227592\n",
      "Name: Hamilton ID: 4513583\n",
      "Name: Araouane ID: 2460954\n",
      "Name: Sibolga ID: 1213855\n",
      "Name: Maceió ID: 3395981\n",
      "Name: Naze ID: 1855540\n",
      "Name: Mbigou ID: 2398929\n",
      "Name: Itarema ID: 3393692\n",
      "Name: Banes ID: 3567869\n",
      "Name: Saint Paul Harbor ID: 5866583\n",
      "no formoso do araguaia data is available\n",
      "Name: Clarence Town ID: 2171465\n",
      "Name: Adré ID: 245669\n",
      "Name: São José de Ribamar ID: 3388441\n",
      "Name: Vao ID: 2137773\n",
      "Name: Korla ID: 1529376\n",
      "Name: Tsnori ID: 611373\n",
      "Name: Margate ID: 2643044\n",
      "no illoqqortoormiut data is available\n",
      "Name: Longyearbyen ID: 2729907\n",
      "Name: Shakiso ID: 328716\n",
      "Name: Mandlā ID: 1263852\n",
      "Name: Ossora ID: 2122389\n",
      "Name: Valdosta ID: 4228147\n",
      "Name: Zhaoqing ID: 1784853\n",
      "Name: Kahului ID: 5847411\n",
      "Name: Tautira ID: 4033557\n",
      "Name: Balikpapan ID: 1650527\n",
      "Name: Meulaboh ID: 1214488\n",
      "Name: Ribeira Grande ID: 3372707\n",
      "Name: Umm Kaddadah ID: 364933\n",
      "Name: Santa Isabel Rio Negro ID: 3662489\n",
      "Name: Sitka ID: 5557293\n",
      "Name: Lamu ID: 189741\n",
      "Name: Nelson Bay ID: 2155562\n",
      "Name: Inhambane ID: 1045114\n",
      "Name: Faanui ID: 4034551\n",
      "Name: Kyenjojo ID: 230299\n",
      "Name: Eldorado ID: 3464343\n",
      "Name: Haisyn ID: 708901\n",
      "Name: Bethel ID: 5282297\n",
      "Name: Camopi ID: 3382226\n",
      "no karaul data is available\n",
      "Name: Tazovsky ID: 1489853\n",
      "Name: Ilulissat ID: 3423146\n",
      "Name: Flin Flon ID: 5954718\n",
      "Name: Talakan ID: 2015686\n",
      "Name: Pisco ID: 3932145\n",
      "Name: Khovd ID: 1516048\n",
      "Name: Yulara ID: 6355222\n",
      "Name: Pahrump ID: 5509851\n",
      "Name: Sisimiut ID: 3419842\n",
      "Name: Chui ID: 3443061\n",
      "Name: Castelo Branco ID: 2269514\n",
      "Name: Japura ID: 1642773\n",
      "Name: Sulingen ID: 2824902\n",
      "Name: Dingle ID: 1714733\n",
      "no marcona data is available\n",
      "Name: Bodden Town ID: 3580733\n",
      "Name: Mahébourg ID: 934322\n",
      "Name: Varkala ID: 1253392\n",
      "Name: Huarmey ID: 3939168\n",
      "Name: Usinsk ID: 863061\n",
      "Name: Middleton ID: 2642593\n",
      "Name: Kiryat Gat ID: 293842\n",
      "Name: Kerman ID: 128234\n",
      "Name: Hithadhoo ID: 1282256\n",
      "Name: Payo ID: 1638775\n",
      "Name: Iqaluit ID: 5983720\n",
      "Name: Klaksvík ID: 2618795\n",
      "no mendahara data is available\n",
      "Name: Muravlenko ID: 1540711\n",
      "Name: Isangel ID: 2136825\n",
      "Name: Taltal ID: 3870243\n",
      "Name: Craig ID: 5576064\n",
      "Name: Rochegda ID: 501847\n",
      "Name: Luanda ID: 2240449\n",
      "Name: College ID: 5859699\n",
      "Name: Lebu ID: 3883457\n",
      "Name: Sturgis ID: 5011428\n",
      "Name: Galle ID: 1246294\n",
      "Name: São Filipe ID: 3374210\n",
      "Name: Xining ID: 1788852\n",
      "Name: Mildura ID: 2157698\n",
      "Name: Kāman ID: 1268266\n",
      "Name: Lahaina ID: 5849996\n",
      "Name: Kasongo-Lunda ID: 2315026\n",
      "Name: Bathsheba ID: 3374083\n",
      "Name: Cherskiy ID: 2126199\n",
      "Name: San Carlos del Zulia ID: 3628489\n",
      "Name: Kota Bharu ID: 1736376\n",
      "Name: Forsytheganj ID: 10722858\n",
      "Name: Ancud ID: 3899695\n",
      "Name: Narón ID: 3115739\n",
      "Name: Chadan ID: 1508501\n",
      "Name: Hīt ID: 95788\n",
      "Name: Tiksi ID: 2015306\n",
      "Name: Lata ID: 2738381\n",
      "Name: Kirakira ID: 2178753\n",
      "Name: Malartic ID: 6064704\n",
      "Name: Aswān ID: 359792\n",
      "Name: Tamiahua ID: 3516376\n",
      "Name: Kavieng ID: 2094342\n",
      "Name: Samarai ID: 2132606\n",
      "Name: Mâncio Lima ID: 3663516\n",
      "Name: Husavik ID: 2629833\n",
      "no sofiysk data is available\n",
      "Name: Albenga ID: 6539671\n",
      "Name: Vilhena ID: 3924679\n",
      "Name: Ariquemes ID: 3665199\n",
      "Name: Gimli ID: 5961417\n",
      "Name: Aleksandrovsk-Sakhalinskiy ID: 2127282\n",
      "Name: Linxia Chengguanzhen ID: 1803331\n",
      "Name: Cacahuatepec ID: 3531263\n",
      "Name: Almuñécar ID: 2521847\n",
      "Name: Saint George ID: 5546220\n",
      "Name: Aurangabad ID: 1278149\n",
      "Name: Topchānchi ID: 1254231\n",
      "Name: Finnsnes ID: 3157549\n",
      "Name: Geraldton ID: 2070998\n",
      "Name: Vila Velha ID: 3445026\n",
      "Name: Katsuura ID: 2112309\n",
      "no jiddah data is available\n",
      "Name: Noumea ID: 2139521\n",
      "Name: Yinzhu ID: 1792087\n",
      "Name: Ahmadpur East ID: 1184845\n",
      "Name: Sobolevo ID: 525426\n",
      "Name: Lompoc ID: 5367788\n",
      "Name: Barra Patuca ID: 3614835\n",
      "Name: Biak ID: 1637001\n",
      "Name: Sabang ID: 1214026\n",
      "Name: Lavrentiya ID: 4031637\n",
      "Name: Marsh Harbour ID: 3571913\n",
      "Name: Nueve de Julio ID: 3842881\n",
      "Name: Khabary ID: 1503856\n",
      "Name: Peace River ID: 6100069\n",
      "Name: Tura ID: 1254046\n",
      "Name: Cascas ID: 3698705\n"
     ]
    },
    {
     "name": "stdout",
     "output_type": "stream",
     "text": [
      "Name: Marsá Maţrūḩ ID: 352733\n",
      "Name: Gallup ID: 5468773\n",
      "no qingan data is available\n",
      "Name: Vestmannaeyjar ID: 3412093\n",
      "Name: Obo ID: 236950\n",
      "Name: Gamba ID: 2400547\n",
      "Name: Alexandria ID: 361058\n",
      "Name: Shagonar ID: 1492499\n",
      "Name: Nizwá ID: 286987\n",
      "Name: Moussoro ID: 2427336\n",
      "Name: Mora ID: 2225991\n",
      "Name: Karonga ID: 235715\n",
      "Name: Musoma ID: 152451\n",
      "Name: Nikolskoye ID: 546105\n",
      "Name: Kwinana ID: 2068079\n",
      "Name: Keuruu ID: 652977\n",
      "Name: Kieta ID: 2094027\n",
      "Name: Bilma ID: 2446796\n",
      "Name: Hazorasp ID: 1513957\n",
      "Name: Vardø ID: 777019\n",
      "Name: Oussouye ID: 2246901\n",
      "Name: Bubaque ID: 2374583\n",
      "no bolungarvik data is available\n",
      "Name: Lyskovo ID: 532715\n",
      "Name: Yayva ID: 468560\n",
      "Name: Santa Rosa ID: 1687894\n",
      "Name: Guerrero Negro ID: 4021858\n",
      "Name: Santa Cruz de la Sierra ID: 3904906\n",
      "Name: Hambantota ID: 1244926\n",
      "Name: Dakar ID: 2253354\n",
      "Name: Santa Vitória do Palmar ID: 3449747\n",
      "Name: Bulungu ID: 2316259\n",
      "Name: Chidambaram ID: 1274256\n",
      "no tsihombe data is available\n",
      "no samusu data is available\n",
      "Name: Korčula ID: 3197710\n",
      "Name: Cedar City ID: 5536630\n",
      "Name: Westport ID: 4845585\n",
      "Name: Mataram ID: 1635882\n",
      "Name: Los Llanos de Aridane ID: 2514651\n",
      "Name: Flinders ID: 6255012\n",
      "Name: Moose Factory ID: 6078372\n",
      "Name: Calvinia ID: 3369174\n",
      "Name: Marzuq ID: 72181\n",
      "Name: Ubon Ratchathani ID: 1906688\n",
      "Name: Sterling ID: 4787534\n",
      "Name: Kapoeta ID: 372884\n",
      "no yunjinghong data is available\n",
      "Name: Farkhor ID: 1220826\n",
      "Name: Mossamedes ID: 3347019\n",
      "Name: Alofi ID: 4036284\n",
      "Name: Te Anau ID: 2181625\n",
      "no tarudant data is available\n",
      "Name: Berdigestyakh ID: 2026861\n",
      "Name: Nome ID: 5870133\n",
      "Name: Sechura ID: 3691954\n",
      "Name: Joshīmath ID: 1268814\n",
      "Name: Port Blair ID: 1259385\n",
      "Name: Atar ID: 2381334\n",
      "Name: Kharhiāl ID: 1266924\n",
      "no halalo data is available\n",
      "Name: Kyela ID: 156111\n",
      "Name: Burnie ID: 2173125\n",
      "Name: La Llanada ID: 3678575\n",
      "Name: Lola ID: 2418092\n",
      "Name: Kavaratti ID: 1267390\n",
      "Name: Makīnsk ID: 1521230\n",
      "Name: Santa Maria ID: 3450083\n",
      "Name: Millerovo ID: 526558\n",
      "Name: Port-Cartier ID: 6111696\n",
      "Name: Tsiroanomandidy ID: 1054463\n",
      "Name: Novy Urengoy ID: 1496511\n",
      "no tuggurt data is available\n",
      "Name: Fairbanks ID: 5861897\n",
      "Name: Ingham ID: 4997130\n",
      "Name: Porto Walter ID: 3662761\n",
      "Name: The Valley ID: 3573374\n",
      "Name: Konya Province ID: 306569\n",
      "Name: Raahe ID: 640276\n",
      "Name: Manisa Province ID: 304825\n",
      "no marv dasht data is available\n",
      "Name: Healdsburg ID: 5356012\n",
      "Name: Mayo ID: 4362001\n",
      "Name: The Pas ID: 6164499\n",
      "Name: Brae ID: 2654970\n",
      "Name: Churapcha ID: 2025241\n",
      "Name: Elko ID: 5703673\n",
      "Name: Chara ID: 2025630\n",
      "Name: Shirokiy ID: 2016680\n",
      "Name: Kovylkino ID: 543436\n",
      "Name: Mathbaria ID: 1185239\n",
      "Name: Salinópolis ID: 3389822\n",
      "Name: Baghdad ID: 98182\n",
      "Name: Port Hardy ID: 6111862\n",
      "Name: Pacifica ID: 5380420\n",
      "Name: Tamandaré ID: 3386931\n",
      "Name: Grand Gaube ID: 934479\n",
      "Name: Alta Floresta ID: 6316343\n",
      "Name: Opuwo ID: 3354077\n",
      "no tumannyy data is available\n",
      "Name: Bengkulu ID: 1649150\n",
      "Name: Manzhouli ID: 2035836\n",
      "Name: Charagua ID: 3921141\n",
      "Name: Inuvik ID: 5983607\n",
      "Name: Mar del Plata ID: 3430863\n",
      "Name: Zhangye ID: 1785036\n",
      "Name: Antofagasta ID: 3899539\n",
      "Name: Hūn ID: 2216645\n",
      "Name: Ciudad Bolivar ID: 3645532\n",
      "Name: Saskylakh ID: 2017155\n",
      "Name: Kuching ID: 1735634\n",
      "Name: Daru ID: 2098329\n",
      "Name: Port Elizabeth ID: 964420\n",
      "Name: Akom ID: 2224162\n",
      "Name: Rosarito ID: 3988392\n",
      "Name: Uvalde ID: 4738723\n",
      "Name: Batagay-Alyta ID: 2027042\n",
      "Name: Sinazongwe ID: 897456\n",
      "Name: Baruun-Urt ID: 2032614\n",
      "Name: Coyhaique ID: 3894426\n",
      "Name: Umluj ID: 100926\n",
      "Name: Salinas ID: 5391295\n",
      "Name: Whitehorse ID: 6180550\n",
      "no sentyabrskiy data is available\n",
      "Name: Gayéri ID: 2360541\n",
      "Name: Kumul ID: 1529484\n",
      "Name: Klyuchi ID: 1503153\n",
      "Name: Katherine ID: 2068655\n",
      "Name: Luangwa ID: 909887\n",
      "Name: Esim ID: 2303611\n",
      "Name: Wewak ID: 2083537\n",
      "Name: Kruisfontein ID: 986717\n",
      "Name: Auki ID: 2109701\n",
      "Name: Mabai ID: 1818004\n",
      "Name: Tomatlán ID: 3981391\n",
      "no grand river south east data is available\n",
      "Name: Moranbah ID: 6533368\n",
      "Name: Bud ID: 4255151\n",
      "Name: Leningradskiy ID: 2123814\n",
      "no barbar data is available\n",
      "Name: Biloela ID: 2175819\n",
      "Name: Rawson ID: 3839307\n",
      "Name: Severo-Kuril'sk ID: 2121385\n",
      "Name: Mareeba ID: 2158767\n",
      "Name: Hauterive ID: 3013748\n",
      "Name: Sisian ID: 174972\n",
      "Name: Savonlinna ID: 637292\n",
      "no meyungs data is available\n",
      "Name: San Juan del Sur ID: 3616726\n",
      "no chagda data is available\n",
      "Name: Kalmunai ID: 1242110\n",
      "Name: Norman Wells ID: 6089245\n",
      "Name: Maragogi ID: 3395458\n",
      "Name: Kjøllefjord ID: 779261\n",
      "Name: Selenginsk ID: 2017059\n",
      "Name: Dudinka ID: 1507116\n",
      "Name: Koltubanovskiy ID: 546060\n",
      "Name: Lasem ID: 1638352\n",
      "Name: Prachuap Khiri Khan ID: 1151073\n",
      "Name: Russell ID: 4047434\n",
      "Name: Sergiyevsk ID: 486626\n",
      "Name: Aksarka ID: 1512019\n",
      "Name: Ushtobe ID: 1517637\n",
      "Name: Aromashevo ID: 1511381\n",
      "Name: La Romana ID: 3500957\n",
      "Name: San Jose ID: 5392171\n",
      "Name: Semnan ID: 116402\n",
      "Name: Ballina ID: 2177069\n",
      "Name: Ploemeur ID: 2986732\n",
      "Name: Gillette ID: 5826027\n",
      "Name: Vanimo ID: 2084442\n",
      "Name: Borzya ID: 2026126\n",
      "Name: Joaquim Gomes ID: 3399571\n",
      "Name: Bandarbeyla ID: 64814\n",
      "Name: Bratslav ID: 711459\n",
      "Name: Nishihara ID: 1855342\n",
      "Name: Djibouti ID: 223816\n",
      "Name: Shimanovsk ID: 2016701\n",
      "Name: Chornobay ID: 710716\n",
      "Name: Amahai ID: 1651591\n",
      "Name: Tezu ID: 1254709\n",
      "Name: Āsosa ID: 343292\n",
      "Name: Lima ID: 3936456\n",
      "no cuilapam data is available\n",
      "Name: Richards Bay ID: 962367\n",
      "Name: Raja ID: 368246\n",
      "Name: Bansang ID: 2413866\n",
      "Name: Lalibela ID: 332288\n",
      "Name: Shāhpura ID: 1256705\n",
      "Name: São João da Barra ID: 3448903\n",
      "Name: Parintins ID: 3393008\n",
      "Name: Gushikawa ID: 1863495\n",
      "Name: Aykhal ID: 2027296\n",
      "Name: Calabozo ID: 3647444\n",
      "Name: Aripuanã ID: 3665202\n",
      "Name: Datong ID: 2037799\n",
      "Name: Shelburne ID: 6145890\n",
      "Name: Hanyang ID: 1798537\n",
      "Name: Excelsior Springs ID: 4385966\n",
      "Name: Bulancak ID: 750317\n",
      "Name: Palmer ID: 4946620\n",
      "Name: Soyo ID: 2236967\n",
      "Name: Potam ID: 3992154\n",
      "Name: Grand Island ID: 5069297\n",
      "Name: Chambersburg ID: 4557109\n",
      "Name: Liverpool ID: 2644210\n",
      "Name: Neiafu ID: 4032420\n",
      "Name: Kamariótissa ID: 736017\n",
      "Name: Lázaro Cárdenas ID: 4026082\n",
      "Name: Ostrovnoy ID: 556268\n",
      "Name: Brest ID: 629634\n",
      "Name: Kodinsk ID: 1503037\n",
      "Name: Shangrao ID: 1787858\n",
      "Name: Canutama ID: 3664716\n",
      "Name: Hasaki ID: 2112802\n",
      "Name: Bartica ID: 3379507\n",
      "Name: San Miguel de Tucumán ID: 3836873\n",
      "Name: Toro ID: 3666881\n",
      "Name: Najrān ID: 103630\n",
      "Name: Xinqing ID: 2033667\n",
      "Name: Kesinga ID: 1267222\n",
      "Name: Pouembout ID: 2138592\n",
      "Name: Sorong ID: 1626542\n",
      "Name: Beloha ID: 1067565\n",
      "Name: Slave Lake ID: 6149374\n",
      "no zachagansk data is available\n",
      "Name: Berlevåg ID: 780687\n",
      "Name: Zapolyarnyy ID: 464790\n",
      "no samalaeulu data is available\n",
      "Name: Scottsbluff ID: 5699404\n",
      "Name: Sumbe ID: 3346015\n",
      "Name: Valle de Allende ID: 3980627\n",
      "Name: Nuuk ID: 3421319\n",
      "Name: Kutum ID: 371745\n",
      "Name: Havøysund ID: 779622\n",
      "Name: Pueblo ID: 5435464\n",
      "Name: Charter Township of Clinton ID: 4989133\n",
      "Name: Aktash ID: 1511997\n",
      "no fevralsk data is available\n",
      "no phan rang data is available\n",
      "Name: Waverley ID: 941376\n",
      "Name: Hermiston ID: 5731070\n",
      "Name: Río Gallegos ID: 3838859\n",
      "Name: Provideniya ID: 4031574\n",
      "Name: Caravelas ID: 3466980\n",
      "Name: Novoseleznëvo ID: 1492827\n",
      "Name: Esperance ID: 2071860\n",
      "Name: Windhoek ID: 3352136\n",
      "Name: Bandi̇̄pur ID: 1283680\n",
      "Name: Fare ID: 4034496\n",
      "Name: Kargasok ID: 1504382\n",
      "Name: Arlit ID: 2447513\n",
      "Name: Saint-Félicien ID: 6138201\n",
      "Name: Dod Ballāpur ID: 1272473\n",
      "Name: Sept-Îles ID: 6144312\n",
      "Name: Fremont ID: 5350734\n",
      "Name: Pevek ID: 2122090\n",
      "Name: Sabha ID: 2212775\n",
      "Name: Gizo Government Station ID: 2108857\n",
      "Name: Moses Lake ID: 5803990\n",
      "Name: Longhua ID: 1802618\n",
      "Name: Yarmouth ID: 4956335\n",
      "Name: Boysun ID: 1217734\n",
      "Name: Praia da Vitória ID: 3372760\n",
      "Name: Dunedin ID: 2191562\n",
      "Name: Farafangana ID: 1065158\n",
      "Name: Santiago de Puringla ID: 3608715\n",
      "Name: Uruçuí ID: 3385658\n",
      "Name: Changji ID: 1529569\n",
      "Name: Hokitika ID: 2206894\n",
      "Name: Morón ID: 3430545\n",
      "Name: Cap Malheureux ID: 934649\n",
      "Name: Plátanos ID: 255030\n",
      "Name: Roald ID: 3141667\n",
      "Name: Ampanihy ID: 1078553\n",
      "Name: Mukhen ID: 2019718\n",
      "Name: Nouadhibou ID: 2377457\n",
      "Name: Clyde River ID: 5924351\n",
      "Name: Goma ID: 216281\n",
      "Name: Zahir Pir ID: 1162275\n",
      "Name: Mogadishu ID: 53654\n",
      "Name: Butembo ID: 217562\n",
      "Name: Matara ID: 1235846\n",
      "Name: Masty ID: 625367\n",
      "Name: Moshi ID: 153209\n",
      "Name: Novo Aripuanã ID: 3663142\n",
      "Name: Mountain Home ID: 5601615\n",
      "Name: Eyrarbakki ID: 3413604\n",
      "Name: Ferme-Neuve ID: 5952330\n",
      "Name: Ganzhou ID: 1810637\n",
      "Name: Derzhavīnsk ID: 1524606\n",
      "Name: Kralendijk ID: 3513563\n",
      "Name: Mengcheng ID: 1800764\n",
      "Name: Honiara ID: 2108502\n",
      "Name: Las Palmas ID: 2515271\n",
      "Name: Lubango ID: 3347762\n"
     ]
    },
    {
     "name": "stdout",
     "output_type": "stream",
     "text": [
      "Name: Ciudad del Carmen ID: 3530599\n",
      "Name: Havelock ID: 4470244\n",
      "Name: Mikhaylovka ID: 527012\n",
      "Name: Gangarampur ID: 1271670\n",
      "Name: Lorengau ID: 2092164\n",
      "Name: Chegdomyn ID: 2025579\n",
      "Name: Hurghada ID: 361291\n",
      "Name: Falun ID: 2715459\n",
      "Name: Goderich ID: 5962442\n",
      "Name: Srednekolymsk ID: 2121025\n",
      "Name: Saint-Michel-des-Saints ID: 6138802\n",
      "Name: Saldanha ID: 3361934\n",
      "Name: Koumac ID: 2140558\n",
      "Name: Touros ID: 3386213\n",
      "Name: Corn Island ID: 3620266\n",
      "Name: Meadow Lake ID: 5478673\n",
      "Name: Bourail ID: 2141714\n",
      "Name: Kāgal ID: 1268651\n",
      "Name: Sergeevka ID: 1519385\n",
      "Name: Henties Bay ID: 3356832\n",
      "Name: Corinth ID: 259289\n",
      "Name: Newport ID: 2641598\n",
      "Name: Uyuni ID: 3901903\n",
      "Name: Safi ID: 2537881\n",
      "Name: Cairns ID: 2172797\n",
      "Name: Kudahuvadhoo ID: 1337607\n",
      "Name: Aného ID: 2367990\n",
      "Name: Comodoro Rivadavia ID: 3860443\n",
      "Name: Wāngjing ID: 1252964\n",
      "Name: Socorro ID: 5530932\n",
      "Name: Mandalgovi ID: 2030065\n",
      "Name: Port-Gentil ID: 2396518\n"
     ]
    }
   ],
   "source": [
    "#set up variables to be needed later\n",
    "url = \"http://api.openweathermap.org/data/2.5/weather?q=\"\n",
    "url\n",
    "#print(requests.get(url))\n",
    "units = \"imperial\"\n",
    "city_no = []\n",
    "temp = []\n",
    "lat = []\n",
    "long = []\n",
    "humidity = []\n",
    "cloud = []\n",
    "wind = []\n",
    "country = []\n",
    "date_time = []\n",
    "weather_json = []\n",
    "weather_city = []\n",
    "city_check = []\n",
    "import time\n",
    "page=0\n",
    "\n",
    "\n",
    "#find all necessary data for each city in the cities list\n",
    "for city in cities:\n",
    "   \n",
    "    query_url = f\"{url}{city}&appid={weather_api_key}&units={units}\"\n",
    "    #print(query_url)\n",
    "    weather_response = requests.get(query_url).json()\n",
    "    #handle exceptions/errors\n",
    "    try:\n",
    "        weather_response[\"weather\"]\n",
    "    except KeyError:\n",
    "        print(f'no {city} data is available')\n",
    "        continue\n",
    "    #append lists with new data\n",
    "    lat.append(weather_response['coord']['lat'])\n",
    "    long.append(weather_response['coord']['lon'])\n",
    "    temp.append(weather_response['main']['temp'])\n",
    "    humidity.append(weather_response['main']['humidity'])\n",
    "    cloud.append(weather_response['clouds']['all'])\n",
    "    wind.append(weather_response['wind']['speed'])\n",
    "    country.append(weather_response['sys']['country'])\n",
    "    date_time.append(weather_response['dt'])\n",
    "    weather_city.append(city)\n",
    "\n",
    "    print(f'Name: {weather_response[\"name\"]} ID: {weather_response[\"id\"]}')\n",
    "        "
   ]
  },
  {
   "cell_type": "code",
   "execution_count": 7,
   "metadata": {},
   "outputs": [],
   "source": [
    "#create dictionary to use for later tasks\n",
    "weather_dict = {\n",
    "    \"city\": weather_city,\n",
    "    \"lat\": lat,\n",
    "    \"long\": long,\n",
    "    \"temp\": temp,\n",
    "    \"humidity\": humidity,\n",
    "    \"cloud\": cloud,\n",
    "    \"wind\": wind,\n",
    "    \"country\":country,\n",
    "    \"date and time\":date_time\n",
    "}\n",
    "\n"
   ]
  },
  {
   "cell_type": "code",
   "execution_count": 8,
   "metadata": {},
   "outputs": [
    {
     "name": "stdout",
     "output_type": "stream",
     "text": [
      "585\n",
      "585\n",
      "585\n",
      "585\n",
      "585\n",
      "585\n"
     ]
    }
   ],
   "source": [
    "#check lengths of each dictionary\n",
    "print(len(weather_city))\n",
    "print(len(lat))\n",
    "print(len(temp))\n",
    "print(len(humidity))\n",
    "print(len(cloud))\n",
    "print(len(wind))"
   ]
  },
  {
   "cell_type": "markdown",
   "metadata": {},
   "source": [
    "### Convert Raw Data to DataFrame\n",
    "* Export the city data into a .csv.\n",
    "* Display the DataFrame"
   ]
  },
  {
   "cell_type": "code",
   "execution_count": 9,
   "metadata": {},
   "outputs": [
    {
     "data": {
      "text/html": [
       "<div>\n",
       "<style scoped>\n",
       "    .dataframe tbody tr th:only-of-type {\n",
       "        vertical-align: middle;\n",
       "    }\n",
       "\n",
       "    .dataframe tbody tr th {\n",
       "        vertical-align: top;\n",
       "    }\n",
       "\n",
       "    .dataframe thead th {\n",
       "        text-align: right;\n",
       "    }\n",
       "</style>\n",
       "<table border=\"1\" class=\"dataframe\">\n",
       "  <thead>\n",
       "    <tr style=\"text-align: right;\">\n",
       "      <th></th>\n",
       "      <th>city</th>\n",
       "      <th>lat</th>\n",
       "      <th>long</th>\n",
       "      <th>temp</th>\n",
       "      <th>humidity</th>\n",
       "      <th>cloud</th>\n",
       "      <th>wind</th>\n",
       "      <th>country</th>\n",
       "      <th>date and time</th>\n",
       "    </tr>\n",
       "  </thead>\n",
       "  <tbody>\n",
       "    <tr>\n",
       "      <th>0</th>\n",
       "      <td>koppa</td>\n",
       "      <td>13.5304</td>\n",
       "      <td>75.3633</td>\n",
       "      <td>66.36</td>\n",
       "      <td>70</td>\n",
       "      <td>0</td>\n",
       "      <td>1.77</td>\n",
       "      <td>IN</td>\n",
       "      <td>1615145247</td>\n",
       "    </tr>\n",
       "    <tr>\n",
       "      <th>1</th>\n",
       "      <td>upernavik</td>\n",
       "      <td>72.7868</td>\n",
       "      <td>-56.1549</td>\n",
       "      <td>-17.39</td>\n",
       "      <td>83</td>\n",
       "      <td>0</td>\n",
       "      <td>12.57</td>\n",
       "      <td>GL</td>\n",
       "      <td>1615145247</td>\n",
       "    </tr>\n",
       "    <tr>\n",
       "      <th>2</th>\n",
       "      <td>dikson</td>\n",
       "      <td>73.5069</td>\n",
       "      <td>80.5464</td>\n",
       "      <td>-16.33</td>\n",
       "      <td>88</td>\n",
       "      <td>100</td>\n",
       "      <td>10.36</td>\n",
       "      <td>RU</td>\n",
       "      <td>1615145247</td>\n",
       "    </tr>\n",
       "    <tr>\n",
       "      <th>3</th>\n",
       "      <td>port moresby</td>\n",
       "      <td>-9.4431</td>\n",
       "      <td>147.1797</td>\n",
       "      <td>73.40</td>\n",
       "      <td>100</td>\n",
       "      <td>20</td>\n",
       "      <td>5.75</td>\n",
       "      <td>PG</td>\n",
       "      <td>1615145247</td>\n",
       "    </tr>\n",
       "    <tr>\n",
       "      <th>4</th>\n",
       "      <td>lichinga</td>\n",
       "      <td>-13.3128</td>\n",
       "      <td>35.2406</td>\n",
       "      <td>65.19</td>\n",
       "      <td>100</td>\n",
       "      <td>90</td>\n",
       "      <td>11.50</td>\n",
       "      <td>MZ</td>\n",
       "      <td>1615145215</td>\n",
       "    </tr>\n",
       "    <tr>\n",
       "      <th>...</th>\n",
       "      <td>...</td>\n",
       "      <td>...</td>\n",
       "      <td>...</td>\n",
       "      <td>...</td>\n",
       "      <td>...</td>\n",
       "      <td>...</td>\n",
       "      <td>...</td>\n",
       "      <td>...</td>\n",
       "      <td>...</td>\n",
       "    </tr>\n",
       "    <tr>\n",
       "      <th>580</th>\n",
       "      <td>comodoro rivadavia</td>\n",
       "      <td>-45.8667</td>\n",
       "      <td>-67.5000</td>\n",
       "      <td>73.40</td>\n",
       "      <td>43</td>\n",
       "      <td>40</td>\n",
       "      <td>36.82</td>\n",
       "      <td>AR</td>\n",
       "      <td>1615145239</td>\n",
       "    </tr>\n",
       "    <tr>\n",
       "      <th>581</th>\n",
       "      <td>wangjing</td>\n",
       "      <td>24.6000</td>\n",
       "      <td>94.0333</td>\n",
       "      <td>54.84</td>\n",
       "      <td>66</td>\n",
       "      <td>13</td>\n",
       "      <td>0.81</td>\n",
       "      <td>IN</td>\n",
       "      <td>1615145382</td>\n",
       "    </tr>\n",
       "    <tr>\n",
       "      <th>582</th>\n",
       "      <td>socorro</td>\n",
       "      <td>31.6546</td>\n",
       "      <td>-106.3033</td>\n",
       "      <td>64.36</td>\n",
       "      <td>27</td>\n",
       "      <td>20</td>\n",
       "      <td>5.75</td>\n",
       "      <td>US</td>\n",
       "      <td>1615145382</td>\n",
       "    </tr>\n",
       "    <tr>\n",
       "      <th>583</th>\n",
       "      <td>mandalgovi</td>\n",
       "      <td>45.7625</td>\n",
       "      <td>106.2708</td>\n",
       "      <td>28.22</td>\n",
       "      <td>79</td>\n",
       "      <td>0</td>\n",
       "      <td>5.86</td>\n",
       "      <td>MN</td>\n",
       "      <td>1615145383</td>\n",
       "    </tr>\n",
       "    <tr>\n",
       "      <th>584</th>\n",
       "      <td>port-gentil</td>\n",
       "      <td>-0.7193</td>\n",
       "      <td>8.7815</td>\n",
       "      <td>82.40</td>\n",
       "      <td>78</td>\n",
       "      <td>20</td>\n",
       "      <td>4.61</td>\n",
       "      <td>GA</td>\n",
       "      <td>1615145383</td>\n",
       "    </tr>\n",
       "  </tbody>\n",
       "</table>\n",
       "<p>585 rows × 9 columns</p>\n",
       "</div>"
      ],
      "text/plain": [
       "                   city      lat      long   temp  humidity  cloud   wind  \\\n",
       "0                 koppa  13.5304   75.3633  66.36        70      0   1.77   \n",
       "1             upernavik  72.7868  -56.1549 -17.39        83      0  12.57   \n",
       "2                dikson  73.5069   80.5464 -16.33        88    100  10.36   \n",
       "3          port moresby  -9.4431  147.1797  73.40       100     20   5.75   \n",
       "4              lichinga -13.3128   35.2406  65.19       100     90  11.50   \n",
       "..                  ...      ...       ...    ...       ...    ...    ...   \n",
       "580  comodoro rivadavia -45.8667  -67.5000  73.40        43     40  36.82   \n",
       "581            wangjing  24.6000   94.0333  54.84        66     13   0.81   \n",
       "582             socorro  31.6546 -106.3033  64.36        27     20   5.75   \n",
       "583          mandalgovi  45.7625  106.2708  28.22        79      0   5.86   \n",
       "584         port-gentil  -0.7193    8.7815  82.40        78     20   4.61   \n",
       "\n",
       "    country  date and time  \n",
       "0        IN     1615145247  \n",
       "1        GL     1615145247  \n",
       "2        RU     1615145247  \n",
       "3        PG     1615145247  \n",
       "4        MZ     1615145215  \n",
       "..      ...            ...  \n",
       "580      AR     1615145239  \n",
       "581      IN     1615145382  \n",
       "582      US     1615145382  \n",
       "583      MN     1615145383  \n",
       "584      GA     1615145383  \n",
       "\n",
       "[585 rows x 9 columns]"
      ]
     },
     "execution_count": 9,
     "metadata": {},
     "output_type": "execute_result"
    }
   ],
   "source": [
    "weather_data_df = pd.DataFrame(data=weather_dict)\n",
    "\n",
    "weather_data_df.to_csv('output.csv', index=False)\n",
    "weather_data_df"
   ]
  },
  {
   "cell_type": "markdown",
   "metadata": {},
   "source": [
    "## Inspect the data and remove the cities where the humidity > 100%.\n",
    "----\n",
    "Skip this step if there are no cities that have humidity > 100%. "
   ]
  },
  {
   "cell_type": "code",
   "execution_count": 10,
   "metadata": {},
   "outputs": [
    {
     "data": {
      "text/html": [
       "<div>\n",
       "<style scoped>\n",
       "    .dataframe tbody tr th:only-of-type {\n",
       "        vertical-align: middle;\n",
       "    }\n",
       "\n",
       "    .dataframe tbody tr th {\n",
       "        vertical-align: top;\n",
       "    }\n",
       "\n",
       "    .dataframe thead th {\n",
       "        text-align: right;\n",
       "    }\n",
       "</style>\n",
       "<table border=\"1\" class=\"dataframe\">\n",
       "  <thead>\n",
       "    <tr style=\"text-align: right;\">\n",
       "      <th></th>\n",
       "      <th>city</th>\n",
       "      <th>lat</th>\n",
       "      <th>long</th>\n",
       "      <th>temp</th>\n",
       "      <th>humidity</th>\n",
       "      <th>cloud</th>\n",
       "      <th>wind</th>\n",
       "      <th>country</th>\n",
       "      <th>date and time</th>\n",
       "    </tr>\n",
       "  </thead>\n",
       "  <tbody>\n",
       "  </tbody>\n",
       "</table>\n",
       "</div>"
      ],
      "text/plain": [
       "Empty DataFrame\n",
       "Columns: [city, lat, long, temp, humidity, cloud, wind, country, date and time]\n",
       "Index: []"
      ]
     },
     "execution_count": 10,
     "metadata": {},
     "output_type": "execute_result"
    }
   ],
   "source": [
    "#look for cities that have humidity of more than 100%\n",
    "weather_data_df.loc[weather_data_df['humidity']>100]\n",
    "\n",
    "#originally looked at box and whisker plot to see data, then checked a different way\n",
    "#fig1, ax1 = plt.subplots()\n",
    "#ax1.set_title('City')\n",
    "#ax1.set_ylabel('Humidity')\n",
    "#ax1.boxplot(humidity)\n",
    "#plt.show()"
   ]
  },
  {
   "cell_type": "code",
   "execution_count": null,
   "metadata": {},
   "outputs": [],
   "source": [
    "# Make a new DataFrame equal to the city data to drop all humidity outliers by index.\n",
    "# Passing \"inplace=False\" will make a copy of the city_data DataFrame, which we call \"clean_city_data\".\n"
   ]
  },
  {
   "cell_type": "code",
   "execution_count": null,
   "metadata": {},
   "outputs": [],
   "source": [
    "\n"
   ]
  },
  {
   "cell_type": "markdown",
   "metadata": {},
   "source": [
    "## Plotting the Data\n",
    "* Use proper labeling of the plots using plot titles (including date of analysis) and axes labels.\n",
    "* Save the plotted figures as .pngs."
   ]
  },
  {
   "cell_type": "markdown",
   "metadata": {},
   "source": [
    "## Latitude vs. Temperature Plot"
   ]
  },
  {
   "cell_type": "code",
   "execution_count": 19,
   "metadata": {
    "scrolled": true
   },
   "outputs": [
    {
     "data": {
      "image/png": "[encoded data removed]",
      "text/plain": [
       "<Figure size 432x288 with 1 Axes>"
      ]
     },
     "metadata": {
      "needs_background": "light"
     },
     "output_type": "display_data"
    },
    {
     "name": "stdout",
     "output_type": "stream",
     "text": [
      "This graph shows how the temperature is related to the lattitude. In the both hemispheres,\n",
      "the closer you are to the equator (lattitude 0), the higher your temperature. In the Northern hemisphere,\n",
      "since it is winter, it gets much colder as you go closer to the North pole, while in the Southern hemisphere\n",
      "since it is summer, the change is not as drastic. Also, there are not any cities that could be pulled close\n",
      "to the South Pole since there are no cities in Antarctica.\n"
     ]
    }
   ],
   "source": [
    "import scipy.stats as st\n",
    "plt.scatter(lat,temp)\n",
    "plt.xlabel('Lattitude')\n",
    "plt.ylabel('Temperature (F)')\n",
    "\n",
    "plt.show()\n",
    "print(f'This graph shows how the temperature is related to the lattitude. In the both hemispheres,')\n",
    "print(f'the closer you are to the equator (lattitude 0), the higher your temperature. In the Northern hemisphere,')\n",
    "print(f'since it is winter, it gets much colder as you go closer to the North pole, while in the Southern hemisphere')\n",
    "print(f'since it is summer, the change is not as drastic. Also, there are not any cities that could be pulled close')\n",
    "print('to the South Pole since there are no cities in Antarctica.')"
   ]
  },
  {
   "cell_type": "markdown",
   "metadata": {},
   "source": [
    "## Latitude vs. Humidity Plot"
   ]
  },
  {
   "cell_type": "code",
   "execution_count": 17,
   "metadata": {},
   "outputs": [
    {
     "data": {
      "image/png": "[encoded data removed]",
      "text/plain": [
       "<Figure size 432x288 with 1 Axes>"
      ]
     },
     "metadata": {
      "needs_background": "light"
     },
     "output_type": "display_data"
    },
    {
     "name": "stdout",
     "output_type": "stream",
     "text": [
      "This graph shows that the humidity and lattitude of each city that was analyzed. Since humidity typically\n",
      "deals with one of two things, how close you are to the coast or what your daily weather is, more than lattitude,\n",
      "this variabilty is not surprising.\n"
     ]
    }
   ],
   "source": [
    "plt.scatter(lat,humidity)\n",
    "plt.xlabel('Lattitude')\n",
    "plt.ylabel('Humidity')\n",
    "\n",
    "plt.show()\n",
    "print(f'This graph shows that the humidity and lattitude of each city that was analyzed. Since humidity typically')\n",
    "print(f'deals with one of two things, how close you are to the coast or what your daily weather is, more than lattitude,')\n",
    "print(f'this variabilty is not surprising.')"
   ]
  },
  {
   "cell_type": "markdown",
   "metadata": {},
   "source": [
    "## Latitude vs. Cloudiness Plot"
   ]
  },
  {
   "cell_type": "code",
   "execution_count": 21,
   "metadata": {},
   "outputs": [
    {
     "data": {
      "image/png": "[encoded data removed]",
      "text/plain": [
       "<Figure size 432x288 with 1 Axes>"
      ]
     },
     "metadata": {
      "needs_background": "light"
     },
     "output_type": "display_data"
    },
    {
     "name": "stdout",
     "output_type": "stream",
     "text": [
      "This plot analyzes cloudiness and lattitude. It seems to imply that most of the cloudiness is measure by percent\n",
      "cloud cover which is why there are lines at each of the multiples of 20 or 25. It is easy to measure by saying 20\n",
      "or 25 percent cloud cover.\n"
     ]
    }
   ],
   "source": [
    "plt.scatter(lat, cloud)\n",
    "plt.xlabel('Lattitude')\n",
    "plt.ylabel('Cloudiness')\n",
    "\n",
    "plt.show()\n",
    "print(f'This plot analyzes cloudiness and lattitude. It seems to imply that most of the cloudiness is measure by percent')\n",
    "print(f'cloud cover which is why there are lines at each of the multiples of 20 or 25. It is easy to measure by saying 20')\n",
    "print(f'or 25 percent cloud cover.')"
   ]
  },
  {
   "cell_type": "markdown",
   "metadata": {},
   "source": [
    "## Latitude vs. Wind Speed Plot"
   ]
  },
  {
   "cell_type": "code",
   "execution_count": 25,
   "metadata": {},
   "outputs": [
    {
     "data": {
      "image/png": "[encoded data removed]",
      "text/plain": [
       "<Figure size 432x288 with 1 Axes>"
      ]
     },
     "metadata": {
      "needs_background": "light"
     },
     "output_type": "display_data"
    },
    {
     "name": "stdout",
     "output_type": "stream",
     "text": [
      "This plot shows wind speeds as it correlates to lattitude. While there are some interesting standouts, this will not\n",
      "show the typical correlation most people will look for. Winds tend to be stronger along certain latitude lines, but\n",
      "since they are also a factor of day to day weather, they do not tend to stand out the way people look for them.\n",
      "You can see some groupings and some higher winds along those lattitude lines where the winds are usually stronger,\n",
      "such as between the 35 and 55 degree lines, and lighter winds near the equator, but so many other factors are at play\n",
      "it is hard to really tell what is going on.\n"
     ]
    }
   ],
   "source": [
    "plt.scatter(lat,wind)\n",
    "plt.xlabel('Lattitude')\n",
    "plt.ylabel('Wind Speed (mph)')\n",
    "\n",
    "plt.show()\n",
    "print(f'This plot shows wind speeds as it correlates to lattitude. While there are some interesting standouts, this will not')\n",
    "print(f'show the typical correlation most people will look for. Winds tend to be stronger along certain latitude lines, but')\n",
    "print(f'since they are also a factor of day to day weather, they do not tend to stand out the way people look for them.')\n",
    "print(f'You can see some groupings and some higher winds along those lattitude lines where the winds are usually stronger,')\n",
    "print(f'such as between the 35 and 55 degree lines, and lighter winds near the equator, but so many other factors are at play')\n",
    "print(f'it is hard to really tell what is going on.')"
   ]
  },
  {
   "cell_type": "markdown",
   "metadata": {},
   "source": [
    "## Linear Regression"
   ]
  },
  {
   "cell_type": "markdown",
   "metadata": {},
   "source": [
    "####  Northern Hemisphere - Max Temp vs. Latitude Linear Regression"
   ]
  },
  {
   "cell_type": "code",
   "execution_count": 27,
   "metadata": {},
   "outputs": [
    {
     "data": {
      "image/png": "[encoded data removed]",
      "text/plain": [
       "<Figure size 432x288 with 1 Axes>"
      ]
     },
     "metadata": {
      "needs_background": "light"
     },
     "output_type": "display_data"
    },
    {
     "name": "stdout",
     "output_type": "stream",
     "text": [
      "This graph shows a negative correlation between temperature and lattitude. As you move further away from the\n",
      "equator, the temperature goes down. As it is winter in the Northern Hemisphere, this is to be expected.\n"
     ]
    }
   ],
   "source": [
    "northern_hem_df = weather_data_df.loc[weather_data_df['lat']>0]\n",
    "x_values =northern_hem_df['lat']\n",
    "y_values = northern_hem_df['temp']\n",
    "(slope, intercept, rvalue, pvalue, stderr) = linregress(x_values, y_values)\n",
    "regress_values = x_values * slope + intercept\n",
    "# line_eq = \"y = \" + str(round(slope,2)) + \"x + \" + str(round(intercept,2))\n",
    "line_eq = f\"y= {slope:.2f}x {'+' if intercept > 0 else ''} {intercept:.2f}\"\n",
    "plt.scatter(x_values,y_values)\n",
    "plt.plot(x_values,regress_values,\"r-\")\n",
    "plt.annotate(line_eq,(4,-20),fontsize=15,color=\"red\")\n",
    "plt.xlabel('Northern Hemisphere Lattitude')\n",
    "plt.ylabel('Maximum Temperature')\n",
    "plt.show()\n",
    "print(f'This graph shows a negative correlation between temperature and lattitude. As you move further away from the')\n",
    "print(f'equator, the temperature goes down. As it is winter in the Northern Hemisphere, this is to be expected.')"
   ]
  },
  {
   "cell_type": "markdown",
   "metadata": {},
   "source": [
    "####  Southern Hemisphere - Max Temp vs. Latitude Linear Regression"
   ]
  },
  {
   "cell_type": "code",
   "execution_count": 29,
   "metadata": {},
   "outputs": [
    {
     "data": {
      "image/png": "[encoded data removed]",
      "text/plain": [
       "<Figure size 432x288 with 1 Axes>"
      ]
     },
     "metadata": {
      "needs_background": "light"
     },
     "output_type": "display_data"
    },
    {
     "name": "stdout",
     "output_type": "stream",
     "text": [
      "This graph does not show as much of a correlation as the one for the Northern Hemisphere, which also makes sense,\n",
      "considering it is summer in the Southern Hemisphere. For Earth, the Sun is directly overhead at 23.5 degrees South\n",
      "of the equator, which is why the temperatures go up from the more negative (closer to the poles) lattitudes towards\n",
      "the 23.5 degrees, and then some of the temperatures start to decrease slightly.\n"
     ]
    }
   ],
   "source": [
    "southern_hem_df = weather_data_df.loc[weather_data_df['lat']<0]\n",
    "x_values =southern_hem_df['lat']\n",
    "y_values = southern_hem_df['temp']\n",
    "(slope, intercept, rvalue, pvalue, stderr) = linregress(x_values, y_values)\n",
    "regress_values = x_values * slope + intercept\n",
    "# line_eq = \"y = \" + str(round(slope,2)) + \"x + \" + str(round(intercept,2))\n",
    "line_eq = f\"y= {slope:.2f}x {'+' if intercept > 0 else ''} {intercept:.2f}\"\n",
    "plt.scatter(x_values,y_values)\n",
    "plt.plot(x_values,regress_values,\"r-\")\n",
    "plt.annotate(line_eq,(-55,87),fontsize=15,color=\"red\")\n",
    "plt.xlabel('Southern Hemisphere Lattitude')\n",
    "plt.ylabel('Maximum Temperature')\n",
    "plt.show()\n",
    "print(f'This graph does not show as much of a correlation as the one for the Northern Hemisphere, which also makes sense,')\n",
    "print(f'considering it is summer in the Southern Hemisphere. For Earth, the Sun is directly overhead at 23.5 degrees South')\n",
    "print(f'of the equator, which is why the temperatures go up from the more negative (closer to the poles) lattitudes towards')\n",
    "print(f'the 23.5 degrees, and then some of the temperatures start to decrease slightly.')"
   ]
  },
  {
   "cell_type": "markdown",
   "metadata": {},
   "source": [
    "####  Northern Hemisphere - Humidity (%) vs. Latitude Linear Regression"
   ]
  },
  {
   "cell_type": "code",
   "execution_count": 31,
   "metadata": {},
   "outputs": [
    {
     "data": {
      "image/png": "[encoded data removed]",
      "text/plain": [
       "<Figure size 432x288 with 1 Axes>"
      ]
     },
     "metadata": {
      "needs_background": "light"
     },
     "output_type": "display_data"
    },
    {
     "name": "stdout",
     "output_type": "stream",
     "text": [
      "This graph shows a correlation between humidity and the distance from the equator. Since warm air can hold more\n",
      "moisture, there is a much wider variety of humidities near the equator than closer to the poles. Since other variables\n",
      "also affect humidity, how close you are to the coast or if you have rain that day because of a storm, the range in\n",
      "humidity near the equator can be expected.\n"
     ]
    }
   ],
   "source": [
    "northern_hem_df = weather_data_df.loc[weather_data_df['lat']>0]\n",
    "x_values =northern_hem_df['lat']\n",
    "y_values = northern_hem_df['humidity']\n",
    "(slope, intercept, rvalue, pvalue, stderr) = linregress(x_values, y_values)\n",
    "regress_values = x_values * slope + intercept\n",
    "# line_eq = \"y = \" + str(round(slope,2)) + \"x + \" + str(round(intercept,2))\n",
    "line_eq = f\"y= {slope:.2f}x {'+' if intercept > 0 else ''} {intercept:.2f}\"\n",
    "plt.scatter(x_values,y_values)\n",
    "plt.plot(x_values,regress_values,\"r-\")\n",
    "plt.annotate(line_eq,(50,10),fontsize=10,color=\"red\")\n",
    "plt.xlabel('Northern Hemisphere Lattitude')\n",
    "plt.ylabel('Humidity')\n",
    "plt.show()\n",
    "print(f'This graph shows a correlation between humidity and the distance from the equator. Since warm air can hold more')\n",
    "print(f'moisture, there is a much wider variety of humidities near the equator than closer to the poles. Since other variables')\n",
    "print(f'also affect humidity, how close you are to the coast or if you have rain that day because of a storm, the range in')\n",
    "print(f'humidity near the equator can be expected.')"
   ]
  },
  {
   "cell_type": "markdown",
   "metadata": {},
   "source": [
    "####  Southern Hemisphere - Humidity (%) vs. Latitude Linear Regression"
   ]
  },
  {
   "cell_type": "code",
   "execution_count": 33,
   "metadata": {},
   "outputs": [
    {
     "data": {
      "image/png": "[encoded data removed]",
      "text/plain": [
       "<Figure size 432x288 with 1 Axes>"
      ]
     },
     "metadata": {
      "needs_background": "light"
     },
     "output_type": "display_data"
    },
    {
     "name": "stdout",
     "output_type": "stream",
     "text": [
      "This graph shows less correlation between humidity and lattitude than the Northern Hemisphere, although the humidity\n",
      "is much higher near the equator overall since the warmer air can hold more moisture.\n"
     ]
    }
   ],
   "source": [
    "southern_hem_df = weather_data_df.loc[weather_data_df['lat']<0]\n",
    "x_values =southern_hem_df['lat']\n",
    "y_values = southern_hem_df['humidity']\n",
    "(slope, intercept, rvalue, pvalue, stderr) = linregress(x_values, y_values)\n",
    "regress_values = x_values * slope + intercept\n",
    "# line_eq = \"y = \" + str(round(slope,2)) + \"x + \" + str(round(intercept,2))\n",
    "line_eq = f\"y= {slope:.2f}x {'+' if intercept > 0 else ''} {intercept:.2f}\"\n",
    "plt.scatter(x_values,y_values)\n",
    "plt.plot(x_values,regress_values,\"r-\")\n",
    "plt.annotate(line_eq,(-55,25),fontsize=15,color=\"red\")\n",
    "plt.xlabel('Southern Hemisphere Lattitude')\n",
    "plt.ylabel('Humidity')\n",
    "plt.show()\n",
    "print(f'This graph shows less correlation between humidity and lattitude than the Northern Hemisphere, although the humidity')\n",
    "print(f'is much higher near the equator overall since the warmer air can hold more moisture.')"
   ]
  },
  {
   "cell_type": "markdown",
   "metadata": {},
   "source": [
    "####  Northern Hemisphere - Cloudiness (%) vs. Latitude Linear Regression"
   ]
  },
  {
   "cell_type": "code",
   "execution_count": 35,
   "metadata": {},
   "outputs": [
    {
     "data": {
      "image/png": "[encoded data removed]",
      "text/plain": [
       "<Figure size 432x288 with 1 Axes>"
      ]
     },
     "metadata": {
      "needs_background": "light"
     },
     "output_type": "display_data"
    },
    {
     "name": "stdout",
     "output_type": "stream",
     "text": [
      "This graph shows little correlation between cloud cover and lattitude. There seems to be mostly just 100 percent\n",
      "or 0 percent cloud cover\n"
     ]
    }
   ],
   "source": [
    "northern_hem_df = weather_data_df.loc[weather_data_df['lat']>0]\n",
    "x_values =northern_hem_df['lat']\n",
    "y_values = northern_hem_df['cloud']\n",
    "(slope, intercept, rvalue, pvalue, stderr) = linregress(x_values, y_values)\n",
    "regress_values = x_values * slope + intercept\n",
    "# line_eq = \"y = \" + str(round(slope,2)) + \"x + \" + str(round(intercept,2))\n",
    "line_eq = f\"y= {slope:.2f}x {'+' if intercept > 0 else ''} {intercept:.2f}\"\n",
    "plt.scatter(x_values,y_values)\n",
    "plt.plot(x_values,regress_values,\"r-\")\n",
    "plt.annotate(line_eq,(55, 25),fontsize=10,color=\"red\")\n",
    "plt.xlabel('Northern Hemisphere Lattitude')\n",
    "plt.ylabel('Cloudiness (%)')\n",
    "plt.show()\n",
    "print(f'This graph shows little correlation between cloud cover and lattitude. There seems to be mostly just 100 percent')\n",
    "print(f'or 0 percent cloud cover')"
   ]
  },
  {
   "cell_type": "markdown",
   "metadata": {},
   "source": [
    "####  Southern Hemisphere - Cloudiness (%) vs. Latitude Linear Regression"
   ]
  },
  {
   "cell_type": "code",
   "execution_count": 36,
   "metadata": {},
   "outputs": [
    {
     "data": {
      "image/png": "[encoded data removed]",
      "text/plain": [
       "<Figure size 432x288 with 1 Axes>"
      ]
     },
     "metadata": {
      "needs_background": "light"
     },
     "output_type": "display_data"
    }
   ],
   "source": [
    "southern_hem_df = weather_data_df.loc[weather_data_df['lat']<0]\n",
    "x_values =southern_hem_df['lat']\n",
    "y_values = southern_hem_df['cloud']\n",
    "(slope, intercept, rvalue, pvalue, stderr) = linregress(x_values, y_values)\n",
    "regress_values = x_values * slope + intercept\n",
    "# line_eq = \"y = \" + str(round(slope,2)) + \"x + \" + str(round(intercept,2))\n",
    "line_eq = f\"y= {slope:.2f}x {'+' if intercept > 0 else ''} {intercept:.2f}\"\n",
    "plt.scatter(x_values,y_values)\n",
    "plt.plot(x_values,regress_values,\"r-\")\n",
    "plt.annotate(line_eq,(-55,60),fontsize=10,color=\"red\")\n",
    "plt.xlabel('Southern Hemisphere Lattitude')\n",
    "plt.ylabel('Cloudiness (%)')\n",
    "plt.show()\n",
    "print(f'This graph shows less cloud cover than in the Northern Hemisphere overall. There are not as many places where there')\n",
    "print(f'are completely cloudless skies, but there is a wide range of various cloud cover in the Southern Hemisphere.)"
   ]
  },
  {
   "cell_type": "markdown",
   "metadata": {},
   "source": [
    "####  Northern Hemisphere - Wind Speed (mph) vs. Latitude Linear Regression"
   ]
  },
  {
   "cell_type": "code",
   "execution_count": 38,
   "metadata": {},
   "outputs": [
    {
     "data": {
      "image/png": "[encoded data removed]",
      "text/plain": [
       "<Figure size 432x288 with 1 Axes>"
      ]
     },
     "metadata": {
      "needs_background": "light"
     },
     "output_type": "display_data"
    },
    {
     "name": "stdout",
     "output_type": "stream",
     "text": [
      "This graph shows that wind speeds are not really changed by distance from the equator for the Northern Hemisphere.\n"
     ]
    }
   ],
   "source": [
    "northern_hem_df = weather_data_df.loc[weather_data_df['lat']>0]\n",
    "x_values =northern_hem_df['lat']\n",
    "y_values = northern_hem_df['wind']\n",
    "(slope, intercept, rvalue, pvalue, stderr) = linregress(x_values, y_values)\n",
    "regress_values = x_values * slope + intercept\n",
    "# line_eq = \"y = \" + str(round(slope,2)) + \"x + \" + str(round(intercept,2))\n",
    "line_eq = f\"y= {slope:.2f}x {'+' if intercept > 0 else ''} {intercept:.2f}\"\n",
    "plt.scatter(x_values,y_values)\n",
    "plt.plot(x_values,regress_values,\"r-\")\n",
    "plt.annotate(line_eq,(4,40),fontsize=15,color=\"red\")\n",
    "plt.xlabel('Northern Hemisphere Lattitude')\n",
    "plt.ylabel('Wind Speed (mph)')\n",
    "plt.show()\n",
    "print(f'This graph shows that wind speeds are not really changed by distance from the equator for the Northern Hemisphere.')"
   ]
  },
  {
   "cell_type": "markdown",
   "metadata": {},
   "source": [
    "####  Southern Hemisphere - Wind Speed (mph) vs. Latitude Linear Regression"
   ]
  },
  {
   "cell_type": "code",
   "execution_count": 41,
   "metadata": {},
   "outputs": [
    {
     "data": {
      "image/png": "[encoded data removed]",
      "text/plain": [
       "<Figure size 432x288 with 1 Axes>"
      ]
     },
     "metadata": {
      "needs_background": "light"
     },
     "output_type": "display_data"
    },
    {
     "name": "stdout",
     "output_type": "stream",
     "text": [
      "This graph shows that the winds in the Southern Hemisphere tend to decrease as you get closer to the equator. Winds\n",
      "at the equator tend to be fairly calm unless there is a storm, so this makes sense.\n"
     ]
    }
   ],
   "source": [
    "southern_hem_df = weather_data_df.loc[weather_data_df['lat']<0]\n",
    "x_values =southern_hem_df['lat']\n",
    "y_values = southern_hem_df['wind']\n",
    "(slope, intercept, rvalue, pvalue, stderr) = linregress(x_values, y_values)\n",
    "regress_values = x_values * slope + intercept\n",
    "# line_eq = \"y = \" + str(round(slope,2)) + \"x + \" + str(round(intercept,2))\n",
    "line_eq = f\"y= {slope:.2f}x {'+' if intercept > 0 else ''} {intercept:.2f}\"\n",
    "plt.scatter(x_values,y_values)\n",
    "plt.plot(x_values,regress_values,\"r-\")\n",
    "plt.annotate(line_eq,(-55,18),fontsize=15,color=\"red\")\n",
    "plt.xlabel('Southern Hemisphere Lattitude')\n",
    "plt.ylabel('Wind Speed (mph)')\n",
    "plt.show()\n",
    "print(f'This graph shows that the winds in the Southern Hemisphere tend to decrease as you get closer to the equator. Winds')\n",
    "print(f'at the equator tend to be fairly calm unless there is a storm, so this makes sense.')"
   ]
  },
  {
   "cell_type": "code",
   "execution_count": null,
   "metadata": {},
   "outputs": [],
   "source": []
  }
 ],
 "metadata": {
  "anaconda-cloud": {},
  "kernel_info": {
   "name": "python3"
  },
  "kernelspec": {
   "display_name": "Python 3",
   "language": "python",
   "name": "python3"
  },
  "language_info": {
   "codemirror_mode": {
    "name": "ipython",
    "version": 3
   },
   "file_extension": ".py",
   "mimetype": "text/x-python",
   "name": "python",
   "nbconvert_exporter": "python",
   "pygments_lexer": "ipython3",
   "version": "3.9.2"
  },
  "latex_envs": {
   "LaTeX_envs_menu_present": true,
   "autoclose": false,
   "autocomplete": true,
   "bibliofile": "biblio.bib",
   "cite_by": "apalike",
   "current_citInitial": 1,
   "eqLabelWithNumbers": true,
   "eqNumInitial": 1,
   "hotkeys": {
    "equation": "Ctrl-E",
    "itemize": "Ctrl-I"
   },
   "labels_anchors": false,
   "latex_user_defs": false,
   "report_style_numbering": false,
   "user_envs_cfg": false
  },
  "nteract": {
   "version": "0.12.3"
  }
 },
 "nbformat": 4,
 "nbformat_minor": 4
}
